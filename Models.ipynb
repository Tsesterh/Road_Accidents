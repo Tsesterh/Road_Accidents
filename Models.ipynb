{
 "cells": [
  {
   "cell_type": "code",
   "execution_count": 60,
   "outputs": [],
   "source": [
    "import pandas as pd\n",
    "import numpy as np\n",
    "import matplotlib.pyplot as plt\n",
    "from sklearn.compose import ColumnTransformer\n",
    "from sklearn.preprocessing import OneHotEncoder\n",
    "from sklearn.preprocessing import OneHotEncoder\n",
    "from sklearn.model_selection import train_test_split\n",
    "from sklearn.linear_model import LogisticRegression\n",
    "from sklearn.metrics import accuracy_score\n",
    "from sklearn.metrics import f1_score\n",
    "from sklearn.metrics import confusion_matrix\n",
    "from sklearn.metrics import precision_score,recall_score\n",
    "from sklearn.tree import DecisionTreeRegressor\n",
    "from sklearn.ensemble import RandomForestClassifier\n",
    "#import eli5\n",
    "#from eli5.sklearn import PermutationImportance\n",
    "from sklearn.metrics import confusion_matrix\n",
    "from sklearn.metrics import classification_report\n",
    "#import the MLPClassifier from neural_network from sklearn\n",
    "from sklearn.neural_network import MLPClassifier\n",
    "#import the pipeline from sklearn\n",
    "from sklearn.pipeline import Pipeline\n",
    "from sklearn.neighbors import NearestNeighbors\n",
    "from imblearn.under_sampling import RandomUnderSampler\n",
    "from imblearn.over_sampling import RandomOverSampler\n",
    "import matplotlib.pyplot as plt\n",
    "from sklearn.preprocessing import StandardScaler\n",
    "from sklearn.neighbors import KNeighborsClassifier\n",
    "from sklearn.feature_selection import RFE"
   ],
   "metadata": {
    "collapsed": false,
    "pycharm": {
     "name": "#%%\n"
    }
   }
  },
  {
   "cell_type": "code",
   "execution_count": 61,
   "outputs": [
    {
     "data": {
      "text/plain": "   number_of_vehicles  number_of_casualties  month  day_of_week    time  \\\n0                   2                     1     11            2  1220.0   \n1                   2                     1     11            4   710.0   \n2                   2                     1     11            2  1171.0   \n3                   2                     1     11            2  1153.0   \n4                   2                     1     11            2   994.0   \n\n   first_road_class  road_type  speed_limit  junction_detail  \\\n0                 5          6           20                0   \n1                 5          6           30                3   \n2                 3          2           20                3   \n3                 5          6           30                0   \n4                 3         -1           20                5   \n\n   junction_control  ...  vehicle_leaving_carriageway  \\\n0                -1  ...                            0   \n1                 4  ...                           -1   \n2                 2  ...                            0   \n3                -1  ...                            0   \n4                 4  ...                           -1   \n\n   hit_object_off_carriageway  first_point_of_impact  sex_of_driver  \\\n0                           0                      3              1   \n1                          -1                     -1              1   \n2                           0                      2              1   \n3                           0                      4              1   \n4                          -1                      1              2   \n\n   age_band_of_driver  engine_capacity_cc  propulsion_code  age_of_vehicle  \\\n0                   5                 113                1               4   \n1                   4                 125                1               4   \n2                   7                 125                1               0   \n3                   7                 124                1               7   \n4                   5                 125                1               6   \n\n   driver_imd_decile  driver_home_area_type  \n0                 -1                     -1  \n1                  1                      1  \n2                  3                      1  \n3                  6                      1  \n4                  7                      1  \n\n[5 rows x 41 columns]",
      "text/html": "<div>\n<style scoped>\n    .dataframe tbody tr th:only-of-type {\n        vertical-align: middle;\n    }\n\n    .dataframe tbody tr th {\n        vertical-align: top;\n    }\n\n    .dataframe thead th {\n        text-align: right;\n    }\n</style>\n<table border=\"1\" class=\"dataframe\">\n  <thead>\n    <tr style=\"text-align: right;\">\n      <th></th>\n      <th>number_of_vehicles</th>\n      <th>number_of_casualties</th>\n      <th>month</th>\n      <th>day_of_week</th>\n      <th>time</th>\n      <th>first_road_class</th>\n      <th>road_type</th>\n      <th>speed_limit</th>\n      <th>junction_detail</th>\n      <th>junction_control</th>\n      <th>...</th>\n      <th>vehicle_leaving_carriageway</th>\n      <th>hit_object_off_carriageway</th>\n      <th>first_point_of_impact</th>\n      <th>sex_of_driver</th>\n      <th>age_band_of_driver</th>\n      <th>engine_capacity_cc</th>\n      <th>propulsion_code</th>\n      <th>age_of_vehicle</th>\n      <th>driver_imd_decile</th>\n      <th>driver_home_area_type</th>\n    </tr>\n  </thead>\n  <tbody>\n    <tr>\n      <th>0</th>\n      <td>2</td>\n      <td>1</td>\n      <td>11</td>\n      <td>2</td>\n      <td>1220.0</td>\n      <td>5</td>\n      <td>6</td>\n      <td>20</td>\n      <td>0</td>\n      <td>-1</td>\n      <td>...</td>\n      <td>0</td>\n      <td>0</td>\n      <td>3</td>\n      <td>1</td>\n      <td>5</td>\n      <td>113</td>\n      <td>1</td>\n      <td>4</td>\n      <td>-1</td>\n      <td>-1</td>\n    </tr>\n    <tr>\n      <th>1</th>\n      <td>2</td>\n      <td>1</td>\n      <td>11</td>\n      <td>4</td>\n      <td>710.0</td>\n      <td>5</td>\n      <td>6</td>\n      <td>30</td>\n      <td>3</td>\n      <td>4</td>\n      <td>...</td>\n      <td>-1</td>\n      <td>-1</td>\n      <td>-1</td>\n      <td>1</td>\n      <td>4</td>\n      <td>125</td>\n      <td>1</td>\n      <td>4</td>\n      <td>1</td>\n      <td>1</td>\n    </tr>\n    <tr>\n      <th>2</th>\n      <td>2</td>\n      <td>1</td>\n      <td>11</td>\n      <td>2</td>\n      <td>1171.0</td>\n      <td>3</td>\n      <td>2</td>\n      <td>20</td>\n      <td>3</td>\n      <td>2</td>\n      <td>...</td>\n      <td>0</td>\n      <td>0</td>\n      <td>2</td>\n      <td>1</td>\n      <td>7</td>\n      <td>125</td>\n      <td>1</td>\n      <td>0</td>\n      <td>3</td>\n      <td>1</td>\n    </tr>\n    <tr>\n      <th>3</th>\n      <td>2</td>\n      <td>1</td>\n      <td>11</td>\n      <td>2</td>\n      <td>1153.0</td>\n      <td>5</td>\n      <td>6</td>\n      <td>30</td>\n      <td>0</td>\n      <td>-1</td>\n      <td>...</td>\n      <td>0</td>\n      <td>0</td>\n      <td>4</td>\n      <td>1</td>\n      <td>7</td>\n      <td>124</td>\n      <td>1</td>\n      <td>7</td>\n      <td>6</td>\n      <td>1</td>\n    </tr>\n    <tr>\n      <th>4</th>\n      <td>2</td>\n      <td>1</td>\n      <td>11</td>\n      <td>2</td>\n      <td>994.0</td>\n      <td>3</td>\n      <td>-1</td>\n      <td>20</td>\n      <td>5</td>\n      <td>4</td>\n      <td>...</td>\n      <td>-1</td>\n      <td>-1</td>\n      <td>1</td>\n      <td>2</td>\n      <td>5</td>\n      <td>125</td>\n      <td>1</td>\n      <td>6</td>\n      <td>7</td>\n      <td>1</td>\n    </tr>\n  </tbody>\n</table>\n<p>5 rows × 41 columns</p>\n</div>"
     },
     "execution_count": 61,
     "metadata": {},
     "output_type": "execute_result"
    }
   ],
   "source": [
    "estimators = []\n",
    "\n",
    "ac = pd.read_csv('accidents_preprocessed.csv')\n",
    "ac = ac.drop(columns=['location_easting_osgr', 'location_northing_osgr', 'longitude', 'latitude'])\n",
    "ac.head()"
   ],
   "metadata": {
    "collapsed": false,
    "pycharm": {
     "name": "#%%\n"
    }
   }
  },
  {
   "cell_type": "markdown",
   "source": [
    "### Preprocess Target class casualty_severity\n",
    "#### -Note:  Fatal and Serious together in one class and slight in the other"
   ],
   "metadata": {
    "collapsed": false
   }
  },
  {
   "cell_type": "code",
   "execution_count": 62,
   "outputs": [
    {
     "data": {
      "text/plain": "       number_of_vehicles  number_of_casualties  month  day_of_week    time  \\\n0                       2                     1     11            2  1220.0   \n1                       2                     1     11            4   710.0   \n12                      2                     1     11            3   165.0   \n13                      2                     1     11            3   287.0   \n14                      2                     1     11            3   545.0   \n...                   ...                   ...    ...          ...     ...   \n68795                   1                     3      7            7    30.0   \n68797                   1                     3      7            7    30.0   \n68799                   2                     1      7            7   960.0   \n68803                   1                     1      7            7  1169.0   \n68804                   3                     1      7            7   805.0   \n\n       first_road_class  road_type  speed_limit  junction_detail  \\\n0                     5          6           20                0   \n1                     5          6           30                3   \n12                    3          6           20               -1   \n13                    3          6           30                6   \n14                    3          2           20               -1   \n...                 ...        ...          ...              ...   \n68795                 3          6           60                0   \n68797                 3          6           60                0   \n68799                -1          6           20                0   \n68803                 3          6           60                0   \n68804                 3          6           50                0   \n\n       junction_control  ...  vehicle_leaving_carriageway  \\\n0                    -1  ...                            0   \n1                     4  ...                           -1   \n12                    4  ...                            0   \n13                    2  ...                            0   \n14                    4  ...                            0   \n...                 ...  ...                          ...   \n68795                -1  ...                            0   \n68797                -1  ...                            0   \n68799                -1  ...                            0   \n68803                -1  ...                            0   \n68804                -1  ...                            1   \n\n       hit_object_off_carriageway  first_point_of_impact  sex_of_driver  \\\n0                               0                      3              1   \n1                              -1                     -1              1   \n12                              0                      1              1   \n13                              0                      1              1   \n14                              0                      4              1   \n...                           ...                    ...            ...   \n68795                           0                      0              2   \n68797                           0                      0              2   \n68799                           0                      3              2   \n68803                           0                      1              1   \n68804                           0                      1              1   \n\n       age_band_of_driver  engine_capacity_cc  propulsion_code  \\\n0                       5                 113                1   \n1                       4                 125                1   \n12                      7                1598                1   \n13                      7                 109                1   \n14                      6                 124                1   \n...                   ...                 ...              ...   \n68795                   4                1400                1   \n68797                   4                1400                1   \n68799                   9                1997                1   \n68803                   8                 998                1   \n68804                   8                1085                1   \n\n       age_of_vehicle  driver_imd_decile  driver_home_area_type  \n0                   4                 -1                     -1  \n1                   4                  1                      1  \n12                 16                  3                      1  \n13                  5                  2                      1  \n14                  0                  5                      1  \n...               ...                ...                    ...  \n68795              15                  7                      3  \n68797              15                  7                      3  \n68799              13                  5                      2  \n68803              20                 10                      1  \n68804              21                 10                      1  \n\n[11599 rows x 41 columns]",
      "text/html": "<div>\n<style scoped>\n    .dataframe tbody tr th:only-of-type {\n        vertical-align: middle;\n    }\n\n    .dataframe tbody tr th {\n        vertical-align: top;\n    }\n\n    .dataframe thead th {\n        text-align: right;\n    }\n</style>\n<table border=\"1\" class=\"dataframe\">\n  <thead>\n    <tr style=\"text-align: right;\">\n      <th></th>\n      <th>number_of_vehicles</th>\n      <th>number_of_casualties</th>\n      <th>month</th>\n      <th>day_of_week</th>\n      <th>time</th>\n      <th>first_road_class</th>\n      <th>road_type</th>\n      <th>speed_limit</th>\n      <th>junction_detail</th>\n      <th>junction_control</th>\n      <th>...</th>\n      <th>vehicle_leaving_carriageway</th>\n      <th>hit_object_off_carriageway</th>\n      <th>first_point_of_impact</th>\n      <th>sex_of_driver</th>\n      <th>age_band_of_driver</th>\n      <th>engine_capacity_cc</th>\n      <th>propulsion_code</th>\n      <th>age_of_vehicle</th>\n      <th>driver_imd_decile</th>\n      <th>driver_home_area_type</th>\n    </tr>\n  </thead>\n  <tbody>\n    <tr>\n      <th>0</th>\n      <td>2</td>\n      <td>1</td>\n      <td>11</td>\n      <td>2</td>\n      <td>1220.0</td>\n      <td>5</td>\n      <td>6</td>\n      <td>20</td>\n      <td>0</td>\n      <td>-1</td>\n      <td>...</td>\n      <td>0</td>\n      <td>0</td>\n      <td>3</td>\n      <td>1</td>\n      <td>5</td>\n      <td>113</td>\n      <td>1</td>\n      <td>4</td>\n      <td>-1</td>\n      <td>-1</td>\n    </tr>\n    <tr>\n      <th>1</th>\n      <td>2</td>\n      <td>1</td>\n      <td>11</td>\n      <td>4</td>\n      <td>710.0</td>\n      <td>5</td>\n      <td>6</td>\n      <td>30</td>\n      <td>3</td>\n      <td>4</td>\n      <td>...</td>\n      <td>-1</td>\n      <td>-1</td>\n      <td>-1</td>\n      <td>1</td>\n      <td>4</td>\n      <td>125</td>\n      <td>1</td>\n      <td>4</td>\n      <td>1</td>\n      <td>1</td>\n    </tr>\n    <tr>\n      <th>12</th>\n      <td>2</td>\n      <td>1</td>\n      <td>11</td>\n      <td>3</td>\n      <td>165.0</td>\n      <td>3</td>\n      <td>6</td>\n      <td>20</td>\n      <td>-1</td>\n      <td>4</td>\n      <td>...</td>\n      <td>0</td>\n      <td>0</td>\n      <td>1</td>\n      <td>1</td>\n      <td>7</td>\n      <td>1598</td>\n      <td>1</td>\n      <td>16</td>\n      <td>3</td>\n      <td>1</td>\n    </tr>\n    <tr>\n      <th>13</th>\n      <td>2</td>\n      <td>1</td>\n      <td>11</td>\n      <td>3</td>\n      <td>287.0</td>\n      <td>3</td>\n      <td>6</td>\n      <td>30</td>\n      <td>6</td>\n      <td>2</td>\n      <td>...</td>\n      <td>0</td>\n      <td>0</td>\n      <td>1</td>\n      <td>1</td>\n      <td>7</td>\n      <td>109</td>\n      <td>1</td>\n      <td>5</td>\n      <td>2</td>\n      <td>1</td>\n    </tr>\n    <tr>\n      <th>14</th>\n      <td>2</td>\n      <td>1</td>\n      <td>11</td>\n      <td>3</td>\n      <td>545.0</td>\n      <td>3</td>\n      <td>2</td>\n      <td>20</td>\n      <td>-1</td>\n      <td>4</td>\n      <td>...</td>\n      <td>0</td>\n      <td>0</td>\n      <td>4</td>\n      <td>1</td>\n      <td>6</td>\n      <td>124</td>\n      <td>1</td>\n      <td>0</td>\n      <td>5</td>\n      <td>1</td>\n    </tr>\n    <tr>\n      <th>...</th>\n      <td>...</td>\n      <td>...</td>\n      <td>...</td>\n      <td>...</td>\n      <td>...</td>\n      <td>...</td>\n      <td>...</td>\n      <td>...</td>\n      <td>...</td>\n      <td>...</td>\n      <td>...</td>\n      <td>...</td>\n      <td>...</td>\n      <td>...</td>\n      <td>...</td>\n      <td>...</td>\n      <td>...</td>\n      <td>...</td>\n      <td>...</td>\n      <td>...</td>\n      <td>...</td>\n    </tr>\n    <tr>\n      <th>68795</th>\n      <td>1</td>\n      <td>3</td>\n      <td>7</td>\n      <td>7</td>\n      <td>30.0</td>\n      <td>3</td>\n      <td>6</td>\n      <td>60</td>\n      <td>0</td>\n      <td>-1</td>\n      <td>...</td>\n      <td>0</td>\n      <td>0</td>\n      <td>0</td>\n      <td>2</td>\n      <td>4</td>\n      <td>1400</td>\n      <td>1</td>\n      <td>15</td>\n      <td>7</td>\n      <td>3</td>\n    </tr>\n    <tr>\n      <th>68797</th>\n      <td>1</td>\n      <td>3</td>\n      <td>7</td>\n      <td>7</td>\n      <td>30.0</td>\n      <td>3</td>\n      <td>6</td>\n      <td>60</td>\n      <td>0</td>\n      <td>-1</td>\n      <td>...</td>\n      <td>0</td>\n      <td>0</td>\n      <td>0</td>\n      <td>2</td>\n      <td>4</td>\n      <td>1400</td>\n      <td>1</td>\n      <td>15</td>\n      <td>7</td>\n      <td>3</td>\n    </tr>\n    <tr>\n      <th>68799</th>\n      <td>2</td>\n      <td>1</td>\n      <td>7</td>\n      <td>7</td>\n      <td>960.0</td>\n      <td>-1</td>\n      <td>6</td>\n      <td>20</td>\n      <td>0</td>\n      <td>-1</td>\n      <td>...</td>\n      <td>0</td>\n      <td>0</td>\n      <td>3</td>\n      <td>2</td>\n      <td>9</td>\n      <td>1997</td>\n      <td>1</td>\n      <td>13</td>\n      <td>5</td>\n      <td>2</td>\n    </tr>\n    <tr>\n      <th>68803</th>\n      <td>1</td>\n      <td>1</td>\n      <td>7</td>\n      <td>7</td>\n      <td>1169.0</td>\n      <td>3</td>\n      <td>6</td>\n      <td>60</td>\n      <td>0</td>\n      <td>-1</td>\n      <td>...</td>\n      <td>0</td>\n      <td>0</td>\n      <td>1</td>\n      <td>1</td>\n      <td>8</td>\n      <td>998</td>\n      <td>1</td>\n      <td>20</td>\n      <td>10</td>\n      <td>1</td>\n    </tr>\n    <tr>\n      <th>68804</th>\n      <td>3</td>\n      <td>1</td>\n      <td>7</td>\n      <td>7</td>\n      <td>805.0</td>\n      <td>3</td>\n      <td>6</td>\n      <td>50</td>\n      <td>0</td>\n      <td>-1</td>\n      <td>...</td>\n      <td>1</td>\n      <td>0</td>\n      <td>1</td>\n      <td>1</td>\n      <td>8</td>\n      <td>1085</td>\n      <td>1</td>\n      <td>21</td>\n      <td>10</td>\n      <td>1</td>\n    </tr>\n  </tbody>\n</table>\n<p>11599 rows × 41 columns</p>\n</div>"
     },
     "execution_count": 62,
     "metadata": {},
     "output_type": "execute_result"
    }
   ],
   "source": [
    "\n",
    "ac['casualty_severity'] = ac['casualty_severity'].replace(2, 1)\n",
    "ac['casualty_severity'] = ac['casualty_severity'].replace(3, 0)\n",
    "\n",
    "ac[ac.casualty_severity == 1]"
   ],
   "metadata": {
    "collapsed": false,
    "pycharm": {
     "name": "#%%\n"
    }
   }
  },
  {
   "cell_type": "code",
   "execution_count": 63,
   "outputs": [],
   "source": [
    "one_hot_list = ['first_road_class', 'road_type', 'junction_detail', 'junction_control', 'light_conditions',\n",
    "                'weather_conditions', 'road_surface_conditions', 'special_conditions_at_site', 'carriageway_hazards',\n",
    "                'urban_or_rural_area', 'trunk_road_flag', 'casualty_class', 'sex_of_casualty', 'car_passenger',\n",
    "                'casualty_type', 'casualty_home_area_type', 'casualty_imd_decile', 'towing_and_articulation',\n",
    "                'vehicle_manoeuvre', 'vehicle_location_restricted_lane', 'junction_location',\n",
    "                'skidding_and_overturning', 'hit_object_in_carriageway', 'vehicle_leaving_carriageway',\n",
    "                'hit_object_off_carriageway', 'first_point_of_impact', 'sex_of_driver', 'propulsion_code',\n",
    "                'driver_imd_decile', 'driver_home_area_type']\n",
    "\n",
    "#Maybe change speed limit\n",
    "ordinal_list = ['number_of_vehicles', 'number_of_casualties', 'month', 'day_of_week', 'time', 'speed_limit',\n",
    "                'age_band_of_casualty', 'age_band_of_driver', 'engine_capacity_cc', 'age_of_vehicle']"
   ],
   "metadata": {
    "collapsed": false,
    "pycharm": {
     "name": "#%%\n"
    }
   }
  },
  {
   "cell_type": "code",
   "execution_count": 64,
   "outputs": [
    {
     "data": {
      "text/plain": "   number_of_vehicles  number_of_casualties  month  day_of_week    time  \\\n0                   2                     1     11            2  1220.0   \n1                   2                     1     11            4   710.0   \n2                   2                     1     11            2  1171.0   \n3                   2                     1     11            2  1153.0   \n4                   2                     1     11            2   994.0   \n5                   2                     1     11            2   970.0   \n6                   2                     1     11            2  1226.0   \n7                   1                     1     11            2  1350.0   \n8                   2                     1     11            2  1123.0   \n9                   2                     1     11            2  1320.0   \n\n   first_road_class  road_type  speed_limit  junction_detail  \\\n0                 5          6           20                0   \n1                 5          6           30                3   \n2                 3          2           20                3   \n3                 5          6           30                0   \n4                 3         -1           20                5   \n5                -1          6           30                3   \n6                 4          6           20                3   \n7                 3          1           40                1   \n8                 5         -1           30                0   \n9                 5          6           30                3   \n\n   junction_control  ...  vehicle_leaving_carriageway  \\\n0                -1  ...                            0   \n1                 4  ...                           -1   \n2                 2  ...                            0   \n3                -1  ...                            0   \n4                 4  ...                           -1   \n5                 4  ...                            0   \n6                 2  ...                            0   \n7                 4  ...                            0   \n8                -1  ...                            0   \n9                 4  ...                            7   \n\n   hit_object_off_carriageway  first_point_of_impact  sex_of_driver  \\\n0                           0                      3              1   \n1                          -1                     -1              1   \n2                           0                      2              1   \n3                           0                      4              1   \n4                          -1                      1              2   \n5                           0                      3              1   \n6                           0                      1              1   \n7                           0                      1              1   \n8                           0                      1              1   \n9                           2                      3              2   \n\n   age_band_of_driver  engine_capacity_cc  propulsion_code  age_of_vehicle  \\\n0                   5                 113                1               4   \n1                   4                 125                1               4   \n2                   7                 125                1               0   \n3                   7                 124                1               7   \n4                   5                 125                1               6   \n5                   6                 998                1               3   \n6                   7                 125                1               0   \n7                   4                  -1               -1              -1   \n8                   7                  -1               -1              -1   \n9                   7                1499                2               2   \n\n   driver_imd_decile  driver_home_area_type  \n0                 -1                     -1  \n1                  1                      1  \n2                  3                      1  \n3                  6                      1  \n4                  7                      1  \n5                  2                      1  \n6                  5                      1  \n7                  6                      1  \n8                 -1                     -1  \n9                  1                      1  \n\n[10 rows x 41 columns]",
      "text/html": "<div>\n<style scoped>\n    .dataframe tbody tr th:only-of-type {\n        vertical-align: middle;\n    }\n\n    .dataframe tbody tr th {\n        vertical-align: top;\n    }\n\n    .dataframe thead th {\n        text-align: right;\n    }\n</style>\n<table border=\"1\" class=\"dataframe\">\n  <thead>\n    <tr style=\"text-align: right;\">\n      <th></th>\n      <th>number_of_vehicles</th>\n      <th>number_of_casualties</th>\n      <th>month</th>\n      <th>day_of_week</th>\n      <th>time</th>\n      <th>first_road_class</th>\n      <th>road_type</th>\n      <th>speed_limit</th>\n      <th>junction_detail</th>\n      <th>junction_control</th>\n      <th>...</th>\n      <th>vehicle_leaving_carriageway</th>\n      <th>hit_object_off_carriageway</th>\n      <th>first_point_of_impact</th>\n      <th>sex_of_driver</th>\n      <th>age_band_of_driver</th>\n      <th>engine_capacity_cc</th>\n      <th>propulsion_code</th>\n      <th>age_of_vehicle</th>\n      <th>driver_imd_decile</th>\n      <th>driver_home_area_type</th>\n    </tr>\n  </thead>\n  <tbody>\n    <tr>\n      <th>0</th>\n      <td>2</td>\n      <td>1</td>\n      <td>11</td>\n      <td>2</td>\n      <td>1220.0</td>\n      <td>5</td>\n      <td>6</td>\n      <td>20</td>\n      <td>0</td>\n      <td>-1</td>\n      <td>...</td>\n      <td>0</td>\n      <td>0</td>\n      <td>3</td>\n      <td>1</td>\n      <td>5</td>\n      <td>113</td>\n      <td>1</td>\n      <td>4</td>\n      <td>-1</td>\n      <td>-1</td>\n    </tr>\n    <tr>\n      <th>1</th>\n      <td>2</td>\n      <td>1</td>\n      <td>11</td>\n      <td>4</td>\n      <td>710.0</td>\n      <td>5</td>\n      <td>6</td>\n      <td>30</td>\n      <td>3</td>\n      <td>4</td>\n      <td>...</td>\n      <td>-1</td>\n      <td>-1</td>\n      <td>-1</td>\n      <td>1</td>\n      <td>4</td>\n      <td>125</td>\n      <td>1</td>\n      <td>4</td>\n      <td>1</td>\n      <td>1</td>\n    </tr>\n    <tr>\n      <th>2</th>\n      <td>2</td>\n      <td>1</td>\n      <td>11</td>\n      <td>2</td>\n      <td>1171.0</td>\n      <td>3</td>\n      <td>2</td>\n      <td>20</td>\n      <td>3</td>\n      <td>2</td>\n      <td>...</td>\n      <td>0</td>\n      <td>0</td>\n      <td>2</td>\n      <td>1</td>\n      <td>7</td>\n      <td>125</td>\n      <td>1</td>\n      <td>0</td>\n      <td>3</td>\n      <td>1</td>\n    </tr>\n    <tr>\n      <th>3</th>\n      <td>2</td>\n      <td>1</td>\n      <td>11</td>\n      <td>2</td>\n      <td>1153.0</td>\n      <td>5</td>\n      <td>6</td>\n      <td>30</td>\n      <td>0</td>\n      <td>-1</td>\n      <td>...</td>\n      <td>0</td>\n      <td>0</td>\n      <td>4</td>\n      <td>1</td>\n      <td>7</td>\n      <td>124</td>\n      <td>1</td>\n      <td>7</td>\n      <td>6</td>\n      <td>1</td>\n    </tr>\n    <tr>\n      <th>4</th>\n      <td>2</td>\n      <td>1</td>\n      <td>11</td>\n      <td>2</td>\n      <td>994.0</td>\n      <td>3</td>\n      <td>-1</td>\n      <td>20</td>\n      <td>5</td>\n      <td>4</td>\n      <td>...</td>\n      <td>-1</td>\n      <td>-1</td>\n      <td>1</td>\n      <td>2</td>\n      <td>5</td>\n      <td>125</td>\n      <td>1</td>\n      <td>6</td>\n      <td>7</td>\n      <td>1</td>\n    </tr>\n    <tr>\n      <th>5</th>\n      <td>2</td>\n      <td>1</td>\n      <td>11</td>\n      <td>2</td>\n      <td>970.0</td>\n      <td>-1</td>\n      <td>6</td>\n      <td>30</td>\n      <td>3</td>\n      <td>4</td>\n      <td>...</td>\n      <td>0</td>\n      <td>0</td>\n      <td>3</td>\n      <td>1</td>\n      <td>6</td>\n      <td>998</td>\n      <td>1</td>\n      <td>3</td>\n      <td>2</td>\n      <td>1</td>\n    </tr>\n    <tr>\n      <th>6</th>\n      <td>2</td>\n      <td>1</td>\n      <td>11</td>\n      <td>2</td>\n      <td>1226.0</td>\n      <td>4</td>\n      <td>6</td>\n      <td>20</td>\n      <td>3</td>\n      <td>2</td>\n      <td>...</td>\n      <td>0</td>\n      <td>0</td>\n      <td>1</td>\n      <td>1</td>\n      <td>7</td>\n      <td>125</td>\n      <td>1</td>\n      <td>0</td>\n      <td>5</td>\n      <td>1</td>\n    </tr>\n    <tr>\n      <th>7</th>\n      <td>1</td>\n      <td>1</td>\n      <td>11</td>\n      <td>2</td>\n      <td>1350.0</td>\n      <td>3</td>\n      <td>1</td>\n      <td>40</td>\n      <td>1</td>\n      <td>4</td>\n      <td>...</td>\n      <td>0</td>\n      <td>0</td>\n      <td>1</td>\n      <td>1</td>\n      <td>4</td>\n      <td>-1</td>\n      <td>-1</td>\n      <td>-1</td>\n      <td>6</td>\n      <td>1</td>\n    </tr>\n    <tr>\n      <th>8</th>\n      <td>2</td>\n      <td>1</td>\n      <td>11</td>\n      <td>2</td>\n      <td>1123.0</td>\n      <td>5</td>\n      <td>-1</td>\n      <td>30</td>\n      <td>0</td>\n      <td>-1</td>\n      <td>...</td>\n      <td>0</td>\n      <td>0</td>\n      <td>1</td>\n      <td>1</td>\n      <td>7</td>\n      <td>-1</td>\n      <td>-1</td>\n      <td>-1</td>\n      <td>-1</td>\n      <td>-1</td>\n    </tr>\n    <tr>\n      <th>9</th>\n      <td>2</td>\n      <td>1</td>\n      <td>11</td>\n      <td>2</td>\n      <td>1320.0</td>\n      <td>5</td>\n      <td>6</td>\n      <td>30</td>\n      <td>3</td>\n      <td>4</td>\n      <td>...</td>\n      <td>7</td>\n      <td>2</td>\n      <td>3</td>\n      <td>2</td>\n      <td>7</td>\n      <td>1499</td>\n      <td>2</td>\n      <td>2</td>\n      <td>1</td>\n      <td>1</td>\n    </tr>\n  </tbody>\n</table>\n<p>10 rows × 41 columns</p>\n</div>"
     },
     "execution_count": 64,
     "metadata": {},
     "output_type": "execute_result"
    }
   ],
   "source": [
    "#Reset the indices\n",
    "ac = ac.reset_index(drop=True)\n",
    "\n",
    "ac.head(n=10)\n"
   ],
   "metadata": {
    "collapsed": false,
    "pycharm": {
     "name": "#%%\n"
    }
   }
  },
  {
   "cell_type": "code",
   "execution_count": 65,
   "outputs": [],
   "source": [
    "accidents = ac.copy()\n",
    "\n",
    "#replace missing (-1) values\n",
    "from sklearn.impute import SimpleImputer\n",
    "imp = SimpleImputer(missing_values=-1, strategy='mean')\n",
    "\n",
    "y = accidents['casualty_severity']\n",
    "accidents = accidents.drop(columns=['casualty_severity'])\n",
    "\n",
    "one_hot_encoder = OneHotEncoder(sparse =True)\n",
    "scaler = StandardScaler()\n",
    "\n",
    "preprocessor = ColumnTransformer(\n",
    "    transformers=[\n",
    "        # use OneHotEncoder for Outlook and Wind\n",
    "        ('encoder', OneHotEncoder(), one_hot_list),\n",
    "        # use StandardScaler for Temperature and Humidity\n",
    "        ('scaler', StandardScaler(), ordinal_list)\n",
    "    ])\n",
    "\n",
    "pipe = Pipeline(steps=[(\"preprocessor\", preprocessor), (\"imputer\", imp), (\"estimator\", None)])"
   ],
   "metadata": {
    "collapsed": false,
    "pycharm": {
     "name": "#%%\n"
    }
   }
  },
  {
   "cell_type": "code",
   "execution_count": 66,
   "outputs": [
    {
     "data": {
      "text/plain": "       number_of_vehicles  number_of_casualties  month  day_of_week    time  \\\n0                       2                     1     11            2  1220.0   \n1                       2                     1     11            4   710.0   \n2                       2                     1     11            2  1171.0   \n3                       2                     1     11            2  1153.0   \n4                       2                     1     11            2   994.0   \n...                   ...                   ...    ...          ...     ...   \n68800                   2                     2      7            7  1082.0   \n68801                   2                     2      7            7  1082.0   \n68802                   2                     1      7            7  1065.0   \n68803                   1                     1      7            7  1169.0   \n68804                   3                     1      7            7   805.0   \n\n       first_road_class  road_type  speed_limit  junction_detail  \\\n0                     5          6           20                0   \n1                     5          6           30                3   \n2                     3          2           20                3   \n3                     5          6           30                0   \n4                     3         -1           20                5   \n...                 ...        ...          ...              ...   \n68800                 3          6           20                0   \n68801                 3          6           20                0   \n68802                 3          6           30                3   \n68803                 3          6           60                0   \n68804                 3          6           50                0   \n\n       junction_control  ...  vehicle_leaving_carriageway  \\\n0                    -1  ...                            0   \n1                     4  ...                           -1   \n2                     2  ...                            0   \n3                    -1  ...                            0   \n4                     4  ...                           -1   \n...                 ...  ...                          ...   \n68800                -1  ...                            0   \n68801                -1  ...                            0   \n68802                 4  ...                            0   \n68803                -1  ...                            0   \n68804                -1  ...                            1   \n\n       hit_object_off_carriageway  first_point_of_impact  sex_of_driver  \\\n0                               0                      3              1   \n1                              -1                     -1              1   \n2                               0                      2              1   \n3                               0                      4              1   \n4                              -1                      1              2   \n...                           ...                    ...            ...   \n68800                           0                      3              2   \n68801                           0                      1              1   \n68802                           0                      3              2   \n68803                           0                      1              1   \n68804                           0                      1              1   \n\n       age_band_of_driver  engine_capacity_cc  propulsion_code  \\\n0                       5                 113                1   \n1                       4                 125                1   \n2                       7                 125                1   \n3                       7                 124                1   \n4                       5                 125                1   \n...                   ...                 ...              ...   \n68800                   9                 998                1   \n68801                   7                 998                1   \n68802                   9                1498                1   \n68803                   8                 998                1   \n68804                   8                1085                1   \n\n       age_of_vehicle  driver_imd_decile  driver_home_area_type  \n0                   4                 -1                     -1  \n1                   4                  1                      1  \n2                   0                  3                      1  \n3                   7                  6                      1  \n4                   6                  7                      1  \n...               ...                ...                    ...  \n68800               2                  7                      1  \n68801               1                  8                      1  \n68802               1                  7                      1  \n68803              20                 10                      1  \n68804              21                 10                      1  \n\n[68805 rows x 40 columns]",
      "text/html": "<div>\n<style scoped>\n    .dataframe tbody tr th:only-of-type {\n        vertical-align: middle;\n    }\n\n    .dataframe tbody tr th {\n        vertical-align: top;\n    }\n\n    .dataframe thead th {\n        text-align: right;\n    }\n</style>\n<table border=\"1\" class=\"dataframe\">\n  <thead>\n    <tr style=\"text-align: right;\">\n      <th></th>\n      <th>number_of_vehicles</th>\n      <th>number_of_casualties</th>\n      <th>month</th>\n      <th>day_of_week</th>\n      <th>time</th>\n      <th>first_road_class</th>\n      <th>road_type</th>\n      <th>speed_limit</th>\n      <th>junction_detail</th>\n      <th>junction_control</th>\n      <th>...</th>\n      <th>vehicle_leaving_carriageway</th>\n      <th>hit_object_off_carriageway</th>\n      <th>first_point_of_impact</th>\n      <th>sex_of_driver</th>\n      <th>age_band_of_driver</th>\n      <th>engine_capacity_cc</th>\n      <th>propulsion_code</th>\n      <th>age_of_vehicle</th>\n      <th>driver_imd_decile</th>\n      <th>driver_home_area_type</th>\n    </tr>\n  </thead>\n  <tbody>\n    <tr>\n      <th>0</th>\n      <td>2</td>\n      <td>1</td>\n      <td>11</td>\n      <td>2</td>\n      <td>1220.0</td>\n      <td>5</td>\n      <td>6</td>\n      <td>20</td>\n      <td>0</td>\n      <td>-1</td>\n      <td>...</td>\n      <td>0</td>\n      <td>0</td>\n      <td>3</td>\n      <td>1</td>\n      <td>5</td>\n      <td>113</td>\n      <td>1</td>\n      <td>4</td>\n      <td>-1</td>\n      <td>-1</td>\n    </tr>\n    <tr>\n      <th>1</th>\n      <td>2</td>\n      <td>1</td>\n      <td>11</td>\n      <td>4</td>\n      <td>710.0</td>\n      <td>5</td>\n      <td>6</td>\n      <td>30</td>\n      <td>3</td>\n      <td>4</td>\n      <td>...</td>\n      <td>-1</td>\n      <td>-1</td>\n      <td>-1</td>\n      <td>1</td>\n      <td>4</td>\n      <td>125</td>\n      <td>1</td>\n      <td>4</td>\n      <td>1</td>\n      <td>1</td>\n    </tr>\n    <tr>\n      <th>2</th>\n      <td>2</td>\n      <td>1</td>\n      <td>11</td>\n      <td>2</td>\n      <td>1171.0</td>\n      <td>3</td>\n      <td>2</td>\n      <td>20</td>\n      <td>3</td>\n      <td>2</td>\n      <td>...</td>\n      <td>0</td>\n      <td>0</td>\n      <td>2</td>\n      <td>1</td>\n      <td>7</td>\n      <td>125</td>\n      <td>1</td>\n      <td>0</td>\n      <td>3</td>\n      <td>1</td>\n    </tr>\n    <tr>\n      <th>3</th>\n      <td>2</td>\n      <td>1</td>\n      <td>11</td>\n      <td>2</td>\n      <td>1153.0</td>\n      <td>5</td>\n      <td>6</td>\n      <td>30</td>\n      <td>0</td>\n      <td>-1</td>\n      <td>...</td>\n      <td>0</td>\n      <td>0</td>\n      <td>4</td>\n      <td>1</td>\n      <td>7</td>\n      <td>124</td>\n      <td>1</td>\n      <td>7</td>\n      <td>6</td>\n      <td>1</td>\n    </tr>\n    <tr>\n      <th>4</th>\n      <td>2</td>\n      <td>1</td>\n      <td>11</td>\n      <td>2</td>\n      <td>994.0</td>\n      <td>3</td>\n      <td>-1</td>\n      <td>20</td>\n      <td>5</td>\n      <td>4</td>\n      <td>...</td>\n      <td>-1</td>\n      <td>-1</td>\n      <td>1</td>\n      <td>2</td>\n      <td>5</td>\n      <td>125</td>\n      <td>1</td>\n      <td>6</td>\n      <td>7</td>\n      <td>1</td>\n    </tr>\n    <tr>\n      <th>...</th>\n      <td>...</td>\n      <td>...</td>\n      <td>...</td>\n      <td>...</td>\n      <td>...</td>\n      <td>...</td>\n      <td>...</td>\n      <td>...</td>\n      <td>...</td>\n      <td>...</td>\n      <td>...</td>\n      <td>...</td>\n      <td>...</td>\n      <td>...</td>\n      <td>...</td>\n      <td>...</td>\n      <td>...</td>\n      <td>...</td>\n      <td>...</td>\n      <td>...</td>\n      <td>...</td>\n    </tr>\n    <tr>\n      <th>68800</th>\n      <td>2</td>\n      <td>2</td>\n      <td>7</td>\n      <td>7</td>\n      <td>1082.0</td>\n      <td>3</td>\n      <td>6</td>\n      <td>20</td>\n      <td>0</td>\n      <td>-1</td>\n      <td>...</td>\n      <td>0</td>\n      <td>0</td>\n      <td>3</td>\n      <td>2</td>\n      <td>9</td>\n      <td>998</td>\n      <td>1</td>\n      <td>2</td>\n      <td>7</td>\n      <td>1</td>\n    </tr>\n    <tr>\n      <th>68801</th>\n      <td>2</td>\n      <td>2</td>\n      <td>7</td>\n      <td>7</td>\n      <td>1082.0</td>\n      <td>3</td>\n      <td>6</td>\n      <td>20</td>\n      <td>0</td>\n      <td>-1</td>\n      <td>...</td>\n      <td>0</td>\n      <td>0</td>\n      <td>1</td>\n      <td>1</td>\n      <td>7</td>\n      <td>998</td>\n      <td>1</td>\n      <td>1</td>\n      <td>8</td>\n      <td>1</td>\n    </tr>\n    <tr>\n      <th>68802</th>\n      <td>2</td>\n      <td>1</td>\n      <td>7</td>\n      <td>7</td>\n      <td>1065.0</td>\n      <td>3</td>\n      <td>6</td>\n      <td>30</td>\n      <td>3</td>\n      <td>4</td>\n      <td>...</td>\n      <td>0</td>\n      <td>0</td>\n      <td>3</td>\n      <td>2</td>\n      <td>9</td>\n      <td>1498</td>\n      <td>1</td>\n      <td>1</td>\n      <td>7</td>\n      <td>1</td>\n    </tr>\n    <tr>\n      <th>68803</th>\n      <td>1</td>\n      <td>1</td>\n      <td>7</td>\n      <td>7</td>\n      <td>1169.0</td>\n      <td>3</td>\n      <td>6</td>\n      <td>60</td>\n      <td>0</td>\n      <td>-1</td>\n      <td>...</td>\n      <td>0</td>\n      <td>0</td>\n      <td>1</td>\n      <td>1</td>\n      <td>8</td>\n      <td>998</td>\n      <td>1</td>\n      <td>20</td>\n      <td>10</td>\n      <td>1</td>\n    </tr>\n    <tr>\n      <th>68804</th>\n      <td>3</td>\n      <td>1</td>\n      <td>7</td>\n      <td>7</td>\n      <td>805.0</td>\n      <td>3</td>\n      <td>6</td>\n      <td>50</td>\n      <td>0</td>\n      <td>-1</td>\n      <td>...</td>\n      <td>1</td>\n      <td>0</td>\n      <td>1</td>\n      <td>1</td>\n      <td>8</td>\n      <td>1085</td>\n      <td>1</td>\n      <td>21</td>\n      <td>10</td>\n      <td>1</td>\n    </tr>\n  </tbody>\n</table>\n<p>68805 rows × 40 columns</p>\n</div>"
     },
     "execution_count": 66,
     "metadata": {},
     "output_type": "execute_result"
    }
   ],
   "source": [
    "accidents"
   ],
   "metadata": {
    "collapsed": false,
    "pycharm": {
     "name": "#%%\n"
    }
   }
  },
  {
   "cell_type": "markdown",
   "source": [
    "# First Splits and Models"
   ],
   "metadata": {
    "collapsed": false
   }
  },
  {
   "cell_type": "code",
   "execution_count": 67,
   "outputs": [
    {
     "data": {
      "text/plain": "0        1\n1        1\n2        0\n3        0\n4        0\n        ..\n68800    0\n68801    0\n68802    0\n68803    1\n68804    1\nName: casualty_severity, Length: 68805, dtype: int64"
     },
     "execution_count": 67,
     "metadata": {},
     "output_type": "execute_result"
    }
   ],
   "source": [
    "y"
   ],
   "metadata": {
    "collapsed": false,
    "pycharm": {
     "name": "#%%\n"
    }
   }
  },
  {
   "cell_type": "code",
   "execution_count": 68,
   "outputs": [
    {
     "data": {
      "text/plain": "       number_of_vehicles  number_of_casualties  month  day_of_week    time  \\\n0                       2                     1     11            2  1220.0   \n1                       2                     1     11            4   710.0   \n2                       2                     1     11            2  1171.0   \n3                       2                     1     11            2  1153.0   \n4                       2                     1     11            2   994.0   \n...                   ...                   ...    ...          ...     ...   \n68800                   2                     2      7            7  1082.0   \n68801                   2                     2      7            7  1082.0   \n68802                   2                     1      7            7  1065.0   \n68803                   1                     1      7            7  1169.0   \n68804                   3                     1      7            7   805.0   \n\n       first_road_class  road_type  speed_limit  junction_detail  \\\n0                     5          6           20                0   \n1                     5          6           30                3   \n2                     3          2           20                3   \n3                     5          6           30                0   \n4                     3         -1           20                5   \n...                 ...        ...          ...              ...   \n68800                 3          6           20                0   \n68801                 3          6           20                0   \n68802                 3          6           30                3   \n68803                 3          6           60                0   \n68804                 3          6           50                0   \n\n       junction_control  ...  vehicle_leaving_carriageway  \\\n0                    -1  ...                            0   \n1                     4  ...                           -1   \n2                     2  ...                            0   \n3                    -1  ...                            0   \n4                     4  ...                           -1   \n...                 ...  ...                          ...   \n68800                -1  ...                            0   \n68801                -1  ...                            0   \n68802                 4  ...                            0   \n68803                -1  ...                            0   \n68804                -1  ...                            1   \n\n       hit_object_off_carriageway  first_point_of_impact  sex_of_driver  \\\n0                               0                      3              1   \n1                              -1                     -1              1   \n2                               0                      2              1   \n3                               0                      4              1   \n4                              -1                      1              2   \n...                           ...                    ...            ...   \n68800                           0                      3              2   \n68801                           0                      1              1   \n68802                           0                      3              2   \n68803                           0                      1              1   \n68804                           0                      1              1   \n\n       age_band_of_driver  engine_capacity_cc  propulsion_code  \\\n0                       5                 113                1   \n1                       4                 125                1   \n2                       7                 125                1   \n3                       7                 124                1   \n4                       5                 125                1   \n...                   ...                 ...              ...   \n68800                   9                 998                1   \n68801                   7                 998                1   \n68802                   9                1498                1   \n68803                   8                 998                1   \n68804                   8                1085                1   \n\n       age_of_vehicle  driver_imd_decile  driver_home_area_type  \n0                   4                 -1                     -1  \n1                   4                  1                      1  \n2                   0                  3                      1  \n3                   7                  6                      1  \n4                   6                  7                      1  \n...               ...                ...                    ...  \n68800               2                  7                      1  \n68801               1                  8                      1  \n68802               1                  7                      1  \n68803              20                 10                      1  \n68804              21                 10                      1  \n\n[68805 rows x 40 columns]",
      "text/html": "<div>\n<style scoped>\n    .dataframe tbody tr th:only-of-type {\n        vertical-align: middle;\n    }\n\n    .dataframe tbody tr th {\n        vertical-align: top;\n    }\n\n    .dataframe thead th {\n        text-align: right;\n    }\n</style>\n<table border=\"1\" class=\"dataframe\">\n  <thead>\n    <tr style=\"text-align: right;\">\n      <th></th>\n      <th>number_of_vehicles</th>\n      <th>number_of_casualties</th>\n      <th>month</th>\n      <th>day_of_week</th>\n      <th>time</th>\n      <th>first_road_class</th>\n      <th>road_type</th>\n      <th>speed_limit</th>\n      <th>junction_detail</th>\n      <th>junction_control</th>\n      <th>...</th>\n      <th>vehicle_leaving_carriageway</th>\n      <th>hit_object_off_carriageway</th>\n      <th>first_point_of_impact</th>\n      <th>sex_of_driver</th>\n      <th>age_band_of_driver</th>\n      <th>engine_capacity_cc</th>\n      <th>propulsion_code</th>\n      <th>age_of_vehicle</th>\n      <th>driver_imd_decile</th>\n      <th>driver_home_area_type</th>\n    </tr>\n  </thead>\n  <tbody>\n    <tr>\n      <th>0</th>\n      <td>2</td>\n      <td>1</td>\n      <td>11</td>\n      <td>2</td>\n      <td>1220.0</td>\n      <td>5</td>\n      <td>6</td>\n      <td>20</td>\n      <td>0</td>\n      <td>-1</td>\n      <td>...</td>\n      <td>0</td>\n      <td>0</td>\n      <td>3</td>\n      <td>1</td>\n      <td>5</td>\n      <td>113</td>\n      <td>1</td>\n      <td>4</td>\n      <td>-1</td>\n      <td>-1</td>\n    </tr>\n    <tr>\n      <th>1</th>\n      <td>2</td>\n      <td>1</td>\n      <td>11</td>\n      <td>4</td>\n      <td>710.0</td>\n      <td>5</td>\n      <td>6</td>\n      <td>30</td>\n      <td>3</td>\n      <td>4</td>\n      <td>...</td>\n      <td>-1</td>\n      <td>-1</td>\n      <td>-1</td>\n      <td>1</td>\n      <td>4</td>\n      <td>125</td>\n      <td>1</td>\n      <td>4</td>\n      <td>1</td>\n      <td>1</td>\n    </tr>\n    <tr>\n      <th>2</th>\n      <td>2</td>\n      <td>1</td>\n      <td>11</td>\n      <td>2</td>\n      <td>1171.0</td>\n      <td>3</td>\n      <td>2</td>\n      <td>20</td>\n      <td>3</td>\n      <td>2</td>\n      <td>...</td>\n      <td>0</td>\n      <td>0</td>\n      <td>2</td>\n      <td>1</td>\n      <td>7</td>\n      <td>125</td>\n      <td>1</td>\n      <td>0</td>\n      <td>3</td>\n      <td>1</td>\n    </tr>\n    <tr>\n      <th>3</th>\n      <td>2</td>\n      <td>1</td>\n      <td>11</td>\n      <td>2</td>\n      <td>1153.0</td>\n      <td>5</td>\n      <td>6</td>\n      <td>30</td>\n      <td>0</td>\n      <td>-1</td>\n      <td>...</td>\n      <td>0</td>\n      <td>0</td>\n      <td>4</td>\n      <td>1</td>\n      <td>7</td>\n      <td>124</td>\n      <td>1</td>\n      <td>7</td>\n      <td>6</td>\n      <td>1</td>\n    </tr>\n    <tr>\n      <th>4</th>\n      <td>2</td>\n      <td>1</td>\n      <td>11</td>\n      <td>2</td>\n      <td>994.0</td>\n      <td>3</td>\n      <td>-1</td>\n      <td>20</td>\n      <td>5</td>\n      <td>4</td>\n      <td>...</td>\n      <td>-1</td>\n      <td>-1</td>\n      <td>1</td>\n      <td>2</td>\n      <td>5</td>\n      <td>125</td>\n      <td>1</td>\n      <td>6</td>\n      <td>7</td>\n      <td>1</td>\n    </tr>\n    <tr>\n      <th>...</th>\n      <td>...</td>\n      <td>...</td>\n      <td>...</td>\n      <td>...</td>\n      <td>...</td>\n      <td>...</td>\n      <td>...</td>\n      <td>...</td>\n      <td>...</td>\n      <td>...</td>\n      <td>...</td>\n      <td>...</td>\n      <td>...</td>\n      <td>...</td>\n      <td>...</td>\n      <td>...</td>\n      <td>...</td>\n      <td>...</td>\n      <td>...</td>\n      <td>...</td>\n      <td>...</td>\n    </tr>\n    <tr>\n      <th>68800</th>\n      <td>2</td>\n      <td>2</td>\n      <td>7</td>\n      <td>7</td>\n      <td>1082.0</td>\n      <td>3</td>\n      <td>6</td>\n      <td>20</td>\n      <td>0</td>\n      <td>-1</td>\n      <td>...</td>\n      <td>0</td>\n      <td>0</td>\n      <td>3</td>\n      <td>2</td>\n      <td>9</td>\n      <td>998</td>\n      <td>1</td>\n      <td>2</td>\n      <td>7</td>\n      <td>1</td>\n    </tr>\n    <tr>\n      <th>68801</th>\n      <td>2</td>\n      <td>2</td>\n      <td>7</td>\n      <td>7</td>\n      <td>1082.0</td>\n      <td>3</td>\n      <td>6</td>\n      <td>20</td>\n      <td>0</td>\n      <td>-1</td>\n      <td>...</td>\n      <td>0</td>\n      <td>0</td>\n      <td>1</td>\n      <td>1</td>\n      <td>7</td>\n      <td>998</td>\n      <td>1</td>\n      <td>1</td>\n      <td>8</td>\n      <td>1</td>\n    </tr>\n    <tr>\n      <th>68802</th>\n      <td>2</td>\n      <td>1</td>\n      <td>7</td>\n      <td>7</td>\n      <td>1065.0</td>\n      <td>3</td>\n      <td>6</td>\n      <td>30</td>\n      <td>3</td>\n      <td>4</td>\n      <td>...</td>\n      <td>0</td>\n      <td>0</td>\n      <td>3</td>\n      <td>2</td>\n      <td>9</td>\n      <td>1498</td>\n      <td>1</td>\n      <td>1</td>\n      <td>7</td>\n      <td>1</td>\n    </tr>\n    <tr>\n      <th>68803</th>\n      <td>1</td>\n      <td>1</td>\n      <td>7</td>\n      <td>7</td>\n      <td>1169.0</td>\n      <td>3</td>\n      <td>6</td>\n      <td>60</td>\n      <td>0</td>\n      <td>-1</td>\n      <td>...</td>\n      <td>0</td>\n      <td>0</td>\n      <td>1</td>\n      <td>1</td>\n      <td>8</td>\n      <td>998</td>\n      <td>1</td>\n      <td>20</td>\n      <td>10</td>\n      <td>1</td>\n    </tr>\n    <tr>\n      <th>68804</th>\n      <td>3</td>\n      <td>1</td>\n      <td>7</td>\n      <td>7</td>\n      <td>805.0</td>\n      <td>3</td>\n      <td>6</td>\n      <td>50</td>\n      <td>0</td>\n      <td>-1</td>\n      <td>...</td>\n      <td>1</td>\n      <td>0</td>\n      <td>1</td>\n      <td>1</td>\n      <td>8</td>\n      <td>1085</td>\n      <td>1</td>\n      <td>21</td>\n      <td>10</td>\n      <td>1</td>\n    </tr>\n  </tbody>\n</table>\n<p>68805 rows × 40 columns</p>\n</div>"
     },
     "execution_count": 68,
     "metadata": {},
     "output_type": "execute_result"
    }
   ],
   "source": [
    "accidents"
   ],
   "metadata": {
    "collapsed": false,
    "pycharm": {
     "name": "#%%\n"
    }
   }
  },
  {
   "cell_type": "code",
   "execution_count": 69,
   "outputs": [
    {
     "data": {
      "text/plain": "<Figure size 432x288 with 1 Axes>",
      "image/png": "[encoded data removed]"
     },
     "metadata": {
      "needs_background": "light"
     },
     "output_type": "display_data"
    }
   ],
   "source": [
    "#Some Plots\n",
    "\n",
    "class_dist = y.value_counts()\n",
    "plt.bar(class_dist.index, class_dist)\n",
    "plt.ylabel(\"Frequency\")\n",
    "plt.show()"
   ],
   "metadata": {
    "collapsed": false,
    "pycharm": {
     "name": "#%%\n"
    }
   }
  },
  {
   "cell_type": "code",
   "execution_count": 70,
   "outputs": [],
   "source": [
    "from imblearn.over_sampling import SMOTE\n",
    "#Undersampling/Oversampling:\n",
    "\n",
    "#sampler = RandomOverSampler()\n",
    "#sampler = RandomUnderSampler()\n",
    "sampler = SMOTE()\n",
    "oversampler = RandomOverSampler()\n",
    "undersampler = RandomUnderSampler()\n",
    "\n",
    "X = accidents\n"
   ],
   "metadata": {
    "collapsed": false,
    "pycharm": {
     "name": "#%%\n"
    }
   }
  },
  {
   "cell_type": "code",
   "execution_count": 71,
   "outputs": [],
   "source": [
    "#split test and training data\n",
    "\n",
    "X_train, X_test, y_train, y_test = train_test_split(X, y, test_size=0.2, random_state=42, stratify=y)\n",
    "X_balanced, y_balanced = sampler.fit_resample(X_train, y_train)\n",
    "#class_dist = pd.Series(X_balanced).value_counts()\n",
    "#plt.bar(class_dist.index, class_dist)\n",
    "#plt.ylabel(\"Frequency\")\n",
    "#plt.show()"
   ],
   "metadata": {
    "collapsed": false,
    "pycharm": {
     "name": "#%%\n"
    }
   }
  },
  {
   "cell_type": "code",
   "execution_count": 72,
   "outputs": [],
   "source": [
    "# Do Preprocessing without pipeline\n",
    "X_onehot = X.copy()\n",
    "X_onehot\n",
    "encoded = pd.DataFrame(one_hot_encoder.fit_transform(X_onehot[one_hot_list]).toarray(),\n",
    "                       columns=one_hot_encoder.get_feature_names(one_hot_list))\n",
    "X_onehot = X_onehot.drop(columns=one_hot_list)\n",
    "X_onehot = X_onehot.join(encoded)\n",
    "X_onehot[:] = scaler.fit_transform(X_onehot[:])\n",
    "#Scale all columns to Standard Distribution\n",
    "X_onehot[:] = imp.fit_transform(X_onehot[:])\n",
    "X_prep_train, X_prep_test, y_prep_train, y_prep_test = train_test_split(X_onehot, y, test_size=0.2, random_state=42, stratify=y)\n",
    "X_prep_balanced, y_prep_balanced = sampler.fit_resample(X_prep_train, y_prep_train)"
   ],
   "metadata": {
    "collapsed": false,
    "pycharm": {
     "name": "#%%\n"
    }
   }
  },
  {
   "cell_type": "markdown",
   "source": [
    "# Creating models"
   ],
   "metadata": {
    "collapsed": false,
    "pycharm": {
     "name": "#%% md\n"
    }
   },
   "execution_count": 258
  },
  {
   "cell_type": "code",
   "execution_count": 73,
   "outputs": [
    {
     "data": {
      "text/plain": "[MLPClassifier(batch_size=64, early_stopping=True,\n               hidden_layer_sizes=(100, 100, 100), random_state=1234,\n               verbose=True),\n LogisticRegression(max_iter=20000),\n KNeighborsClassifier(n_neighbors=3),\n RandomForestClassifier(random_state=0)]"
     },
     "execution_count": 73,
     "metadata": {},
     "output_type": "execute_result"
    }
   ],
   "source": [
    "#Logistic Regression\n",
    "weight_estimator = LogisticRegression(max_iter=20000)\n",
    "\n",
    "#K-Nearest-Neighbors\n",
    "neigh = KNeighborsClassifier(n_neighbors=3)\n",
    "\n",
    "#Random Forest\n",
    "model = RandomForestClassifier(n_estimators=100, random_state=0)\n",
    "\n",
    "#Neural Network\n",
    "clf = MLPClassifier(hidden_layer_sizes=(100, 100, 100), activation='relu',\n",
    "learning_rate_init=1e-3, batch_size=64, verbose=True,\n",
    "early_stopping=True, random_state=1234)\n",
    "\n",
    "\n",
    "estimators = [clf, weight_estimator, neigh, model]\n",
    "estimators"
   ],
   "metadata": {
    "collapsed": false,
    "pycharm": {
     "name": "#%%\n"
    }
   }
  },
  {
   "cell_type": "markdown",
   "source": [
    "# Run estimators"
   ],
   "metadata": {
    "collapsed": false,
    "pycharm": {
     "name": "#%% md\n"
    }
   }
  },
  {
   "cell_type": "code",
   "execution_count": 74,
   "outputs": [
    {
     "name": "stdout",
     "output_type": "stream",
     "text": [
      "Couldn't find program: 'false'\n"
     ]
    }
   ],
   "source": [
    "%%script false\n",
    "#iterate over list\n",
    "for estimator in estimators:\n",
    "   print(estimator)\n",
    "   pipe.set_params(estimator = estimator)\n",
    "   pipe.fit(X_balanced, y_balanced)\n",
    "   prediction = pipe.predict(X_test)\n",
    "   print(classification_report(y_test, prediction))"
   ],
   "metadata": {
    "collapsed": false,
    "pycharm": {
     "name": "#%%\n"
    }
   }
  },
  {
   "cell_type": "code",
   "execution_count": 75,
   "outputs": [
    {
     "name": "stdout",
     "output_type": "stream",
     "text": [
      "MLPClassifier(batch_size=64, early_stopping=True,\n",
      "              hidden_layer_sizes=(100, 100, 100), random_state=1234,\n",
      "              verbose=True)\n",
      "Iteration 1, loss = 0.58015015\n",
      "Validation score: 0.707200\n",
      "Iteration 2, loss = 0.53800389\n",
      "Validation score: 0.711679\n",
      "Iteration 3, loss = 0.48504477\n",
      "Validation score: 0.758003\n",
      "Iteration 4, loss = 0.43036995\n",
      "Validation score: 0.779089\n",
      "Iteration 5, loss = 0.38199166\n",
      "Validation score: 0.802797\n",
      "Iteration 6, loss = 0.34203069\n",
      "Validation score: 0.815907\n",
      "Iteration 7, loss = 0.30790028\n",
      "Validation score: 0.839069\n",
      "Iteration 8, loss = 0.27793757\n",
      "Validation score: 0.839178\n",
      "Iteration 9, loss = 0.25306051\n",
      "Validation score: 0.852835\n",
      "Iteration 10, loss = 0.22934661\n",
      "Validation score: 0.858298\n",
      "Iteration 11, loss = 0.21189555\n",
      "Validation score: 0.856987\n",
      "Iteration 12, loss = 0.19537874\n",
      "Validation score: 0.873593\n",
      "Iteration 13, loss = 0.17817126\n",
      "Validation score: 0.882224\n",
      "Iteration 14, loss = 0.16751884\n",
      "Validation score: 0.874358\n",
      "Iteration 15, loss = 0.15571773\n",
      "Validation score: 0.877636\n",
      "Iteration 16, loss = 0.14468295\n",
      "Validation score: 0.882224\n",
      "Iteration 17, loss = 0.13654113\n",
      "Validation score: 0.884519\n",
      "Iteration 18, loss = 0.12568773\n",
      "Validation score: 0.885065\n",
      "Iteration 19, loss = 0.12146199\n",
      "Validation score: 0.890965\n",
      "Iteration 20, loss = 0.11411888\n",
      "Validation score: 0.894024\n",
      "Iteration 21, loss = 0.10821778\n",
      "Validation score: 0.889872\n",
      "Iteration 22, loss = 0.09996845\n",
      "Validation score: 0.894461\n",
      "Iteration 23, loss = 0.09877378\n",
      "Validation score: 0.897192\n",
      "Iteration 24, loss = 0.09061918\n",
      "Validation score: 0.895335\n",
      "Iteration 25, loss = 0.09002109\n",
      "Validation score: 0.893150\n",
      "Iteration 26, loss = 0.08591109\n",
      "Validation score: 0.891292\n",
      "Iteration 27, loss = 0.08089327\n",
      "Validation score: 0.900907\n",
      "Iteration 28, loss = 0.07764929\n",
      "Validation score: 0.904294\n",
      "Iteration 29, loss = 0.07721008\n",
      "Validation score: 0.896427\n",
      "Iteration 30, loss = 0.07492781\n",
      "Validation score: 0.906260\n",
      "Iteration 31, loss = 0.06953922\n",
      "Validation score: 0.911286\n",
      "Iteration 32, loss = 0.07573818\n",
      "Validation score: 0.902218\n",
      "Iteration 33, loss = 0.06167732\n",
      "Validation score: 0.901344\n",
      "Iteration 34, loss = 0.06711967\n",
      "Validation score: 0.902218\n",
      "Iteration 35, loss = 0.06575795\n",
      "Validation score: 0.910193\n",
      "Iteration 36, loss = 0.06368859\n",
      "Validation score: 0.914345\n",
      "Iteration 37, loss = 0.06305830\n",
      "Validation score: 0.908008\n",
      "Iteration 38, loss = 0.05469555\n",
      "Validation score: 0.906151\n",
      "Iteration 39, loss = 0.06078212\n",
      "Validation score: 0.902764\n",
      "Iteration 40, loss = 0.05874194\n",
      "Validation score: 0.907681\n",
      "Iteration 41, loss = 0.05540954\n",
      "Validation score: 0.912706\n",
      "Iteration 42, loss = 0.05355747\n",
      "Validation score: 0.910958\n",
      "Iteration 43, loss = 0.05299698\n",
      "Validation score: 0.904731\n",
      "Iteration 44, loss = 0.05264429\n",
      "Validation score: 0.908773\n",
      "Iteration 45, loss = 0.05271955\n",
      "Validation score: 0.909756\n",
      "Iteration 46, loss = 0.05158803\n",
      "Validation score: 0.911614\n",
      "Iteration 47, loss = 0.05180599\n",
      "Validation score: 0.904075\n",
      "Validation score did not improve more than tol=0.000100 for 10 consecutive epochs. Stopping.\n",
      "              precision    recall  f1-score   support\n",
      "\n",
      "           0       0.87      0.86      0.86     11441\n",
      "           1       0.33      0.34      0.34      2320\n",
      "\n",
      "    accuracy                           0.77     13761\n",
      "   macro avg       0.60      0.60      0.60     13761\n",
      "weighted avg       0.77      0.77      0.77     13761\n",
      "\n",
      "LogisticRegression(max_iter=20000)\n",
      "              precision    recall  f1-score   support\n",
      "\n",
      "           0       0.92      0.69      0.79     11441\n",
      "           1       0.31      0.69      0.43      2320\n",
      "\n",
      "    accuracy                           0.69     13761\n",
      "   macro avg       0.61      0.69      0.61     13761\n",
      "weighted avg       0.81      0.69      0.73     13761\n",
      "\n",
      "KNeighborsClassifier(n_neighbors=3)\n",
      "              precision    recall  f1-score   support\n",
      "\n",
      "           0       0.88      0.78      0.82     11441\n",
      "           1       0.29      0.46      0.36      2320\n",
      "\n",
      "    accuracy                           0.72     13761\n",
      "   macro avg       0.59      0.62      0.59     13761\n",
      "weighted avg       0.78      0.72      0.75     13761\n",
      "\n",
      "RandomForestClassifier(random_state=0)\n",
      "              precision    recall  f1-score   support\n",
      "\n",
      "           0       0.87      0.95      0.91     11441\n",
      "           1       0.52      0.27      0.36      2320\n",
      "\n",
      "    accuracy                           0.84     13761\n",
      "   macro avg       0.69      0.61      0.63     13761\n",
      "weighted avg       0.81      0.84      0.81     13761\n",
      "\n",
      "MLPClassifier(batch_size=64, early_stopping=True,\n",
      "              hidden_layer_sizes=(100, 100, 100), random_state=1234,\n",
      "              verbose=True)\n",
      "Iteration 1, loss = 0.60921251\n",
      "Validation score: 0.676724\n",
      "Iteration 2, loss = 0.57818138\n",
      "Validation score: 0.684806\n",
      "Iteration 3, loss = 0.56711601\n",
      "Validation score: 0.684806\n",
      "Iteration 4, loss = 0.55594780\n",
      "Validation score: 0.677263\n",
      "Iteration 5, loss = 0.53850215\n",
      "Validation score: 0.686422\n",
      "Iteration 6, loss = 0.52149059\n",
      "Validation score: 0.673491\n",
      "Iteration 7, loss = 0.50022140\n",
      "Validation score: 0.662716\n",
      "Iteration 8, loss = 0.47620442\n",
      "Validation score: 0.660022\n",
      "Iteration 9, loss = 0.44787838\n",
      "Validation score: 0.667565\n",
      "Iteration 10, loss = 0.42081149\n",
      "Validation score: 0.669720\n",
      "Iteration 11, loss = 0.39282237\n",
      "Validation score: 0.652478\n",
      "Iteration 12, loss = 0.36560949\n",
      "Validation score: 0.643319\n",
      "Iteration 13, loss = 0.33609402\n",
      "Validation score: 0.643319\n",
      "Iteration 14, loss = 0.30928137\n",
      "Validation score: 0.644935\n",
      "Iteration 15, loss = 0.28737567\n",
      "Validation score: 0.634698\n",
      "Iteration 16, loss = 0.26479786\n",
      "Validation score: 0.638470\n",
      "Validation score did not improve more than tol=0.000100 for 10 consecutive epochs. Stopping.\n"
     ]
    },
    {
     "ename": "ValueError",
     "evalue": "Found unknown categories [6] in column 27 during transform",
     "output_type": "error",
     "traceback": [
      "\u001B[1;31m---------------------------------------------------------------------------\u001B[0m",
      "\u001B[1;31mValueError\u001B[0m                                Traceback (most recent call last)",
      "\u001B[1;32m<ipython-input-75-ead66e910acb>\u001B[0m in \u001B[0;36m<module>\u001B[1;34m\u001B[0m\n\u001B[0;32m      9\u001B[0m        \u001B[1;31m#pipe.set_params(sampler = samp)\u001B[0m\u001B[1;33m\u001B[0m\u001B[1;33m\u001B[0m\u001B[1;33m\u001B[0m\u001B[0m\n\u001B[0;32m     10\u001B[0m        \u001B[0mpipe\u001B[0m\u001B[1;33m.\u001B[0m\u001B[0mfit\u001B[0m\u001B[1;33m(\u001B[0m\u001B[0mX_b\u001B[0m\u001B[1;33m,\u001B[0m \u001B[0my_b\u001B[0m\u001B[1;33m)\u001B[0m\u001B[1;33m\u001B[0m\u001B[1;33m\u001B[0m\u001B[0m\n\u001B[1;32m---> 11\u001B[1;33m        \u001B[0mprediction\u001B[0m \u001B[1;33m=\u001B[0m \u001B[0mpipe\u001B[0m\u001B[1;33m.\u001B[0m\u001B[0mpredict\u001B[0m\u001B[1;33m(\u001B[0m\u001B[0mX_test\u001B[0m\u001B[1;33m)\u001B[0m\u001B[1;33m\u001B[0m\u001B[1;33m\u001B[0m\u001B[0m\n\u001B[0m\u001B[0;32m     12\u001B[0m        \u001B[0mprint\u001B[0m\u001B[1;33m(\u001B[0m\u001B[0mclassification_report\u001B[0m\u001B[1;33m(\u001B[0m\u001B[0my_test\u001B[0m\u001B[1;33m,\u001B[0m \u001B[0mprediction\u001B[0m\u001B[1;33m)\u001B[0m\u001B[1;33m)\u001B[0m\u001B[1;33m\u001B[0m\u001B[1;33m\u001B[0m\u001B[0m\n\u001B[0;32m     13\u001B[0m \u001B[1;33m\u001B[0m\u001B[0m\n",
      "\u001B[1;32m~\\anaconda3\\lib\\site-packages\\sklearn\\utils\\metaestimators.py\u001B[0m in \u001B[0;36m<lambda>\u001B[1;34m(*args, **kwargs)\u001B[0m\n\u001B[0;32m    118\u001B[0m \u001B[1;33m\u001B[0m\u001B[0m\n\u001B[0;32m    119\u001B[0m         \u001B[1;31m# lambda, but not partial, allows help() to work with update_wrapper\u001B[0m\u001B[1;33m\u001B[0m\u001B[1;33m\u001B[0m\u001B[1;33m\u001B[0m\u001B[0m\n\u001B[1;32m--> 120\u001B[1;33m         \u001B[0mout\u001B[0m \u001B[1;33m=\u001B[0m \u001B[1;32mlambda\u001B[0m \u001B[1;33m*\u001B[0m\u001B[0margs\u001B[0m\u001B[1;33m,\u001B[0m \u001B[1;33m**\u001B[0m\u001B[0mkwargs\u001B[0m\u001B[1;33m:\u001B[0m \u001B[0mself\u001B[0m\u001B[1;33m.\u001B[0m\u001B[0mfn\u001B[0m\u001B[1;33m(\u001B[0m\u001B[0mobj\u001B[0m\u001B[1;33m,\u001B[0m \u001B[1;33m*\u001B[0m\u001B[0margs\u001B[0m\u001B[1;33m,\u001B[0m \u001B[1;33m**\u001B[0m\u001B[0mkwargs\u001B[0m\u001B[1;33m)\u001B[0m\u001B[1;33m\u001B[0m\u001B[1;33m\u001B[0m\u001B[0m\n\u001B[0m\u001B[0;32m    121\u001B[0m         \u001B[1;31m# update the docstring of the returned function\u001B[0m\u001B[1;33m\u001B[0m\u001B[1;33m\u001B[0m\u001B[1;33m\u001B[0m\u001B[0m\n\u001B[0;32m    122\u001B[0m         \u001B[0mupdate_wrapper\u001B[0m\u001B[1;33m(\u001B[0m\u001B[0mout\u001B[0m\u001B[1;33m,\u001B[0m \u001B[0mself\u001B[0m\u001B[1;33m.\u001B[0m\u001B[0mfn\u001B[0m\u001B[1;33m)\u001B[0m\u001B[1;33m\u001B[0m\u001B[1;33m\u001B[0m\u001B[0m\n",
      "\u001B[1;32m~\\anaconda3\\lib\\site-packages\\sklearn\\pipeline.py\u001B[0m in \u001B[0;36mpredict\u001B[1;34m(self, X, **predict_params)\u001B[0m\n\u001B[0;32m    416\u001B[0m         \u001B[0mXt\u001B[0m \u001B[1;33m=\u001B[0m \u001B[0mX\u001B[0m\u001B[1;33m\u001B[0m\u001B[1;33m\u001B[0m\u001B[0m\n\u001B[0;32m    417\u001B[0m         \u001B[1;32mfor\u001B[0m \u001B[0m_\u001B[0m\u001B[1;33m,\u001B[0m \u001B[0mname\u001B[0m\u001B[1;33m,\u001B[0m \u001B[0mtransform\u001B[0m \u001B[1;32min\u001B[0m \u001B[0mself\u001B[0m\u001B[1;33m.\u001B[0m\u001B[0m_iter\u001B[0m\u001B[1;33m(\u001B[0m\u001B[0mwith_final\u001B[0m\u001B[1;33m=\u001B[0m\u001B[1;32mFalse\u001B[0m\u001B[1;33m)\u001B[0m\u001B[1;33m:\u001B[0m\u001B[1;33m\u001B[0m\u001B[1;33m\u001B[0m\u001B[0m\n\u001B[1;32m--> 418\u001B[1;33m             \u001B[0mXt\u001B[0m \u001B[1;33m=\u001B[0m \u001B[0mtransform\u001B[0m\u001B[1;33m.\u001B[0m\u001B[0mtransform\u001B[0m\u001B[1;33m(\u001B[0m\u001B[0mXt\u001B[0m\u001B[1;33m)\u001B[0m\u001B[1;33m\u001B[0m\u001B[1;33m\u001B[0m\u001B[0m\n\u001B[0m\u001B[0;32m    419\u001B[0m         \u001B[1;32mreturn\u001B[0m \u001B[0mself\u001B[0m\u001B[1;33m.\u001B[0m\u001B[0msteps\u001B[0m\u001B[1;33m[\u001B[0m\u001B[1;33m-\u001B[0m\u001B[1;36m1\u001B[0m\u001B[1;33m]\u001B[0m\u001B[1;33m[\u001B[0m\u001B[1;33m-\u001B[0m\u001B[1;36m1\u001B[0m\u001B[1;33m]\u001B[0m\u001B[1;33m.\u001B[0m\u001B[0mpredict\u001B[0m\u001B[1;33m(\u001B[0m\u001B[0mXt\u001B[0m\u001B[1;33m,\u001B[0m \u001B[1;33m**\u001B[0m\u001B[0mpredict_params\u001B[0m\u001B[1;33m)\u001B[0m\u001B[1;33m\u001B[0m\u001B[1;33m\u001B[0m\u001B[0m\n\u001B[0;32m    420\u001B[0m \u001B[1;33m\u001B[0m\u001B[0m\n",
      "\u001B[1;32m~\\anaconda3\\lib\\site-packages\\sklearn\\compose\\_column_transformer.py\u001B[0m in \u001B[0;36mtransform\u001B[1;34m(self, X)\u001B[0m\n\u001B[0;32m    563\u001B[0m                 \u001B[1;34m\"data given during fit.\"\u001B[0m\u001B[1;33m\u001B[0m\u001B[1;33m\u001B[0m\u001B[0m\n\u001B[0;32m    564\u001B[0m             )\n\u001B[1;32m--> 565\u001B[1;33m         \u001B[0mXs\u001B[0m \u001B[1;33m=\u001B[0m \u001B[0mself\u001B[0m\u001B[1;33m.\u001B[0m\u001B[0m_fit_transform\u001B[0m\u001B[1;33m(\u001B[0m\u001B[0mX\u001B[0m\u001B[1;33m,\u001B[0m \u001B[1;32mNone\u001B[0m\u001B[1;33m,\u001B[0m \u001B[0m_transform_one\u001B[0m\u001B[1;33m,\u001B[0m \u001B[0mfitted\u001B[0m\u001B[1;33m=\u001B[0m\u001B[1;32mTrue\u001B[0m\u001B[1;33m)\u001B[0m\u001B[1;33m\u001B[0m\u001B[1;33m\u001B[0m\u001B[0m\n\u001B[0m\u001B[0;32m    566\u001B[0m         \u001B[0mself\u001B[0m\u001B[1;33m.\u001B[0m\u001B[0m_validate_output\u001B[0m\u001B[1;33m(\u001B[0m\u001B[0mXs\u001B[0m\u001B[1;33m)\u001B[0m\u001B[1;33m\u001B[0m\u001B[1;33m\u001B[0m\u001B[0m\n\u001B[0;32m    567\u001B[0m \u001B[1;33m\u001B[0m\u001B[0m\n",
      "\u001B[1;32m~\\anaconda3\\lib\\site-packages\\sklearn\\compose\\_column_transformer.py\u001B[0m in \u001B[0;36m_fit_transform\u001B[1;34m(self, X, y, func, fitted)\u001B[0m\n\u001B[0;32m    433\u001B[0m             self._iter(fitted=fitted, replace_strings=True))\n\u001B[0;32m    434\u001B[0m         \u001B[1;32mtry\u001B[0m\u001B[1;33m:\u001B[0m\u001B[1;33m\u001B[0m\u001B[1;33m\u001B[0m\u001B[0m\n\u001B[1;32m--> 435\u001B[1;33m             return Parallel(n_jobs=self.n_jobs)(\n\u001B[0m\u001B[0;32m    436\u001B[0m                 delayed(func)(\n\u001B[0;32m    437\u001B[0m                     \u001B[0mtransformer\u001B[0m\u001B[1;33m=\u001B[0m\u001B[0mclone\u001B[0m\u001B[1;33m(\u001B[0m\u001B[0mtrans\u001B[0m\u001B[1;33m)\u001B[0m \u001B[1;32mif\u001B[0m \u001B[1;32mnot\u001B[0m \u001B[0mfitted\u001B[0m \u001B[1;32melse\u001B[0m \u001B[0mtrans\u001B[0m\u001B[1;33m,\u001B[0m\u001B[1;33m\u001B[0m\u001B[1;33m\u001B[0m\u001B[0m\n",
      "\u001B[1;32m~\\anaconda3\\lib\\site-packages\\joblib\\parallel.py\u001B[0m in \u001B[0;36m__call__\u001B[1;34m(self, iterable)\u001B[0m\n\u001B[0;32m   1046\u001B[0m             \u001B[1;31m# remaining jobs.\u001B[0m\u001B[1;33m\u001B[0m\u001B[1;33m\u001B[0m\u001B[1;33m\u001B[0m\u001B[0m\n\u001B[0;32m   1047\u001B[0m             \u001B[0mself\u001B[0m\u001B[1;33m.\u001B[0m\u001B[0m_iterating\u001B[0m \u001B[1;33m=\u001B[0m \u001B[1;32mFalse\u001B[0m\u001B[1;33m\u001B[0m\u001B[1;33m\u001B[0m\u001B[0m\n\u001B[1;32m-> 1048\u001B[1;33m             \u001B[1;32mif\u001B[0m \u001B[0mself\u001B[0m\u001B[1;33m.\u001B[0m\u001B[0mdispatch_one_batch\u001B[0m\u001B[1;33m(\u001B[0m\u001B[0miterator\u001B[0m\u001B[1;33m)\u001B[0m\u001B[1;33m:\u001B[0m\u001B[1;33m\u001B[0m\u001B[1;33m\u001B[0m\u001B[0m\n\u001B[0m\u001B[0;32m   1049\u001B[0m                 \u001B[0mself\u001B[0m\u001B[1;33m.\u001B[0m\u001B[0m_iterating\u001B[0m \u001B[1;33m=\u001B[0m \u001B[0mself\u001B[0m\u001B[1;33m.\u001B[0m\u001B[0m_original_iterator\u001B[0m \u001B[1;32mis\u001B[0m \u001B[1;32mnot\u001B[0m \u001B[1;32mNone\u001B[0m\u001B[1;33m\u001B[0m\u001B[1;33m\u001B[0m\u001B[0m\n\u001B[0;32m   1050\u001B[0m \u001B[1;33m\u001B[0m\u001B[0m\n",
      "\u001B[1;32m~\\anaconda3\\lib\\site-packages\\joblib\\parallel.py\u001B[0m in \u001B[0;36mdispatch_one_batch\u001B[1;34m(self, iterator)\u001B[0m\n\u001B[0;32m    864\u001B[0m                 \u001B[1;32mreturn\u001B[0m \u001B[1;32mFalse\u001B[0m\u001B[1;33m\u001B[0m\u001B[1;33m\u001B[0m\u001B[0m\n\u001B[0;32m    865\u001B[0m             \u001B[1;32melse\u001B[0m\u001B[1;33m:\u001B[0m\u001B[1;33m\u001B[0m\u001B[1;33m\u001B[0m\u001B[0m\n\u001B[1;32m--> 866\u001B[1;33m                 \u001B[0mself\u001B[0m\u001B[1;33m.\u001B[0m\u001B[0m_dispatch\u001B[0m\u001B[1;33m(\u001B[0m\u001B[0mtasks\u001B[0m\u001B[1;33m)\u001B[0m\u001B[1;33m\u001B[0m\u001B[1;33m\u001B[0m\u001B[0m\n\u001B[0m\u001B[0;32m    867\u001B[0m                 \u001B[1;32mreturn\u001B[0m \u001B[1;32mTrue\u001B[0m\u001B[1;33m\u001B[0m\u001B[1;33m\u001B[0m\u001B[0m\n\u001B[0;32m    868\u001B[0m \u001B[1;33m\u001B[0m\u001B[0m\n",
      "\u001B[1;32m~\\anaconda3\\lib\\site-packages\\joblib\\parallel.py\u001B[0m in \u001B[0;36m_dispatch\u001B[1;34m(self, batch)\u001B[0m\n\u001B[0;32m    782\u001B[0m         \u001B[1;32mwith\u001B[0m \u001B[0mself\u001B[0m\u001B[1;33m.\u001B[0m\u001B[0m_lock\u001B[0m\u001B[1;33m:\u001B[0m\u001B[1;33m\u001B[0m\u001B[1;33m\u001B[0m\u001B[0m\n\u001B[0;32m    783\u001B[0m             \u001B[0mjob_idx\u001B[0m \u001B[1;33m=\u001B[0m \u001B[0mlen\u001B[0m\u001B[1;33m(\u001B[0m\u001B[0mself\u001B[0m\u001B[1;33m.\u001B[0m\u001B[0m_jobs\u001B[0m\u001B[1;33m)\u001B[0m\u001B[1;33m\u001B[0m\u001B[1;33m\u001B[0m\u001B[0m\n\u001B[1;32m--> 784\u001B[1;33m             \u001B[0mjob\u001B[0m \u001B[1;33m=\u001B[0m \u001B[0mself\u001B[0m\u001B[1;33m.\u001B[0m\u001B[0m_backend\u001B[0m\u001B[1;33m.\u001B[0m\u001B[0mapply_async\u001B[0m\u001B[1;33m(\u001B[0m\u001B[0mbatch\u001B[0m\u001B[1;33m,\u001B[0m \u001B[0mcallback\u001B[0m\u001B[1;33m=\u001B[0m\u001B[0mcb\u001B[0m\u001B[1;33m)\u001B[0m\u001B[1;33m\u001B[0m\u001B[1;33m\u001B[0m\u001B[0m\n\u001B[0m\u001B[0;32m    785\u001B[0m             \u001B[1;31m# A job can complete so quickly than its callback is\u001B[0m\u001B[1;33m\u001B[0m\u001B[1;33m\u001B[0m\u001B[1;33m\u001B[0m\u001B[0m\n\u001B[0;32m    786\u001B[0m             \u001B[1;31m# called before we get here, causing self._jobs to\u001B[0m\u001B[1;33m\u001B[0m\u001B[1;33m\u001B[0m\u001B[1;33m\u001B[0m\u001B[0m\n",
      "\u001B[1;32m~\\anaconda3\\lib\\site-packages\\joblib\\_parallel_backends.py\u001B[0m in \u001B[0;36mapply_async\u001B[1;34m(self, func, callback)\u001B[0m\n\u001B[0;32m    206\u001B[0m     \u001B[1;32mdef\u001B[0m \u001B[0mapply_async\u001B[0m\u001B[1;33m(\u001B[0m\u001B[0mself\u001B[0m\u001B[1;33m,\u001B[0m \u001B[0mfunc\u001B[0m\u001B[1;33m,\u001B[0m \u001B[0mcallback\u001B[0m\u001B[1;33m=\u001B[0m\u001B[1;32mNone\u001B[0m\u001B[1;33m)\u001B[0m\u001B[1;33m:\u001B[0m\u001B[1;33m\u001B[0m\u001B[1;33m\u001B[0m\u001B[0m\n\u001B[0;32m    207\u001B[0m         \u001B[1;34m\"\"\"Schedule a func to be run\"\"\"\u001B[0m\u001B[1;33m\u001B[0m\u001B[1;33m\u001B[0m\u001B[0m\n\u001B[1;32m--> 208\u001B[1;33m         \u001B[0mresult\u001B[0m \u001B[1;33m=\u001B[0m \u001B[0mImmediateResult\u001B[0m\u001B[1;33m(\u001B[0m\u001B[0mfunc\u001B[0m\u001B[1;33m)\u001B[0m\u001B[1;33m\u001B[0m\u001B[1;33m\u001B[0m\u001B[0m\n\u001B[0m\u001B[0;32m    209\u001B[0m         \u001B[1;32mif\u001B[0m \u001B[0mcallback\u001B[0m\u001B[1;33m:\u001B[0m\u001B[1;33m\u001B[0m\u001B[1;33m\u001B[0m\u001B[0m\n\u001B[0;32m    210\u001B[0m             \u001B[0mcallback\u001B[0m\u001B[1;33m(\u001B[0m\u001B[0mresult\u001B[0m\u001B[1;33m)\u001B[0m\u001B[1;33m\u001B[0m\u001B[1;33m\u001B[0m\u001B[0m\n",
      "\u001B[1;32m~\\anaconda3\\lib\\site-packages\\joblib\\_parallel_backends.py\u001B[0m in \u001B[0;36m__init__\u001B[1;34m(self, batch)\u001B[0m\n\u001B[0;32m    570\u001B[0m         \u001B[1;31m# Don't delay the application, to avoid keeping the input\u001B[0m\u001B[1;33m\u001B[0m\u001B[1;33m\u001B[0m\u001B[1;33m\u001B[0m\u001B[0m\n\u001B[0;32m    571\u001B[0m         \u001B[1;31m# arguments in memory\u001B[0m\u001B[1;33m\u001B[0m\u001B[1;33m\u001B[0m\u001B[1;33m\u001B[0m\u001B[0m\n\u001B[1;32m--> 572\u001B[1;33m         \u001B[0mself\u001B[0m\u001B[1;33m.\u001B[0m\u001B[0mresults\u001B[0m \u001B[1;33m=\u001B[0m \u001B[0mbatch\u001B[0m\u001B[1;33m(\u001B[0m\u001B[1;33m)\u001B[0m\u001B[1;33m\u001B[0m\u001B[1;33m\u001B[0m\u001B[0m\n\u001B[0m\u001B[0;32m    573\u001B[0m \u001B[1;33m\u001B[0m\u001B[0m\n\u001B[0;32m    574\u001B[0m     \u001B[1;32mdef\u001B[0m \u001B[0mget\u001B[0m\u001B[1;33m(\u001B[0m\u001B[0mself\u001B[0m\u001B[1;33m)\u001B[0m\u001B[1;33m:\u001B[0m\u001B[1;33m\u001B[0m\u001B[1;33m\u001B[0m\u001B[0m\n",
      "\u001B[1;32m~\\anaconda3\\lib\\site-packages\\joblib\\parallel.py\u001B[0m in \u001B[0;36m__call__\u001B[1;34m(self)\u001B[0m\n\u001B[0;32m    260\u001B[0m         \u001B[1;31m# change the default number of processes to -1\u001B[0m\u001B[1;33m\u001B[0m\u001B[1;33m\u001B[0m\u001B[1;33m\u001B[0m\u001B[0m\n\u001B[0;32m    261\u001B[0m         \u001B[1;32mwith\u001B[0m \u001B[0mparallel_backend\u001B[0m\u001B[1;33m(\u001B[0m\u001B[0mself\u001B[0m\u001B[1;33m.\u001B[0m\u001B[0m_backend\u001B[0m\u001B[1;33m,\u001B[0m \u001B[0mn_jobs\u001B[0m\u001B[1;33m=\u001B[0m\u001B[0mself\u001B[0m\u001B[1;33m.\u001B[0m\u001B[0m_n_jobs\u001B[0m\u001B[1;33m)\u001B[0m\u001B[1;33m:\u001B[0m\u001B[1;33m\u001B[0m\u001B[1;33m\u001B[0m\u001B[0m\n\u001B[1;32m--> 262\u001B[1;33m             return [func(*args, **kwargs)\n\u001B[0m\u001B[0;32m    263\u001B[0m                     for func, args, kwargs in self.items]\n\u001B[0;32m    264\u001B[0m \u001B[1;33m\u001B[0m\u001B[0m\n",
      "\u001B[1;32m~\\anaconda3\\lib\\site-packages\\joblib\\parallel.py\u001B[0m in \u001B[0;36m<listcomp>\u001B[1;34m(.0)\u001B[0m\n\u001B[0;32m    260\u001B[0m         \u001B[1;31m# change the default number of processes to -1\u001B[0m\u001B[1;33m\u001B[0m\u001B[1;33m\u001B[0m\u001B[1;33m\u001B[0m\u001B[0m\n\u001B[0;32m    261\u001B[0m         \u001B[1;32mwith\u001B[0m \u001B[0mparallel_backend\u001B[0m\u001B[1;33m(\u001B[0m\u001B[0mself\u001B[0m\u001B[1;33m.\u001B[0m\u001B[0m_backend\u001B[0m\u001B[1;33m,\u001B[0m \u001B[0mn_jobs\u001B[0m\u001B[1;33m=\u001B[0m\u001B[0mself\u001B[0m\u001B[1;33m.\u001B[0m\u001B[0m_n_jobs\u001B[0m\u001B[1;33m)\u001B[0m\u001B[1;33m:\u001B[0m\u001B[1;33m\u001B[0m\u001B[1;33m\u001B[0m\u001B[0m\n\u001B[1;32m--> 262\u001B[1;33m             return [func(*args, **kwargs)\n\u001B[0m\u001B[0;32m    263\u001B[0m                     for func, args, kwargs in self.items]\n\u001B[0;32m    264\u001B[0m \u001B[1;33m\u001B[0m\u001B[0m\n",
      "\u001B[1;32m~\\anaconda3\\lib\\site-packages\\sklearn\\utils\\fixes.py\u001B[0m in \u001B[0;36m__call__\u001B[1;34m(self, *args, **kwargs)\u001B[0m\n\u001B[0;32m    220\u001B[0m     \u001B[1;32mdef\u001B[0m \u001B[0m__call__\u001B[0m\u001B[1;33m(\u001B[0m\u001B[0mself\u001B[0m\u001B[1;33m,\u001B[0m \u001B[1;33m*\u001B[0m\u001B[0margs\u001B[0m\u001B[1;33m,\u001B[0m \u001B[1;33m**\u001B[0m\u001B[0mkwargs\u001B[0m\u001B[1;33m)\u001B[0m\u001B[1;33m:\u001B[0m\u001B[1;33m\u001B[0m\u001B[1;33m\u001B[0m\u001B[0m\n\u001B[0;32m    221\u001B[0m         \u001B[1;32mwith\u001B[0m \u001B[0mconfig_context\u001B[0m\u001B[1;33m(\u001B[0m\u001B[1;33m**\u001B[0m\u001B[0mself\u001B[0m\u001B[1;33m.\u001B[0m\u001B[0mconfig\u001B[0m\u001B[1;33m)\u001B[0m\u001B[1;33m:\u001B[0m\u001B[1;33m\u001B[0m\u001B[1;33m\u001B[0m\u001B[0m\n\u001B[1;32m--> 222\u001B[1;33m             \u001B[1;32mreturn\u001B[0m \u001B[0mself\u001B[0m\u001B[1;33m.\u001B[0m\u001B[0mfunction\u001B[0m\u001B[1;33m(\u001B[0m\u001B[1;33m*\u001B[0m\u001B[0margs\u001B[0m\u001B[1;33m,\u001B[0m \u001B[1;33m**\u001B[0m\u001B[0mkwargs\u001B[0m\u001B[1;33m)\u001B[0m\u001B[1;33m\u001B[0m\u001B[1;33m\u001B[0m\u001B[0m\n\u001B[0m",
      "\u001B[1;32m~\\anaconda3\\lib\\site-packages\\sklearn\\pipeline.py\u001B[0m in \u001B[0;36m_transform_one\u001B[1;34m(transformer, X, y, weight, **fit_params)\u001B[0m\n\u001B[0;32m    731\u001B[0m \u001B[1;33m\u001B[0m\u001B[0m\n\u001B[0;32m    732\u001B[0m \u001B[1;32mdef\u001B[0m \u001B[0m_transform_one\u001B[0m\u001B[1;33m(\u001B[0m\u001B[0mtransformer\u001B[0m\u001B[1;33m,\u001B[0m \u001B[0mX\u001B[0m\u001B[1;33m,\u001B[0m \u001B[0my\u001B[0m\u001B[1;33m,\u001B[0m \u001B[0mweight\u001B[0m\u001B[1;33m,\u001B[0m \u001B[1;33m**\u001B[0m\u001B[0mfit_params\u001B[0m\u001B[1;33m)\u001B[0m\u001B[1;33m:\u001B[0m\u001B[1;33m\u001B[0m\u001B[1;33m\u001B[0m\u001B[0m\n\u001B[1;32m--> 733\u001B[1;33m     \u001B[0mres\u001B[0m \u001B[1;33m=\u001B[0m \u001B[0mtransformer\u001B[0m\u001B[1;33m.\u001B[0m\u001B[0mtransform\u001B[0m\u001B[1;33m(\u001B[0m\u001B[0mX\u001B[0m\u001B[1;33m)\u001B[0m\u001B[1;33m\u001B[0m\u001B[1;33m\u001B[0m\u001B[0m\n\u001B[0m\u001B[0;32m    734\u001B[0m     \u001B[1;31m# if we have a weight for this transformer, multiply output\u001B[0m\u001B[1;33m\u001B[0m\u001B[1;33m\u001B[0m\u001B[1;33m\u001B[0m\u001B[0m\n\u001B[0;32m    735\u001B[0m     \u001B[1;32mif\u001B[0m \u001B[0mweight\u001B[0m \u001B[1;32mis\u001B[0m \u001B[1;32mNone\u001B[0m\u001B[1;33m:\u001B[0m\u001B[1;33m\u001B[0m\u001B[1;33m\u001B[0m\u001B[0m\n",
      "\u001B[1;32m~\\anaconda3\\lib\\site-packages\\sklearn\\preprocessing\\_encoders.py\u001B[0m in \u001B[0;36mtransform\u001B[1;34m(self, X)\u001B[0m\n\u001B[0;32m    459\u001B[0m         \u001B[0mcheck_is_fitted\u001B[0m\u001B[1;33m(\u001B[0m\u001B[0mself\u001B[0m\u001B[1;33m)\u001B[0m\u001B[1;33m\u001B[0m\u001B[1;33m\u001B[0m\u001B[0m\n\u001B[0;32m    460\u001B[0m         \u001B[1;31m# validation of X happens in _check_X called by _transform\u001B[0m\u001B[1;33m\u001B[0m\u001B[1;33m\u001B[0m\u001B[1;33m\u001B[0m\u001B[0m\n\u001B[1;32m--> 461\u001B[1;33m         X_int, X_mask = self._transform(X, handle_unknown=self.handle_unknown,\n\u001B[0m\u001B[0;32m    462\u001B[0m                                         force_all_finite='allow-nan')\n\u001B[0;32m    463\u001B[0m \u001B[1;33m\u001B[0m\u001B[0m\n",
      "\u001B[1;32m~\\anaconda3\\lib\\site-packages\\sklearn\\preprocessing\\_encoders.py\u001B[0m in \u001B[0;36m_transform\u001B[1;34m(self, X, handle_unknown, force_all_finite)\u001B[0m\n\u001B[0;32m    134\u001B[0m                     msg = (\"Found unknown categories {0} in column {1}\"\n\u001B[0;32m    135\u001B[0m                            \" during transform\".format(diff, i))\n\u001B[1;32m--> 136\u001B[1;33m                     \u001B[1;32mraise\u001B[0m \u001B[0mValueError\u001B[0m\u001B[1;33m(\u001B[0m\u001B[0mmsg\u001B[0m\u001B[1;33m)\u001B[0m\u001B[1;33m\u001B[0m\u001B[1;33m\u001B[0m\u001B[0m\n\u001B[0m\u001B[0;32m    137\u001B[0m                 \u001B[1;32melse\u001B[0m\u001B[1;33m:\u001B[0m\u001B[1;33m\u001B[0m\u001B[1;33m\u001B[0m\u001B[0m\n\u001B[0;32m    138\u001B[0m                     \u001B[1;31m# Set the problematic rows to an acceptable value and\u001B[0m\u001B[1;33m\u001B[0m\u001B[1;33m\u001B[0m\u001B[1;33m\u001B[0m\u001B[0m\n",
      "\u001B[1;31mValueError\u001B[0m: Found unknown categories [6] in column 27 during transform"
     ]
    }
   ],
   "source": [
    "# Try with other scaler\n",
    "\n",
    "for samp in [oversampler,undersampler]:\n",
    "    X_b, y_b = samp.fit_resample(X_train,y_train)\n",
    "    for estimator in estimators:\n",
    "\n",
    "       print(estimator)\n",
    "       pipe.set_params(estimator = estimator)\n",
    "       #pipe.set_params(sampler = samp)\n",
    "       pipe.fit(X_b, y_b)\n",
    "       prediction = pipe.predict(X_test)\n",
    "       print(classification_report(y_test, prediction))"
   ],
   "metadata": {
    "collapsed": false,
    "pycharm": {
     "name": "#%%\n"
    }
   }
  },
  {
   "cell_type": "code",
   "execution_count": null,
   "outputs": [],
   "source": [
    "from imblearn.pipeline import Pipeline\n",
    "\n",
    "#sampler = RandomUnderSampler()\n",
    "\n",
    "#pipeline = Pipeline([ ('normalisation', transform), ('balancing', sampler), ('classification', estimator) ])\n",
    "\n",
    "#accuracy_iris = cross_val_score(pipeline, iris_data, iris_target, cv=10, scoring='accuracy')\n",
    "\n",
    "#print(\"Average Accuracy = {}%\".format(accuracy_iris.mean() * 100.0))"
   ],
   "metadata": {
    "collapsed": false,
    "pycharm": {
     "name": "#%%\n"
    }
   }
  },
  {
   "cell_type": "code",
   "execution_count": null,
   "outputs": [],
   "source": [
    "logreg2 = LogisticRegression(max_iter = 5000)\n",
    "rfe = RFE(logreg2,20, verbose=1)\n",
    "#pipe.set_params(estimator=rfe)\n",
    "pipe.set_params(estimator= rfe)\n",
    "pipe.fit(X_train,y_train)"
   ],
   "metadata": {
    "collapsed": false,
    "pycharm": {
     "name": "#%%\n"
    }
   }
  },
  {
   "cell_type": "code",
   "execution_count": null,
   "outputs": [],
   "source": [
    "print(rfe.support_)\n",
    "print(rfe.ranking_)"
   ],
   "metadata": {
    "collapsed": false,
    "pycharm": {
     "name": "#%%\n"
    }
   }
  },
  {
   "cell_type": "code",
   "execution_count": null,
   "outputs": [],
   "source": [
    "X_t = X_prep_train[X_prep_train.columns[rfe.support_]]\n",
    "import statsmodels.api as sm\n",
    "logit_model = sm.Logit(y_prep_train,X_t)\n",
    "result = logit_model.fit()\n",
    "print(result.summary2())"
   ],
   "metadata": {
    "collapsed": false,
    "pycharm": {
     "name": "#%%\n"
    }
   }
  },
  {
   "cell_type": "code",
   "execution_count": null,
   "outputs": [],
   "source": [
    "#logreg2.fit(X_t, y_train)\n",
    "#pred = logreg2.predict(X_test[X_test.columns[rfe.support_]])\n",
    "#print(\"Accuracy: \" , logreg2.score(X_test[X_test.columns[rfe.support_]],y_test))\n",
    "\n",
    "X_prep_test2 = X_prep_test[X_prep_test.columns[rfe.support_]]\n",
    "pred = logit_model.predict(logit_model)\n",
    "accuracy_score(y_prep_train, pred)"
   ],
   "metadata": {
    "collapsed": false,
    "pycharm": {
     "name": "#%%\n"
    }
   }
  },
  {
   "cell_type": "code",
   "execution_count": null,
   "outputs": [],
   "source": [],
   "metadata": {
    "collapsed": false,
    "pycharm": {
     "name": "#%%\n"
    }
   }
  },
  {
   "cell_type": "code",
   "execution_count": null,
   "outputs": [],
   "source": [
    "X_prep_test2"
   ],
   "metadata": {
    "collapsed": false,
    "pycharm": {
     "name": "#%%\n"
    }
   }
  }
 ],
 "metadata": {
  "kernelspec": {
   "display_name": "Python 3",
   "language": "python",
   "name": "python3"
  },
  "language_info": {
   "codemirror_mode": {
    "name": "ipython",
    "version": 2
   },
   "file_extension": ".py",
   "mimetype": "text/x-python",
   "name": "python",
   "nbconvert_exporter": "python",
   "pygments_lexer": "ipython2",
   "version": "2.7.6"
  }
 },
 "nbformat": 4,
 "nbformat_minor": 0
}