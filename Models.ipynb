{
 "cells": [
  {
   "cell_type": "code",
   "execution_count": 1,
   "outputs": [],
   "source": [
    "import pandas as pd\n",
    "import numpy as np\n",
    "import matplotlib.pyplot as plt\n",
    "from sklearn.compose import ColumnTransformer\n",
    "from sklearn.preprocessing import OneHotEncoder\n",
    "from sklearn.preprocessing import OneHotEncoder\n",
    "from sklearn.model_selection import train_test_split, cross_val_score\n",
    "from sklearn.linear_model import LogisticRegression\n",
    "from sklearn.metrics import accuracy_score\n",
    "from sklearn.metrics import f1_score\n",
    "from sklearn.metrics import confusion_matrix\n",
    "from sklearn.metrics import precision_score,recall_score\n",
    "from sklearn.tree import DecisionTreeRegressor\n",
    "from sklearn.ensemble import RandomForestClassifier\n",
    "#import eli5\n",
    "#from eli5.sklearn import PermutationImportance\n",
    "from sklearn.metrics import confusion_matrix\n",
    "from sklearn.metrics import classification_report\n",
    "#import the MLPClassifier from neural_network from sklearn\n",
    "from sklearn.neural_network import MLPClassifier\n",
    "#import the pipeline from sklearn\n",
    "from imblearn.pipeline import Pipeline\n",
    "from sklearn.neighbors import NearestNeighbors\n",
    "from imblearn.under_sampling import RandomUnderSampler\n",
    "from imblearn.over_sampling import RandomOverSampler\n",
    "import matplotlib.pyplot as plt\n",
    "from sklearn.preprocessing import StandardScaler\n",
    "from sklearn.neighbors import KNeighborsClassifier\n",
    "from sklearn.feature_selection import RFE\n",
    "\n",
    "\n",
    "import warnings\n",
    "warnings.filterwarnings('ignore')"
   ],
   "metadata": {
    "collapsed": false,
    "pycharm": {
     "name": "#%%\n"
    }
   }
  },
  {
   "cell_type": "code",
   "execution_count": 2,
   "outputs": [
    {
     "data": {
      "text/plain": "  accident_index  number_of_vehicles  number_of_casualties  month  \\\n0  2020010278554                   2                     1     11   \n1  2020010278556                   2                     1     11   \n2  2020010278558                   2                     1     11   \n3  2020010278559                   2                     1     11   \n4  2020010278564                   2                     1     11   \n\n   day_of_week    time  first_road_class  road_type  speed_limit  \\\n0            2  1220.0                 5          6           20   \n1            4   710.0                 5          6           30   \n2            2  1171.0                 3          2           20   \n3            2  1153.0                 5          6           30   \n4            2   994.0                 3         -1           20   \n\n   junction_detail  ...  vehicle_leaving_carriageway  \\\n0                0  ...                            0   \n1                3  ...                           -1   \n2                3  ...                            0   \n3                0  ...                            0   \n4                5  ...                           -1   \n\n   hit_object_off_carriageway  first_point_of_impact  sex_of_driver  \\\n0                           0                      3              1   \n1                          -1                     -1              1   \n2                           0                      2              1   \n3                           0                      4              1   \n4                          -1                      1              2   \n\n   age_band_of_driver  engine_capacity_cc  propulsion_code  age_of_vehicle  \\\n0                   5                 113                1               4   \n1                   4                 125                1               4   \n2                   7                 125                1               0   \n3                   7                 124                1               7   \n4                   5                 125                1               6   \n\n   driver_imd_decile  driver_home_area_type  \n0                 -1                     -1  \n1                  1                      1  \n2                  3                      1  \n3                  6                      1  \n4                  7                      1  \n\n[5 rows x 42 columns]",
      "text/html": "<div>\n<style scoped>\n    .dataframe tbody tr th:only-of-type {\n        vertical-align: middle;\n    }\n\n    .dataframe tbody tr th {\n        vertical-align: top;\n    }\n\n    .dataframe thead th {\n        text-align: right;\n    }\n</style>\n<table border=\"1\" class=\"dataframe\">\n  <thead>\n    <tr style=\"text-align: right;\">\n      <th></th>\n      <th>accident_index</th>\n      <th>number_of_vehicles</th>\n      <th>number_of_casualties</th>\n      <th>month</th>\n      <th>day_of_week</th>\n      <th>time</th>\n      <th>first_road_class</th>\n      <th>road_type</th>\n      <th>speed_limit</th>\n      <th>junction_detail</th>\n      <th>...</th>\n      <th>vehicle_leaving_carriageway</th>\n      <th>hit_object_off_carriageway</th>\n      <th>first_point_of_impact</th>\n      <th>sex_of_driver</th>\n      <th>age_band_of_driver</th>\n      <th>engine_capacity_cc</th>\n      <th>propulsion_code</th>\n      <th>age_of_vehicle</th>\n      <th>driver_imd_decile</th>\n      <th>driver_home_area_type</th>\n    </tr>\n  </thead>\n  <tbody>\n    <tr>\n      <th>0</th>\n      <td>2020010278554</td>\n      <td>2</td>\n      <td>1</td>\n      <td>11</td>\n      <td>2</td>\n      <td>1220.0</td>\n      <td>5</td>\n      <td>6</td>\n      <td>20</td>\n      <td>0</td>\n      <td>...</td>\n      <td>0</td>\n      <td>0</td>\n      <td>3</td>\n      <td>1</td>\n      <td>5</td>\n      <td>113</td>\n      <td>1</td>\n      <td>4</td>\n      <td>-1</td>\n      <td>-1</td>\n    </tr>\n    <tr>\n      <th>1</th>\n      <td>2020010278556</td>\n      <td>2</td>\n      <td>1</td>\n      <td>11</td>\n      <td>4</td>\n      <td>710.0</td>\n      <td>5</td>\n      <td>6</td>\n      <td>30</td>\n      <td>3</td>\n      <td>...</td>\n      <td>-1</td>\n      <td>-1</td>\n      <td>-1</td>\n      <td>1</td>\n      <td>4</td>\n      <td>125</td>\n      <td>1</td>\n      <td>4</td>\n      <td>1</td>\n      <td>1</td>\n    </tr>\n    <tr>\n      <th>2</th>\n      <td>2020010278558</td>\n      <td>2</td>\n      <td>1</td>\n      <td>11</td>\n      <td>2</td>\n      <td>1171.0</td>\n      <td>3</td>\n      <td>2</td>\n      <td>20</td>\n      <td>3</td>\n      <td>...</td>\n      <td>0</td>\n      <td>0</td>\n      <td>2</td>\n      <td>1</td>\n      <td>7</td>\n      <td>125</td>\n      <td>1</td>\n      <td>0</td>\n      <td>3</td>\n      <td>1</td>\n    </tr>\n    <tr>\n      <th>3</th>\n      <td>2020010278559</td>\n      <td>2</td>\n      <td>1</td>\n      <td>11</td>\n      <td>2</td>\n      <td>1153.0</td>\n      <td>5</td>\n      <td>6</td>\n      <td>30</td>\n      <td>0</td>\n      <td>...</td>\n      <td>0</td>\n      <td>0</td>\n      <td>4</td>\n      <td>1</td>\n      <td>7</td>\n      <td>124</td>\n      <td>1</td>\n      <td>7</td>\n      <td>6</td>\n      <td>1</td>\n    </tr>\n    <tr>\n      <th>4</th>\n      <td>2020010278564</td>\n      <td>2</td>\n      <td>1</td>\n      <td>11</td>\n      <td>2</td>\n      <td>994.0</td>\n      <td>3</td>\n      <td>-1</td>\n      <td>20</td>\n      <td>5</td>\n      <td>...</td>\n      <td>-1</td>\n      <td>-1</td>\n      <td>1</td>\n      <td>2</td>\n      <td>5</td>\n      <td>125</td>\n      <td>1</td>\n      <td>6</td>\n      <td>7</td>\n      <td>1</td>\n    </tr>\n  </tbody>\n</table>\n<p>5 rows × 42 columns</p>\n</div>"
     },
     "execution_count": 2,
     "metadata": {},
     "output_type": "execute_result"
    }
   ],
   "source": [
    "estimators = []\n",
    "\n",
    "ac = pd.read_csv('accidents_preprocessed.csv')\n",
    "ac = ac.drop(columns=['location_easting_osgr', 'location_northing_osgr', 'longitude', 'latitude'])\n",
    "ac.head()"
   ],
   "metadata": {
    "collapsed": false,
    "pycharm": {
     "name": "#%%\n"
    }
   }
  },
  {
   "cell_type": "markdown",
   "source": [
    "### Preprocess Target class casualty_severity\n",
    "#### -Note:  Fatal and Serious together in one class and slight in the other"
   ],
   "metadata": {
    "collapsed": false
   }
  },
  {
   "cell_type": "code",
   "execution_count": 3,
   "outputs": [
    {
     "data": {
      "text/plain": "      accident_index  number_of_vehicles  number_of_casualties  month  \\\n0      2020010278554                   2                     1     11   \n1      2020010278556                   2                     1     11   \n12     2020010278586                   2                     1     11   \n13     2020010278589                   2                     1     11   \n14     2020010278598                   2                     1     11   \n...              ...                 ...                   ...    ...   \n68795  2020990963750                   1                     3      7   \n68797  2020990963750                   1                     3      7   \n68799  2020990963762                   2                     1      7   \n68803  2020990963785                   1                     1      7   \n68804  2020990963826                   3                     1      7   \n\n       day_of_week    time  first_road_class  road_type  speed_limit  \\\n0                2  1220.0                 5          6           20   \n1                4   710.0                 5          6           30   \n12               3   165.0                 3          6           20   \n13               3   287.0                 3          6           30   \n14               3   545.0                 3          2           20   \n...            ...     ...               ...        ...          ...   \n68795            7    30.0                 3          6           60   \n68797            7    30.0                 3          6           60   \n68799            7   960.0                -1          6           20   \n68803            7  1169.0                 3          6           60   \n68804            7   805.0                 3          6           50   \n\n       junction_detail  ...  vehicle_leaving_carriageway  \\\n0                    0  ...                            0   \n1                    3  ...                           -1   \n12                  -1  ...                            0   \n13                   6  ...                            0   \n14                  -1  ...                            0   \n...                ...  ...                          ...   \n68795                0  ...                            0   \n68797                0  ...                            0   \n68799                0  ...                            0   \n68803                0  ...                            0   \n68804                0  ...                            1   \n\n       hit_object_off_carriageway  first_point_of_impact  sex_of_driver  \\\n0                               0                      3              1   \n1                              -1                     -1              1   \n12                              0                      1              1   \n13                              0                      1              1   \n14                              0                      4              1   \n...                           ...                    ...            ...   \n68795                           0                      0              2   \n68797                           0                      0              2   \n68799                           0                      3              2   \n68803                           0                      1              1   \n68804                           0                      1              1   \n\n       age_band_of_driver  engine_capacity_cc  propulsion_code  \\\n0                       5                 113                1   \n1                       4                 125                1   \n12                      7                1598                1   \n13                      7                 109                1   \n14                      6                 124                1   \n...                   ...                 ...              ...   \n68795                   4                1400                1   \n68797                   4                1400                1   \n68799                   9                1997                1   \n68803                   8                 998                1   \n68804                   8                1085                1   \n\n       age_of_vehicle  driver_imd_decile  driver_home_area_type  \n0                   4                 -1                     -1  \n1                   4                  1                      1  \n12                 16                  3                      1  \n13                  5                  2                      1  \n14                  0                  5                      1  \n...               ...                ...                    ...  \n68795              15                  7                      3  \n68797              15                  7                      3  \n68799              13                  5                      2  \n68803              20                 10                      1  \n68804              21                 10                      1  \n\n[11599 rows x 42 columns]",
      "text/html": "<div>\n<style scoped>\n    .dataframe tbody tr th:only-of-type {\n        vertical-align: middle;\n    }\n\n    .dataframe tbody tr th {\n        vertical-align: top;\n    }\n\n    .dataframe thead th {\n        text-align: right;\n    }\n</style>\n<table border=\"1\" class=\"dataframe\">\n  <thead>\n    <tr style=\"text-align: right;\">\n      <th></th>\n      <th>accident_index</th>\n      <th>number_of_vehicles</th>\n      <th>number_of_casualties</th>\n      <th>month</th>\n      <th>day_of_week</th>\n      <th>time</th>\n      <th>first_road_class</th>\n      <th>road_type</th>\n      <th>speed_limit</th>\n      <th>junction_detail</th>\n      <th>...</th>\n      <th>vehicle_leaving_carriageway</th>\n      <th>hit_object_off_carriageway</th>\n      <th>first_point_of_impact</th>\n      <th>sex_of_driver</th>\n      <th>age_band_of_driver</th>\n      <th>engine_capacity_cc</th>\n      <th>propulsion_code</th>\n      <th>age_of_vehicle</th>\n      <th>driver_imd_decile</th>\n      <th>driver_home_area_type</th>\n    </tr>\n  </thead>\n  <tbody>\n    <tr>\n      <th>0</th>\n      <td>2020010278554</td>\n      <td>2</td>\n      <td>1</td>\n      <td>11</td>\n      <td>2</td>\n      <td>1220.0</td>\n      <td>5</td>\n      <td>6</td>\n      <td>20</td>\n      <td>0</td>\n      <td>...</td>\n      <td>0</td>\n      <td>0</td>\n      <td>3</td>\n      <td>1</td>\n      <td>5</td>\n      <td>113</td>\n      <td>1</td>\n      <td>4</td>\n      <td>-1</td>\n      <td>-1</td>\n    </tr>\n    <tr>\n      <th>1</th>\n      <td>2020010278556</td>\n      <td>2</td>\n      <td>1</td>\n      <td>11</td>\n      <td>4</td>\n      <td>710.0</td>\n      <td>5</td>\n      <td>6</td>\n      <td>30</td>\n      <td>3</td>\n      <td>...</td>\n      <td>-1</td>\n      <td>-1</td>\n      <td>-1</td>\n      <td>1</td>\n      <td>4</td>\n      <td>125</td>\n      <td>1</td>\n      <td>4</td>\n      <td>1</td>\n      <td>1</td>\n    </tr>\n    <tr>\n      <th>12</th>\n      <td>2020010278586</td>\n      <td>2</td>\n      <td>1</td>\n      <td>11</td>\n      <td>3</td>\n      <td>165.0</td>\n      <td>3</td>\n      <td>6</td>\n      <td>20</td>\n      <td>-1</td>\n      <td>...</td>\n      <td>0</td>\n      <td>0</td>\n      <td>1</td>\n      <td>1</td>\n      <td>7</td>\n      <td>1598</td>\n      <td>1</td>\n      <td>16</td>\n      <td>3</td>\n      <td>1</td>\n    </tr>\n    <tr>\n      <th>13</th>\n      <td>2020010278589</td>\n      <td>2</td>\n      <td>1</td>\n      <td>11</td>\n      <td>3</td>\n      <td>287.0</td>\n      <td>3</td>\n      <td>6</td>\n      <td>30</td>\n      <td>6</td>\n      <td>...</td>\n      <td>0</td>\n      <td>0</td>\n      <td>1</td>\n      <td>1</td>\n      <td>7</td>\n      <td>109</td>\n      <td>1</td>\n      <td>5</td>\n      <td>2</td>\n      <td>1</td>\n    </tr>\n    <tr>\n      <th>14</th>\n      <td>2020010278598</td>\n      <td>2</td>\n      <td>1</td>\n      <td>11</td>\n      <td>3</td>\n      <td>545.0</td>\n      <td>3</td>\n      <td>2</td>\n      <td>20</td>\n      <td>-1</td>\n      <td>...</td>\n      <td>0</td>\n      <td>0</td>\n      <td>4</td>\n      <td>1</td>\n      <td>6</td>\n      <td>124</td>\n      <td>1</td>\n      <td>0</td>\n      <td>5</td>\n      <td>1</td>\n    </tr>\n    <tr>\n      <th>...</th>\n      <td>...</td>\n      <td>...</td>\n      <td>...</td>\n      <td>...</td>\n      <td>...</td>\n      <td>...</td>\n      <td>...</td>\n      <td>...</td>\n      <td>...</td>\n      <td>...</td>\n      <td>...</td>\n      <td>...</td>\n      <td>...</td>\n      <td>...</td>\n      <td>...</td>\n      <td>...</td>\n      <td>...</td>\n      <td>...</td>\n      <td>...</td>\n      <td>...</td>\n      <td>...</td>\n    </tr>\n    <tr>\n      <th>68795</th>\n      <td>2020990963750</td>\n      <td>1</td>\n      <td>3</td>\n      <td>7</td>\n      <td>7</td>\n      <td>30.0</td>\n      <td>3</td>\n      <td>6</td>\n      <td>60</td>\n      <td>0</td>\n      <td>...</td>\n      <td>0</td>\n      <td>0</td>\n      <td>0</td>\n      <td>2</td>\n      <td>4</td>\n      <td>1400</td>\n      <td>1</td>\n      <td>15</td>\n      <td>7</td>\n      <td>3</td>\n    </tr>\n    <tr>\n      <th>68797</th>\n      <td>2020990963750</td>\n      <td>1</td>\n      <td>3</td>\n      <td>7</td>\n      <td>7</td>\n      <td>30.0</td>\n      <td>3</td>\n      <td>6</td>\n      <td>60</td>\n      <td>0</td>\n      <td>...</td>\n      <td>0</td>\n      <td>0</td>\n      <td>0</td>\n      <td>2</td>\n      <td>4</td>\n      <td>1400</td>\n      <td>1</td>\n      <td>15</td>\n      <td>7</td>\n      <td>3</td>\n    </tr>\n    <tr>\n      <th>68799</th>\n      <td>2020990963762</td>\n      <td>2</td>\n      <td>1</td>\n      <td>7</td>\n      <td>7</td>\n      <td>960.0</td>\n      <td>-1</td>\n      <td>6</td>\n      <td>20</td>\n      <td>0</td>\n      <td>...</td>\n      <td>0</td>\n      <td>0</td>\n      <td>3</td>\n      <td>2</td>\n      <td>9</td>\n      <td>1997</td>\n      <td>1</td>\n      <td>13</td>\n      <td>5</td>\n      <td>2</td>\n    </tr>\n    <tr>\n      <th>68803</th>\n      <td>2020990963785</td>\n      <td>1</td>\n      <td>1</td>\n      <td>7</td>\n      <td>7</td>\n      <td>1169.0</td>\n      <td>3</td>\n      <td>6</td>\n      <td>60</td>\n      <td>0</td>\n      <td>...</td>\n      <td>0</td>\n      <td>0</td>\n      <td>1</td>\n      <td>1</td>\n      <td>8</td>\n      <td>998</td>\n      <td>1</td>\n      <td>20</td>\n      <td>10</td>\n      <td>1</td>\n    </tr>\n    <tr>\n      <th>68804</th>\n      <td>2020990963826</td>\n      <td>3</td>\n      <td>1</td>\n      <td>7</td>\n      <td>7</td>\n      <td>805.0</td>\n      <td>3</td>\n      <td>6</td>\n      <td>50</td>\n      <td>0</td>\n      <td>...</td>\n      <td>1</td>\n      <td>0</td>\n      <td>1</td>\n      <td>1</td>\n      <td>8</td>\n      <td>1085</td>\n      <td>1</td>\n      <td>21</td>\n      <td>10</td>\n      <td>1</td>\n    </tr>\n  </tbody>\n</table>\n<p>11599 rows × 42 columns</p>\n</div>"
     },
     "execution_count": 3,
     "metadata": {},
     "output_type": "execute_result"
    }
   ],
   "source": [
    "\n",
    "ac['casualty_severity'] = ac['casualty_severity'].replace(2, 1)\n",
    "ac['casualty_severity'] = ac['casualty_severity'].replace(3, 0)\n",
    "\n",
    "ac[ac.casualty_severity == 1]"
   ],
   "metadata": {
    "collapsed": false,
    "pycharm": {
     "name": "#%%\n"
    }
   }
  },
  {
   "cell_type": "code",
   "execution_count": 4,
   "outputs": [],
   "source": [
    "one_hot_list = ['first_road_class', 'road_type', 'junction_detail', 'junction_control', 'light_conditions',\n",
    "                'weather_conditions', 'road_surface_conditions', 'special_conditions_at_site', 'carriageway_hazards',\n",
    "                'urban_or_rural_area', 'trunk_road_flag', 'casualty_class', 'sex_of_casualty', 'car_passenger',\n",
    "                'casualty_type', 'casualty_home_area_type', 'casualty_imd_decile', 'towing_and_articulation',\n",
    "                'vehicle_manoeuvre', 'vehicle_location_restricted_lane', 'junction_location',\n",
    "                'skidding_and_overturning', 'hit_object_in_carriageway', 'vehicle_leaving_carriageway',\n",
    "                'hit_object_off_carriageway', 'first_point_of_impact', 'sex_of_driver', 'propulsion_code',\n",
    "                'driver_imd_decile', 'driver_home_area_type']\n",
    "\n",
    "#Maybe change speed limit\n",
    "ordinal_list = ['number_of_vehicles', 'number_of_casualties', 'month', 'day_of_week', 'time', 'speed_limit',\n",
    "                'age_band_of_casualty', 'age_band_of_driver', 'engine_capacity_cc', 'age_of_vehicle']"
   ],
   "metadata": {
    "collapsed": false,
    "pycharm": {
     "name": "#%%\n"
    }
   }
  },
  {
   "cell_type": "code",
   "execution_count": 5,
   "outputs": [
    {
     "data": {
      "text/plain": "  accident_index  number_of_vehicles  number_of_casualties  month  \\\n0  2020010278554                   2                     1     11   \n1  2020010278556                   2                     1     11   \n2  2020010278558                   2                     1     11   \n3  2020010278559                   2                     1     11   \n4  2020010278564                   2                     1     11   \n5  2020010278570                   2                     1     11   \n6  2020010278571                   2                     1     11   \n7  2020010278575                   1                     1     11   \n8  2020010278579                   2                     1     11   \n9  2020010278581                   2                     1     11   \n\n   day_of_week    time  first_road_class  road_type  speed_limit  \\\n0            2  1220.0                 5          6           20   \n1            4   710.0                 5          6           30   \n2            2  1171.0                 3          2           20   \n3            2  1153.0                 5          6           30   \n4            2   994.0                 3         -1           20   \n5            2   970.0                -1          6           30   \n6            2  1226.0                 4          6           20   \n7            2  1350.0                 3          1           40   \n8            2  1123.0                 5         -1           30   \n9            2  1320.0                 5          6           30   \n\n   junction_detail  ...  vehicle_leaving_carriageway  \\\n0                0  ...                            0   \n1                3  ...                           -1   \n2                3  ...                            0   \n3                0  ...                            0   \n4                5  ...                           -1   \n5                3  ...                            0   \n6                3  ...                            0   \n7                1  ...                            0   \n8                0  ...                            0   \n9                3  ...                            7   \n\n   hit_object_off_carriageway  first_point_of_impact  sex_of_driver  \\\n0                           0                      3              1   \n1                          -1                     -1              1   \n2                           0                      2              1   \n3                           0                      4              1   \n4                          -1                      1              2   \n5                           0                      3              1   \n6                           0                      1              1   \n7                           0                      1              1   \n8                           0                      1              1   \n9                           2                      3              2   \n\n   age_band_of_driver  engine_capacity_cc  propulsion_code  age_of_vehicle  \\\n0                   5                 113                1               4   \n1                   4                 125                1               4   \n2                   7                 125                1               0   \n3                   7                 124                1               7   \n4                   5                 125                1               6   \n5                   6                 998                1               3   \n6                   7                 125                1               0   \n7                   4                  -1               -1              -1   \n8                   7                  -1               -1              -1   \n9                   7                1499                2               2   \n\n   driver_imd_decile  driver_home_area_type  \n0                 -1                     -1  \n1                  1                      1  \n2                  3                      1  \n3                  6                      1  \n4                  7                      1  \n5                  2                      1  \n6                  5                      1  \n7                  6                      1  \n8                 -1                     -1  \n9                  1                      1  \n\n[10 rows x 42 columns]",
      "text/html": "<div>\n<style scoped>\n    .dataframe tbody tr th:only-of-type {\n        vertical-align: middle;\n    }\n\n    .dataframe tbody tr th {\n        vertical-align: top;\n    }\n\n    .dataframe thead th {\n        text-align: right;\n    }\n</style>\n<table border=\"1\" class=\"dataframe\">\n  <thead>\n    <tr style=\"text-align: right;\">\n      <th></th>\n      <th>accident_index</th>\n      <th>number_of_vehicles</th>\n      <th>number_of_casualties</th>\n      <th>month</th>\n      <th>day_of_week</th>\n      <th>time</th>\n      <th>first_road_class</th>\n      <th>road_type</th>\n      <th>speed_limit</th>\n      <th>junction_detail</th>\n      <th>...</th>\n      <th>vehicle_leaving_carriageway</th>\n      <th>hit_object_off_carriageway</th>\n      <th>first_point_of_impact</th>\n      <th>sex_of_driver</th>\n      <th>age_band_of_driver</th>\n      <th>engine_capacity_cc</th>\n      <th>propulsion_code</th>\n      <th>age_of_vehicle</th>\n      <th>driver_imd_decile</th>\n      <th>driver_home_area_type</th>\n    </tr>\n  </thead>\n  <tbody>\n    <tr>\n      <th>0</th>\n      <td>2020010278554</td>\n      <td>2</td>\n      <td>1</td>\n      <td>11</td>\n      <td>2</td>\n      <td>1220.0</td>\n      <td>5</td>\n      <td>6</td>\n      <td>20</td>\n      <td>0</td>\n      <td>...</td>\n      <td>0</td>\n      <td>0</td>\n      <td>3</td>\n      <td>1</td>\n      <td>5</td>\n      <td>113</td>\n      <td>1</td>\n      <td>4</td>\n      <td>-1</td>\n      <td>-1</td>\n    </tr>\n    <tr>\n      <th>1</th>\n      <td>2020010278556</td>\n      <td>2</td>\n      <td>1</td>\n      <td>11</td>\n      <td>4</td>\n      <td>710.0</td>\n      <td>5</td>\n      <td>6</td>\n      <td>30</td>\n      <td>3</td>\n      <td>...</td>\n      <td>-1</td>\n      <td>-1</td>\n      <td>-1</td>\n      <td>1</td>\n      <td>4</td>\n      <td>125</td>\n      <td>1</td>\n      <td>4</td>\n      <td>1</td>\n      <td>1</td>\n    </tr>\n    <tr>\n      <th>2</th>\n      <td>2020010278558</td>\n      <td>2</td>\n      <td>1</td>\n      <td>11</td>\n      <td>2</td>\n      <td>1171.0</td>\n      <td>3</td>\n      <td>2</td>\n      <td>20</td>\n      <td>3</td>\n      <td>...</td>\n      <td>0</td>\n      <td>0</td>\n      <td>2</td>\n      <td>1</td>\n      <td>7</td>\n      <td>125</td>\n      <td>1</td>\n      <td>0</td>\n      <td>3</td>\n      <td>1</td>\n    </tr>\n    <tr>\n      <th>3</th>\n      <td>2020010278559</td>\n      <td>2</td>\n      <td>1</td>\n      <td>11</td>\n      <td>2</td>\n      <td>1153.0</td>\n      <td>5</td>\n      <td>6</td>\n      <td>30</td>\n      <td>0</td>\n      <td>...</td>\n      <td>0</td>\n      <td>0</td>\n      <td>4</td>\n      <td>1</td>\n      <td>7</td>\n      <td>124</td>\n      <td>1</td>\n      <td>7</td>\n      <td>6</td>\n      <td>1</td>\n    </tr>\n    <tr>\n      <th>4</th>\n      <td>2020010278564</td>\n      <td>2</td>\n      <td>1</td>\n      <td>11</td>\n      <td>2</td>\n      <td>994.0</td>\n      <td>3</td>\n      <td>-1</td>\n      <td>20</td>\n      <td>5</td>\n      <td>...</td>\n      <td>-1</td>\n      <td>-1</td>\n      <td>1</td>\n      <td>2</td>\n      <td>5</td>\n      <td>125</td>\n      <td>1</td>\n      <td>6</td>\n      <td>7</td>\n      <td>1</td>\n    </tr>\n    <tr>\n      <th>5</th>\n      <td>2020010278570</td>\n      <td>2</td>\n      <td>1</td>\n      <td>11</td>\n      <td>2</td>\n      <td>970.0</td>\n      <td>-1</td>\n      <td>6</td>\n      <td>30</td>\n      <td>3</td>\n      <td>...</td>\n      <td>0</td>\n      <td>0</td>\n      <td>3</td>\n      <td>1</td>\n      <td>6</td>\n      <td>998</td>\n      <td>1</td>\n      <td>3</td>\n      <td>2</td>\n      <td>1</td>\n    </tr>\n    <tr>\n      <th>6</th>\n      <td>2020010278571</td>\n      <td>2</td>\n      <td>1</td>\n      <td>11</td>\n      <td>2</td>\n      <td>1226.0</td>\n      <td>4</td>\n      <td>6</td>\n      <td>20</td>\n      <td>3</td>\n      <td>...</td>\n      <td>0</td>\n      <td>0</td>\n      <td>1</td>\n      <td>1</td>\n      <td>7</td>\n      <td>125</td>\n      <td>1</td>\n      <td>0</td>\n      <td>5</td>\n      <td>1</td>\n    </tr>\n    <tr>\n      <th>7</th>\n      <td>2020010278575</td>\n      <td>1</td>\n      <td>1</td>\n      <td>11</td>\n      <td>2</td>\n      <td>1350.0</td>\n      <td>3</td>\n      <td>1</td>\n      <td>40</td>\n      <td>1</td>\n      <td>...</td>\n      <td>0</td>\n      <td>0</td>\n      <td>1</td>\n      <td>1</td>\n      <td>4</td>\n      <td>-1</td>\n      <td>-1</td>\n      <td>-1</td>\n      <td>6</td>\n      <td>1</td>\n    </tr>\n    <tr>\n      <th>8</th>\n      <td>2020010278579</td>\n      <td>2</td>\n      <td>1</td>\n      <td>11</td>\n      <td>2</td>\n      <td>1123.0</td>\n      <td>5</td>\n      <td>-1</td>\n      <td>30</td>\n      <td>0</td>\n      <td>...</td>\n      <td>0</td>\n      <td>0</td>\n      <td>1</td>\n      <td>1</td>\n      <td>7</td>\n      <td>-1</td>\n      <td>-1</td>\n      <td>-1</td>\n      <td>-1</td>\n      <td>-1</td>\n    </tr>\n    <tr>\n      <th>9</th>\n      <td>2020010278581</td>\n      <td>2</td>\n      <td>1</td>\n      <td>11</td>\n      <td>2</td>\n      <td>1320.0</td>\n      <td>5</td>\n      <td>6</td>\n      <td>30</td>\n      <td>3</td>\n      <td>...</td>\n      <td>7</td>\n      <td>2</td>\n      <td>3</td>\n      <td>2</td>\n      <td>7</td>\n      <td>1499</td>\n      <td>2</td>\n      <td>2</td>\n      <td>1</td>\n      <td>1</td>\n    </tr>\n  </tbody>\n</table>\n<p>10 rows × 42 columns</p>\n</div>"
     },
     "execution_count": 5,
     "metadata": {},
     "output_type": "execute_result"
    }
   ],
   "source": [
    "#Reset the indices\n",
    "ac = ac.reset_index(drop=True)\n",
    "\n",
    "ac.head(n=10)\n"
   ],
   "metadata": {
    "collapsed": false,
    "pycharm": {
     "name": "#%%\n"
    }
   }
  },
  {
   "cell_type": "code",
   "execution_count": 6,
   "outputs": [],
   "source": [
    "accidents = ac.copy()\n",
    "\n",
    "#replace missing (-1) values\n",
    "from sklearn.impute import SimpleImputer\n",
    "imp = SimpleImputer(missing_values=-1, strategy='mean')\n",
    "\n",
    "y = accidents['casualty_severity']\n",
    "accidents = accidents.drop(columns=['casualty_severity'])\n",
    "\n",
    "one_hot_encoder = OneHotEncoder(handle_unknown='ignore')\n",
    "scaler = StandardScaler()\n",
    "\n",
    "preprocessor = ColumnTransformer(\n",
    "    transformers=[\n",
    "        # use OneHotEncoder for Outlook and Wind\n",
    "        ('encoder', one_hot_encoder, one_hot_list),\n",
    "        # use StandardScaler for Temperature and Humidity\n",
    "        ('scaler', scaler, ordinal_list)\n",
    "    ])\n",
    "\n",
    "pipe = Pipeline(steps=[(\"preprocessor\", preprocessor), (\"imputer\", imp), (\"sampler\", None), (\"estimator\", None)])"
   ],
   "metadata": {
    "collapsed": false,
    "pycharm": {
     "name": "#%%\n"
    }
   }
  },
  {
   "cell_type": "code",
   "execution_count": 7,
   "outputs": [
    {
     "data": {
      "text/plain": "      accident_index  number_of_vehicles  number_of_casualties  month  \\\n0      2020010278554                   2                     1     11   \n1      2020010278556                   2                     1     11   \n2      2020010278558                   2                     1     11   \n3      2020010278559                   2                     1     11   \n4      2020010278564                   2                     1     11   \n...              ...                 ...                   ...    ...   \n68800  2020990963763                   2                     2      7   \n68801  2020990963763                   2                     2      7   \n68802  2020990963772                   2                     1      7   \n68803  2020990963785                   1                     1      7   \n68804  2020990963826                   3                     1      7   \n\n       day_of_week    time  first_road_class  road_type  speed_limit  \\\n0                2  1220.0                 5          6           20   \n1                4   710.0                 5          6           30   \n2                2  1171.0                 3          2           20   \n3                2  1153.0                 5          6           30   \n4                2   994.0                 3         -1           20   \n...            ...     ...               ...        ...          ...   \n68800            7  1082.0                 3          6           20   \n68801            7  1082.0                 3          6           20   \n68802            7  1065.0                 3          6           30   \n68803            7  1169.0                 3          6           60   \n68804            7   805.0                 3          6           50   \n\n       junction_detail  ...  vehicle_leaving_carriageway  \\\n0                    0  ...                            0   \n1                    3  ...                           -1   \n2                    3  ...                            0   \n3                    0  ...                            0   \n4                    5  ...                           -1   \n...                ...  ...                          ...   \n68800                0  ...                            0   \n68801                0  ...                            0   \n68802                3  ...                            0   \n68803                0  ...                            0   \n68804                0  ...                            1   \n\n       hit_object_off_carriageway  first_point_of_impact  sex_of_driver  \\\n0                               0                      3              1   \n1                              -1                     -1              1   \n2                               0                      2              1   \n3                               0                      4              1   \n4                              -1                      1              2   \n...                           ...                    ...            ...   \n68800                           0                      3              2   \n68801                           0                      1              1   \n68802                           0                      3              2   \n68803                           0                      1              1   \n68804                           0                      1              1   \n\n       age_band_of_driver  engine_capacity_cc  propulsion_code  \\\n0                       5                 113                1   \n1                       4                 125                1   \n2                       7                 125                1   \n3                       7                 124                1   \n4                       5                 125                1   \n...                   ...                 ...              ...   \n68800                   9                 998                1   \n68801                   7                 998                1   \n68802                   9                1498                1   \n68803                   8                 998                1   \n68804                   8                1085                1   \n\n       age_of_vehicle  driver_imd_decile  driver_home_area_type  \n0                   4                 -1                     -1  \n1                   4                  1                      1  \n2                   0                  3                      1  \n3                   7                  6                      1  \n4                   6                  7                      1  \n...               ...                ...                    ...  \n68800               2                  7                      1  \n68801               1                  8                      1  \n68802               1                  7                      1  \n68803              20                 10                      1  \n68804              21                 10                      1  \n\n[68805 rows x 41 columns]",
      "text/html": "<div>\n<style scoped>\n    .dataframe tbody tr th:only-of-type {\n        vertical-align: middle;\n    }\n\n    .dataframe tbody tr th {\n        vertical-align: top;\n    }\n\n    .dataframe thead th {\n        text-align: right;\n    }\n</style>\n<table border=\"1\" class=\"dataframe\">\n  <thead>\n    <tr style=\"text-align: right;\">\n      <th></th>\n      <th>accident_index</th>\n      <th>number_of_vehicles</th>\n      <th>number_of_casualties</th>\n      <th>month</th>\n      <th>day_of_week</th>\n      <th>time</th>\n      <th>first_road_class</th>\n      <th>road_type</th>\n      <th>speed_limit</th>\n      <th>junction_detail</th>\n      <th>...</th>\n      <th>vehicle_leaving_carriageway</th>\n      <th>hit_object_off_carriageway</th>\n      <th>first_point_of_impact</th>\n      <th>sex_of_driver</th>\n      <th>age_band_of_driver</th>\n      <th>engine_capacity_cc</th>\n      <th>propulsion_code</th>\n      <th>age_of_vehicle</th>\n      <th>driver_imd_decile</th>\n      <th>driver_home_area_type</th>\n    </tr>\n  </thead>\n  <tbody>\n    <tr>\n      <th>0</th>\n      <td>2020010278554</td>\n      <td>2</td>\n      <td>1</td>\n      <td>11</td>\n      <td>2</td>\n      <td>1220.0</td>\n      <td>5</td>\n      <td>6</td>\n      <td>20</td>\n      <td>0</td>\n      <td>...</td>\n      <td>0</td>\n      <td>0</td>\n      <td>3</td>\n      <td>1</td>\n      <td>5</td>\n      <td>113</td>\n      <td>1</td>\n      <td>4</td>\n      <td>-1</td>\n      <td>-1</td>\n    </tr>\n    <tr>\n      <th>1</th>\n      <td>2020010278556</td>\n      <td>2</td>\n      <td>1</td>\n      <td>11</td>\n      <td>4</td>\n      <td>710.0</td>\n      <td>5</td>\n      <td>6</td>\n      <td>30</td>\n      <td>3</td>\n      <td>...</td>\n      <td>-1</td>\n      <td>-1</td>\n      <td>-1</td>\n      <td>1</td>\n      <td>4</td>\n      <td>125</td>\n      <td>1</td>\n      <td>4</td>\n      <td>1</td>\n      <td>1</td>\n    </tr>\n    <tr>\n      <th>2</th>\n      <td>2020010278558</td>\n      <td>2</td>\n      <td>1</td>\n      <td>11</td>\n      <td>2</td>\n      <td>1171.0</td>\n      <td>3</td>\n      <td>2</td>\n      <td>20</td>\n      <td>3</td>\n      <td>...</td>\n      <td>0</td>\n      <td>0</td>\n      <td>2</td>\n      <td>1</td>\n      <td>7</td>\n      <td>125</td>\n      <td>1</td>\n      <td>0</td>\n      <td>3</td>\n      <td>1</td>\n    </tr>\n    <tr>\n      <th>3</th>\n      <td>2020010278559</td>\n      <td>2</td>\n      <td>1</td>\n      <td>11</td>\n      <td>2</td>\n      <td>1153.0</td>\n      <td>5</td>\n      <td>6</td>\n      <td>30</td>\n      <td>0</td>\n      <td>...</td>\n      <td>0</td>\n      <td>0</td>\n      <td>4</td>\n      <td>1</td>\n      <td>7</td>\n      <td>124</td>\n      <td>1</td>\n      <td>7</td>\n      <td>6</td>\n      <td>1</td>\n    </tr>\n    <tr>\n      <th>4</th>\n      <td>2020010278564</td>\n      <td>2</td>\n      <td>1</td>\n      <td>11</td>\n      <td>2</td>\n      <td>994.0</td>\n      <td>3</td>\n      <td>-1</td>\n      <td>20</td>\n      <td>5</td>\n      <td>...</td>\n      <td>-1</td>\n      <td>-1</td>\n      <td>1</td>\n      <td>2</td>\n      <td>5</td>\n      <td>125</td>\n      <td>1</td>\n      <td>6</td>\n      <td>7</td>\n      <td>1</td>\n    </tr>\n    <tr>\n      <th>...</th>\n      <td>...</td>\n      <td>...</td>\n      <td>...</td>\n      <td>...</td>\n      <td>...</td>\n      <td>...</td>\n      <td>...</td>\n      <td>...</td>\n      <td>...</td>\n      <td>...</td>\n      <td>...</td>\n      <td>...</td>\n      <td>...</td>\n      <td>...</td>\n      <td>...</td>\n      <td>...</td>\n      <td>...</td>\n      <td>...</td>\n      <td>...</td>\n      <td>...</td>\n      <td>...</td>\n    </tr>\n    <tr>\n      <th>68800</th>\n      <td>2020990963763</td>\n      <td>2</td>\n      <td>2</td>\n      <td>7</td>\n      <td>7</td>\n      <td>1082.0</td>\n      <td>3</td>\n      <td>6</td>\n      <td>20</td>\n      <td>0</td>\n      <td>...</td>\n      <td>0</td>\n      <td>0</td>\n      <td>3</td>\n      <td>2</td>\n      <td>9</td>\n      <td>998</td>\n      <td>1</td>\n      <td>2</td>\n      <td>7</td>\n      <td>1</td>\n    </tr>\n    <tr>\n      <th>68801</th>\n      <td>2020990963763</td>\n      <td>2</td>\n      <td>2</td>\n      <td>7</td>\n      <td>7</td>\n      <td>1082.0</td>\n      <td>3</td>\n      <td>6</td>\n      <td>20</td>\n      <td>0</td>\n      <td>...</td>\n      <td>0</td>\n      <td>0</td>\n      <td>1</td>\n      <td>1</td>\n      <td>7</td>\n      <td>998</td>\n      <td>1</td>\n      <td>1</td>\n      <td>8</td>\n      <td>1</td>\n    </tr>\n    <tr>\n      <th>68802</th>\n      <td>2020990963772</td>\n      <td>2</td>\n      <td>1</td>\n      <td>7</td>\n      <td>7</td>\n      <td>1065.0</td>\n      <td>3</td>\n      <td>6</td>\n      <td>30</td>\n      <td>3</td>\n      <td>...</td>\n      <td>0</td>\n      <td>0</td>\n      <td>3</td>\n      <td>2</td>\n      <td>9</td>\n      <td>1498</td>\n      <td>1</td>\n      <td>1</td>\n      <td>7</td>\n      <td>1</td>\n    </tr>\n    <tr>\n      <th>68803</th>\n      <td>2020990963785</td>\n      <td>1</td>\n      <td>1</td>\n      <td>7</td>\n      <td>7</td>\n      <td>1169.0</td>\n      <td>3</td>\n      <td>6</td>\n      <td>60</td>\n      <td>0</td>\n      <td>...</td>\n      <td>0</td>\n      <td>0</td>\n      <td>1</td>\n      <td>1</td>\n      <td>8</td>\n      <td>998</td>\n      <td>1</td>\n      <td>20</td>\n      <td>10</td>\n      <td>1</td>\n    </tr>\n    <tr>\n      <th>68804</th>\n      <td>2020990963826</td>\n      <td>3</td>\n      <td>1</td>\n      <td>7</td>\n      <td>7</td>\n      <td>805.0</td>\n      <td>3</td>\n      <td>6</td>\n      <td>50</td>\n      <td>0</td>\n      <td>...</td>\n      <td>1</td>\n      <td>0</td>\n      <td>1</td>\n      <td>1</td>\n      <td>8</td>\n      <td>1085</td>\n      <td>1</td>\n      <td>21</td>\n      <td>10</td>\n      <td>1</td>\n    </tr>\n  </tbody>\n</table>\n<p>68805 rows × 41 columns</p>\n</div>"
     },
     "execution_count": 7,
     "metadata": {},
     "output_type": "execute_result"
    }
   ],
   "source": [
    "accidents"
   ],
   "metadata": {
    "collapsed": false,
    "pycharm": {
     "name": "#%%\n"
    }
   }
  },
  {
   "cell_type": "markdown",
   "source": [
    "# First Splits and Models"
   ],
   "metadata": {
    "collapsed": false
   }
  },
  {
   "cell_type": "code",
   "execution_count": 8,
   "outputs": [
    {
     "data": {
      "text/plain": "0        1\n1        1\n2        0\n3        0\n4        0\n        ..\n68800    0\n68801    0\n68802    0\n68803    1\n68804    1\nName: casualty_severity, Length: 68805, dtype: int64"
     },
     "execution_count": 8,
     "metadata": {},
     "output_type": "execute_result"
    }
   ],
   "source": [
    "y"
   ],
   "metadata": {
    "collapsed": false,
    "pycharm": {
     "name": "#%%\n"
    }
   }
  },
  {
   "cell_type": "code",
   "execution_count": 9,
   "outputs": [
    {
     "data": {
      "text/plain": "      accident_index  number_of_vehicles  number_of_casualties  month  \\\n0      2020010278554                   2                     1     11   \n1      2020010278556                   2                     1     11   \n2      2020010278558                   2                     1     11   \n3      2020010278559                   2                     1     11   \n4      2020010278564                   2                     1     11   \n...              ...                 ...                   ...    ...   \n68800  2020990963763                   2                     2      7   \n68801  2020990963763                   2                     2      7   \n68802  2020990963772                   2                     1      7   \n68803  2020990963785                   1                     1      7   \n68804  2020990963826                   3                     1      7   \n\n       day_of_week    time  first_road_class  road_type  speed_limit  \\\n0                2  1220.0                 5          6           20   \n1                4   710.0                 5          6           30   \n2                2  1171.0                 3          2           20   \n3                2  1153.0                 5          6           30   \n4                2   994.0                 3         -1           20   \n...            ...     ...               ...        ...          ...   \n68800            7  1082.0                 3          6           20   \n68801            7  1082.0                 3          6           20   \n68802            7  1065.0                 3          6           30   \n68803            7  1169.0                 3          6           60   \n68804            7   805.0                 3          6           50   \n\n       junction_detail  ...  vehicle_leaving_carriageway  \\\n0                    0  ...                            0   \n1                    3  ...                           -1   \n2                    3  ...                            0   \n3                    0  ...                            0   \n4                    5  ...                           -1   \n...                ...  ...                          ...   \n68800                0  ...                            0   \n68801                0  ...                            0   \n68802                3  ...                            0   \n68803                0  ...                            0   \n68804                0  ...                            1   \n\n       hit_object_off_carriageway  first_point_of_impact  sex_of_driver  \\\n0                               0                      3              1   \n1                              -1                     -1              1   \n2                               0                      2              1   \n3                               0                      4              1   \n4                              -1                      1              2   \n...                           ...                    ...            ...   \n68800                           0                      3              2   \n68801                           0                      1              1   \n68802                           0                      3              2   \n68803                           0                      1              1   \n68804                           0                      1              1   \n\n       age_band_of_driver  engine_capacity_cc  propulsion_code  \\\n0                       5                 113                1   \n1                       4                 125                1   \n2                       7                 125                1   \n3                       7                 124                1   \n4                       5                 125                1   \n...                   ...                 ...              ...   \n68800                   9                 998                1   \n68801                   7                 998                1   \n68802                   9                1498                1   \n68803                   8                 998                1   \n68804                   8                1085                1   \n\n       age_of_vehicle  driver_imd_decile  driver_home_area_type  \n0                   4                 -1                     -1  \n1                   4                  1                      1  \n2                   0                  3                      1  \n3                   7                  6                      1  \n4                   6                  7                      1  \n...               ...                ...                    ...  \n68800               2                  7                      1  \n68801               1                  8                      1  \n68802               1                  7                      1  \n68803              20                 10                      1  \n68804              21                 10                      1  \n\n[68805 rows x 41 columns]",
      "text/html": "<div>\n<style scoped>\n    .dataframe tbody tr th:only-of-type {\n        vertical-align: middle;\n    }\n\n    .dataframe tbody tr th {\n        vertical-align: top;\n    }\n\n    .dataframe thead th {\n        text-align: right;\n    }\n</style>\n<table border=\"1\" class=\"dataframe\">\n  <thead>\n    <tr style=\"text-align: right;\">\n      <th></th>\n      <th>accident_index</th>\n      <th>number_of_vehicles</th>\n      <th>number_of_casualties</th>\n      <th>month</th>\n      <th>day_of_week</th>\n      <th>time</th>\n      <th>first_road_class</th>\n      <th>road_type</th>\n      <th>speed_limit</th>\n      <th>junction_detail</th>\n      <th>...</th>\n      <th>vehicle_leaving_carriageway</th>\n      <th>hit_object_off_carriageway</th>\n      <th>first_point_of_impact</th>\n      <th>sex_of_driver</th>\n      <th>age_band_of_driver</th>\n      <th>engine_capacity_cc</th>\n      <th>propulsion_code</th>\n      <th>age_of_vehicle</th>\n      <th>driver_imd_decile</th>\n      <th>driver_home_area_type</th>\n    </tr>\n  </thead>\n  <tbody>\n    <tr>\n      <th>0</th>\n      <td>2020010278554</td>\n      <td>2</td>\n      <td>1</td>\n      <td>11</td>\n      <td>2</td>\n      <td>1220.0</td>\n      <td>5</td>\n      <td>6</td>\n      <td>20</td>\n      <td>0</td>\n      <td>...</td>\n      <td>0</td>\n      <td>0</td>\n      <td>3</td>\n      <td>1</td>\n      <td>5</td>\n      <td>113</td>\n      <td>1</td>\n      <td>4</td>\n      <td>-1</td>\n      <td>-1</td>\n    </tr>\n    <tr>\n      <th>1</th>\n      <td>2020010278556</td>\n      <td>2</td>\n      <td>1</td>\n      <td>11</td>\n      <td>4</td>\n      <td>710.0</td>\n      <td>5</td>\n      <td>6</td>\n      <td>30</td>\n      <td>3</td>\n      <td>...</td>\n      <td>-1</td>\n      <td>-1</td>\n      <td>-1</td>\n      <td>1</td>\n      <td>4</td>\n      <td>125</td>\n      <td>1</td>\n      <td>4</td>\n      <td>1</td>\n      <td>1</td>\n    </tr>\n    <tr>\n      <th>2</th>\n      <td>2020010278558</td>\n      <td>2</td>\n      <td>1</td>\n      <td>11</td>\n      <td>2</td>\n      <td>1171.0</td>\n      <td>3</td>\n      <td>2</td>\n      <td>20</td>\n      <td>3</td>\n      <td>...</td>\n      <td>0</td>\n      <td>0</td>\n      <td>2</td>\n      <td>1</td>\n      <td>7</td>\n      <td>125</td>\n      <td>1</td>\n      <td>0</td>\n      <td>3</td>\n      <td>1</td>\n    </tr>\n    <tr>\n      <th>3</th>\n      <td>2020010278559</td>\n      <td>2</td>\n      <td>1</td>\n      <td>11</td>\n      <td>2</td>\n      <td>1153.0</td>\n      <td>5</td>\n      <td>6</td>\n      <td>30</td>\n      <td>0</td>\n      <td>...</td>\n      <td>0</td>\n      <td>0</td>\n      <td>4</td>\n      <td>1</td>\n      <td>7</td>\n      <td>124</td>\n      <td>1</td>\n      <td>7</td>\n      <td>6</td>\n      <td>1</td>\n    </tr>\n    <tr>\n      <th>4</th>\n      <td>2020010278564</td>\n      <td>2</td>\n      <td>1</td>\n      <td>11</td>\n      <td>2</td>\n      <td>994.0</td>\n      <td>3</td>\n      <td>-1</td>\n      <td>20</td>\n      <td>5</td>\n      <td>...</td>\n      <td>-1</td>\n      <td>-1</td>\n      <td>1</td>\n      <td>2</td>\n      <td>5</td>\n      <td>125</td>\n      <td>1</td>\n      <td>6</td>\n      <td>7</td>\n      <td>1</td>\n    </tr>\n    <tr>\n      <th>...</th>\n      <td>...</td>\n      <td>...</td>\n      <td>...</td>\n      <td>...</td>\n      <td>...</td>\n      <td>...</td>\n      <td>...</td>\n      <td>...</td>\n      <td>...</td>\n      <td>...</td>\n      <td>...</td>\n      <td>...</td>\n      <td>...</td>\n      <td>...</td>\n      <td>...</td>\n      <td>...</td>\n      <td>...</td>\n      <td>...</td>\n      <td>...</td>\n      <td>...</td>\n      <td>...</td>\n    </tr>\n    <tr>\n      <th>68800</th>\n      <td>2020990963763</td>\n      <td>2</td>\n      <td>2</td>\n      <td>7</td>\n      <td>7</td>\n      <td>1082.0</td>\n      <td>3</td>\n      <td>6</td>\n      <td>20</td>\n      <td>0</td>\n      <td>...</td>\n      <td>0</td>\n      <td>0</td>\n      <td>3</td>\n      <td>2</td>\n      <td>9</td>\n      <td>998</td>\n      <td>1</td>\n      <td>2</td>\n      <td>7</td>\n      <td>1</td>\n    </tr>\n    <tr>\n      <th>68801</th>\n      <td>2020990963763</td>\n      <td>2</td>\n      <td>2</td>\n      <td>7</td>\n      <td>7</td>\n      <td>1082.0</td>\n      <td>3</td>\n      <td>6</td>\n      <td>20</td>\n      <td>0</td>\n      <td>...</td>\n      <td>0</td>\n      <td>0</td>\n      <td>1</td>\n      <td>1</td>\n      <td>7</td>\n      <td>998</td>\n      <td>1</td>\n      <td>1</td>\n      <td>8</td>\n      <td>1</td>\n    </tr>\n    <tr>\n      <th>68802</th>\n      <td>2020990963772</td>\n      <td>2</td>\n      <td>1</td>\n      <td>7</td>\n      <td>7</td>\n      <td>1065.0</td>\n      <td>3</td>\n      <td>6</td>\n      <td>30</td>\n      <td>3</td>\n      <td>...</td>\n      <td>0</td>\n      <td>0</td>\n      <td>3</td>\n      <td>2</td>\n      <td>9</td>\n      <td>1498</td>\n      <td>1</td>\n      <td>1</td>\n      <td>7</td>\n      <td>1</td>\n    </tr>\n    <tr>\n      <th>68803</th>\n      <td>2020990963785</td>\n      <td>1</td>\n      <td>1</td>\n      <td>7</td>\n      <td>7</td>\n      <td>1169.0</td>\n      <td>3</td>\n      <td>6</td>\n      <td>60</td>\n      <td>0</td>\n      <td>...</td>\n      <td>0</td>\n      <td>0</td>\n      <td>1</td>\n      <td>1</td>\n      <td>8</td>\n      <td>998</td>\n      <td>1</td>\n      <td>20</td>\n      <td>10</td>\n      <td>1</td>\n    </tr>\n    <tr>\n      <th>68804</th>\n      <td>2020990963826</td>\n      <td>3</td>\n      <td>1</td>\n      <td>7</td>\n      <td>7</td>\n      <td>805.0</td>\n      <td>3</td>\n      <td>6</td>\n      <td>50</td>\n      <td>0</td>\n      <td>...</td>\n      <td>1</td>\n      <td>0</td>\n      <td>1</td>\n      <td>1</td>\n      <td>8</td>\n      <td>1085</td>\n      <td>1</td>\n      <td>21</td>\n      <td>10</td>\n      <td>1</td>\n    </tr>\n  </tbody>\n</table>\n<p>68805 rows × 41 columns</p>\n</div>"
     },
     "execution_count": 9,
     "metadata": {},
     "output_type": "execute_result"
    }
   ],
   "source": [
    "accidents"
   ],
   "metadata": {
    "collapsed": false,
    "pycharm": {
     "name": "#%%\n"
    }
   }
  },
  {
   "cell_type": "code",
   "execution_count": 10,
   "outputs": [
    {
     "data": {
      "text/plain": "<Figure size 432x288 with 1 Axes>",
      "image/png": "[encoded data removed]"
     },
     "metadata": {
      "needs_background": "light"
     },
     "output_type": "display_data"
    }
   ],
   "source": [
    "#Some Plots\n",
    "\n",
    "class_dist = y.value_counts()\n",
    "plt.bar(class_dist.index, class_dist)\n",
    "plt.ylabel(\"Frequency\")\n",
    "plt.show()"
   ],
   "metadata": {
    "collapsed": false,
    "pycharm": {
     "name": "#%%\n"
    }
   }
  },
  {
   "cell_type": "code",
   "execution_count": 11,
   "outputs": [],
   "source": [
    "from imblearn.over_sampling import SMOTE\n",
    "#Undersampling/Oversampling:\n",
    "\n",
    "#sampler = RandomOverSampler()\n",
    "#sampler = RandomUnderSampler()\n",
    "smotesampler = SMOTE()\n",
    "oversampler = RandomOverSampler()\n",
    "undersampler = RandomUnderSampler()\n",
    "\n",
    "index = accidents['accident_index']\n",
    "X = accidents.drop(columns=['accident_index'])"
   ],
   "metadata": {
    "collapsed": false,
    "pycharm": {
     "name": "#%%\n"
    }
   }
  },
  {
   "cell_type": "code",
   "execution_count": 12,
   "outputs": [],
   "source": [
    "def custom_test_train_split(x, y, test_size=0.2, random_state=42):\n",
    "    x = x.join(index)\n",
    "    unique = index.unique()\n",
    "    train, test = train_test_split(unique, test_size=test_size, random_state=random_state)\n",
    "    mask_train = x['accident_index'].isin(train)\n",
    "    mask_test = x['accident_index'].isin(test)\n",
    "    return x[mask_train].drop(columns=['accident_index']), x[mask_test].drop(columns=['accident_index']), y[mask_train], y[mask_test]"
   ],
   "metadata": {
    "collapsed": false,
    "pycharm": {
     "name": "#%%\n"
    }
   }
  },
  {
   "cell_type": "code",
   "execution_count": 13,
   "outputs": [],
   "source": [
    "#split test and training data\n",
    "X_train_ungrouped, X_test_ungrouped, y_train_ungrouped, y_test_ungrouped = train_test_split(X, y, test_size=0.2, random_state=42, stratify=y)\n",
    "X_train_grouped, X_test_grouped, y_train_grouped, y_test_grouped = custom_test_train_split(X, y, test_size=0.2, random_state=42)\n",
    "X_balanced, y_balanced = smotesampler.fit_resample(X_train_grouped, y_train_grouped)\n",
    "#class_dist = pd.Series(X_balanced).value_counts()\n",
    "#plt.bar(class_dist.index, class_dist)\n",
    "#plt.ylabel(\"Frequency\")\n",
    "#plt.show()"
   ],
   "metadata": {
    "collapsed": false,
    "pycharm": {
     "name": "#%%\n"
    }
   }
  },
  {
   "cell_type": "code",
   "execution_count": 14,
   "outputs": [],
   "source": [
    "# Do Preprocessing without pipeline\n",
    "X_onehot = X.copy()\n",
    "X_onehot\n",
    "encoded = pd.DataFrame(one_hot_encoder.fit_transform(X_onehot[one_hot_list]).toarray(),\n",
    "                       columns=one_hot_encoder.get_feature_names(one_hot_list))\n",
    "X_onehot = X_onehot.drop(columns=one_hot_list)\n",
    "X_onehot = X_onehot.join(encoded)\n",
    "X_onehot[:] = scaler.fit_transform(X_onehot[:])\n",
    "#Scale all columns to Standard Distribution\n",
    "X_onehot[:] = imp.fit_transform(X_onehot[:])\n",
    "X_prep_train, X_prep_test, y_prep_train, y_prep_test = train_test_split(X_onehot, y, test_size=0.2, random_state=42, stratify=y)\n",
    "X_prep_balanced, y_prep_balanced = smotesampler.fit_resample(X_prep_train, y_prep_train)"
   ],
   "metadata": {
    "collapsed": false,
    "pycharm": {
     "name": "#%%\n"
    }
   }
  },
  {
   "cell_type": "markdown",
   "source": [
    "# Creating models"
   ],
   "metadata": {
    "collapsed": false,
    "pycharm": {
     "name": "#%% md\n"
    }
   },
   "execution_count": 258
  },
  {
   "cell_type": "code",
   "execution_count": 15,
   "outputs": [
    {
     "data": {
      "text/plain": "[MLPClassifier(batch_size=64, early_stopping=True,\n               hidden_layer_sizes=(100, 100, 100), random_state=1234,\n               verbose=True),\n LogisticRegression(max_iter=20000),\n KNeighborsClassifier(n_neighbors=3),\n RandomForestClassifier(random_state=0)]"
     },
     "execution_count": 15,
     "metadata": {},
     "output_type": "execute_result"
    }
   ],
   "source": [
    "#Logistic Regression\n",
    "weight_estimator = LogisticRegression(max_iter=20000)\n",
    "\n",
    "#K-Nearest-Neighbors\n",
    "neigh = KNeighborsClassifier(n_neighbors=3)\n",
    "\n",
    "#Random Forest\n",
    "model = RandomForestClassifier(n_estimators=100, random_state=0)\n",
    "\n",
    "#Neural Network\n",
    "clf = MLPClassifier(hidden_layer_sizes=(100, 100, 100), activation='relu',\n",
    "learning_rate_init=1e-3, batch_size=64, verbose=True,\n",
    "early_stopping=True, random_state=1234)\n",
    "\n",
    "\n",
    "estimators = [clf, weight_estimator, neigh, model]\n",
    "estimators"
   ],
   "metadata": {
    "collapsed": false,
    "pycharm": {
     "name": "#%%\n"
    }
   }
  },
  {
   "cell_type": "markdown",
   "source": [
    "# Run estimators"
   ],
   "metadata": {
    "collapsed": false,
    "pycharm": {
     "name": "#%% md\n"
    }
   }
  },
  {
   "cell_type": "code",
   "execution_count": 15,
   "outputs": [],
   "source": [],
   "metadata": {
    "collapsed": false,
    "pycharm": {
     "name": "#%%\n"
    }
   }
  },
  {
   "cell_type": "code",
   "execution_count": 16,
   "outputs": [
    {
     "name": "stdout",
     "output_type": "stream",
     "text": [
      "MLPClassifier(batch_size=64, early_stopping=True,\n",
      "              hidden_layer_sizes=(100, 100, 100), random_state=1234,\n",
      "              verbose=True)\n",
      "Iteration 1, loss = 0.32257181\n",
      "Validation score: 0.864214\n",
      "Iteration 2, loss = 0.29246134\n",
      "Validation score: 0.870675\n",
      "Iteration 3, loss = 0.28078696\n",
      "Validation score: 0.875493\n",
      "Iteration 4, loss = 0.27175668\n",
      "Validation score: 0.875055\n",
      "Iteration 5, loss = 0.26228095\n",
      "Validation score: 0.879544\n",
      "Iteration 6, loss = 0.25365324\n",
      "Validation score: 0.881406\n",
      "Iteration 7, loss = 0.24572022\n",
      "Validation score: 0.878887\n",
      "Iteration 8, loss = 0.23695609\n",
      "Validation score: 0.876916\n",
      "Iteration 9, loss = 0.22911252\n",
      "Validation score: 0.870784\n",
      "Iteration 10, loss = 0.22116604\n",
      "Validation score: 0.875821\n",
      "Iteration 11, loss = 0.21290204\n",
      "Validation score: 0.876916\n",
      "Iteration 12, loss = 0.20455920\n",
      "Validation score: 0.876697\n",
      "Iteration 13, loss = 0.19819107\n",
      "Validation score: 0.876259\n",
      "Iteration 14, loss = 0.19026825\n",
      "Validation score: 0.872646\n",
      "Iteration 15, loss = 0.18263265\n",
      "Validation score: 0.871003\n",
      "Iteration 16, loss = 0.17697039\n",
      "Validation score: 0.868594\n",
      "Iteration 17, loss = 0.17029417\n",
      "Validation score: 0.874836\n",
      "Validation score did not improve more than tol=0.000100 for 10 consecutive epochs. Stopping.\n",
      "              precision    recall  f1-score   support\n",
      "\n",
      "           0       0.85      0.94      0.89     11549\n",
      "           1       0.37      0.18      0.24      2298\n",
      "\n",
      "    accuracy                           0.81     13847\n",
      "   macro avg       0.61      0.56      0.57     13847\n",
      "weighted avg       0.77      0.81      0.79     13847\n",
      "\n",
      "LogisticRegression(max_iter=20000)\n",
      "              precision    recall  f1-score   support\n",
      "\n",
      "           0       0.86      0.92      0.89     11549\n",
      "           1       0.38      0.24      0.30      2298\n",
      "\n",
      "    accuracy                           0.81     13847\n",
      "   macro avg       0.62      0.58      0.59     13847\n",
      "weighted avg       0.78      0.81      0.79     13847\n",
      "\n",
      "KNeighborsClassifier(n_neighbors=3)\n",
      "              precision    recall  f1-score   support\n",
      "\n",
      "           0       0.86      0.86      0.86     11549\n",
      "           1       0.30      0.31      0.30      2298\n",
      "\n",
      "    accuracy                           0.77     13847\n",
      "   macro avg       0.58      0.58      0.58     13847\n",
      "weighted avg       0.77      0.77      0.77     13847\n",
      "\n",
      "RandomForestClassifier(random_state=0)\n",
      "              precision    recall  f1-score   support\n",
      "\n",
      "           0       0.86      0.95      0.90     11549\n",
      "           1       0.42      0.20      0.27      2298\n",
      "\n",
      "    accuracy                           0.82     13847\n",
      "   macro avg       0.64      0.57      0.59     13847\n",
      "weighted avg       0.78      0.82      0.79     13847\n",
      "\n"
     ]
    }
   ],
   "source": [
    "#iterate over list\n",
    "for estimator in estimators:\n",
    "   print(estimator)\n",
    "   pipe.set_params(estimator = estimator)\n",
    "   pipe.set_params(sampler = undersampler)\n",
    "   pipe.fit(X_balanced, y_balanced)\n",
    "   prediction = pipe.predict(X_test_grouped)\n",
    "   print(classification_report(y_test_grouped, prediction))"
   ],
   "metadata": {
    "collapsed": false,
    "pycharm": {
     "name": "#%%script false\n"
    }
   }
  },
  {
   "cell_type": "code",
   "execution_count": 17,
   "outputs": [
    {
     "name": "stdout",
     "output_type": "stream",
     "text": [
      "Couldn't find program: 'false'\n"
     ]
    }
   ],
   "source": [
    "%%script false\n",
    "\n",
    "# Try with other scaler\n",
    "for samp in [oversampler,undersampler, smotesampler]:\n",
    "    X_b, y_b = samp.fit_resample(X_train_grouped,y_train_grouped)\n",
    "    #pipe.set_params(sampler = samp)\n",
    "    for estimator in estimators:\n",
    "\n",
    "       print(estimator)\n",
    "       pipe.set_params(estimator = estimator)\n",
    "       pipe.set_params(sampler = samp)\n",
    "       pipe.fit(X_b, y_b)\n",
    "       prediction = pipe.predict(X_test_grouped)\n",
    "       print(classification_report(y_test_grouped, prediction))"
   ],
   "metadata": {
    "collapsed": false,
    "pycharm": {
     "name": "#%%\n"
    }
   }
  },
  {
   "cell_type": "markdown",
   "source": [
    "# GridSearch\n"
   ],
   "metadata": {
    "collapsed": false,
    "pycharm": {
     "name": "#%% md\n"
    }
   }
  },
  {
   "cell_type": "code",
   "execution_count": 29,
   "outputs": [
    {
     "name": "stdout",
     "output_type": "stream",
     "text": [
      "Fitting 4 folds for each of 2 candidates, totalling 8 fits\n",
      "[CV 1/4] END .........................imputer__strategy=mean; total time=   1.6s\n",
      "[CV 2/4] END .........................imputer__strategy=mean; total time=   1.5s\n",
      "[CV 3/4] END .........................imputer__strategy=mean; total time=   1.4s\n",
      "[CV 4/4] END .........................imputer__strategy=mean; total time=   1.3s\n",
      "[CV 1/4] END .......................imputer__strategy=median; total time=   1.3s\n",
      "[CV 2/4] END .......................imputer__strategy=median; total time=   1.4s\n",
      "[CV 3/4] END .......................imputer__strategy=median; total time=   1.4s\n",
      "[CV 4/4] END .......................imputer__strategy=median; total time=   1.3s\n",
      "RandomUnderSampler()\n",
      "{'imputer__strategy': 'median'}\n"
     ]
    }
   ],
   "source": [
    "from sklearn.model_selection import GridSearchCV\n",
    "from sklearn.metrics import make_scorer\n",
    "\n",
    "def customScore(y_true, y_pred):\n",
    "    return 2*recall_score(y_true, y_pred)+precision_score(y_true, y_pred)\n",
    "\n",
    "scorer = make_scorer(customScore, greater_is_better=True)\n",
    "\n",
    "parameters = {\n",
    "    'imputer__strategy': ['mean' ,'median']#, 'most_frequent']\n",
    "}\n",
    "\n",
    "for sampler in [oversampler, undersampler, smotesampler]:\n",
    "    X_b, y_b = sampler.fit_resample(X_train_grouped,y_train_grouped)\n",
    "    pipe.set_params(sampler = sampler)\n",
    "    pipe.set_params(estimator = RandomForestClassifier(n_estimators=10))\n",
    "# create the grid search instance\n",
    "    grid_search_estimator = GridSearchCV(pipe, parameters, scoring=scorer, cv=4, verbose = 3)\n",
    "    grid_search_estimator.fit(X_b, y_b)\n",
    "    print(sampler)\n",
    "    print(grid_search_estimator.best_params_)\n",
    "    pd.DataFrame(grid_search_estimator.cv_results_)\n",
    "#accuracy_best = cross_val_score(grid_search_estimator, X_train, y_train, cv=5, scoring='accuracy', n_jobs=-1)\n",
    "#print(\"Accuracy = {}%\".format(accuracy_best.mean() * 100.0))"
   ],
   "metadata": {
    "collapsed": false,
    "pycharm": {
     "name": "#%%script false\n"
    }
   }
  },
  {
   "cell_type": "code",
   "execution_count": 27,
   "outputs": [
    {
     "data": {
      "text/plain": "   mean_fit_time  std_fit_time  mean_score_time  std_score_time  \\\n0       1.455363      0.058206         0.032159         0.00043   \n1       1.419984      0.033476         0.032415         0.00050   \n\n  param_imputer__strategy                           params  split0_test_score  \\\n0                    mean    {'imputer__strategy': 'mean'}           0.453333   \n1                  median  {'imputer__strategy': 'median'}           0.471398   \n\n   split1_test_score  split2_test_score  split3_test_score  mean_test_score  \\\n0           0.542992           0.516559            0.40129         0.478544   \n1           0.523646           0.523871            0.39914         0.479514   \n\n   std_test_score  rank_test_score  \n0        0.055232                2  \n1        0.051091                1  ",
      "text/html": "<div>\n<style scoped>\n    .dataframe tbody tr th:only-of-type {\n        vertical-align: middle;\n    }\n\n    .dataframe tbody tr th {\n        vertical-align: top;\n    }\n\n    .dataframe thead th {\n        text-align: right;\n    }\n</style>\n<table border=\"1\" class=\"dataframe\">\n  <thead>\n    <tr style=\"text-align: right;\">\n      <th></th>\n      <th>mean_fit_time</th>\n      <th>std_fit_time</th>\n      <th>mean_score_time</th>\n      <th>std_score_time</th>\n      <th>param_imputer__strategy</th>\n      <th>params</th>\n      <th>split0_test_score</th>\n      <th>split1_test_score</th>\n      <th>split2_test_score</th>\n      <th>split3_test_score</th>\n      <th>mean_test_score</th>\n      <th>std_test_score</th>\n      <th>rank_test_score</th>\n    </tr>\n  </thead>\n  <tbody>\n    <tr>\n      <th>0</th>\n      <td>1.455363</td>\n      <td>0.058206</td>\n      <td>0.032159</td>\n      <td>0.00043</td>\n      <td>mean</td>\n      <td>{'imputer__strategy': 'mean'}</td>\n      <td>0.453333</td>\n      <td>0.542992</td>\n      <td>0.516559</td>\n      <td>0.40129</td>\n      <td>0.478544</td>\n      <td>0.055232</td>\n      <td>2</td>\n    </tr>\n    <tr>\n      <th>1</th>\n      <td>1.419984</td>\n      <td>0.033476</td>\n      <td>0.032415</td>\n      <td>0.00050</td>\n      <td>median</td>\n      <td>{'imputer__strategy': 'median'}</td>\n      <td>0.471398</td>\n      <td>0.523646</td>\n      <td>0.523871</td>\n      <td>0.39914</td>\n      <td>0.479514</td>\n      <td>0.051091</td>\n      <td>1</td>\n    </tr>\n  </tbody>\n</table>\n</div>"
     },
     "execution_count": 27,
     "metadata": {},
     "output_type": "execute_result"
    }
   ],
   "source": [
    "#sampler = RandomUnderSampler()\n",
    "\n",
    "#pipeline = Pipeline([ ('normalisation', transform), ('balancing', sampler), ('classification', estimator) ])\n",
    "\n",
    "#accuracy_iris = cross_val_score(pipeline, iris_data, iris_target, cv=10, scoring='accuracy')\n",
    "\n",
    "#print(\"Average Accuracy = {}%\".format(accuracy_iris.mean() * 100.0))"
   ],
   "metadata": {
    "collapsed": false,
    "pycharm": {
     "name": "#%%\n"
    }
   }
  },
  {
   "cell_type": "code",
   "execution_count": null,
   "outputs": [],
   "source": [
    "logreg2 = LogisticRegression(max_iter = 5000)\n",
    "rfe = RFE(logreg2,20, verbose=1)\n",
    "#pipe.set_params(estimator=rfe)\n",
    "pipe.set_params(estimator= rfe)\n",
    "pipe.set_params(sampler = undersampler)\n",
    "pipe.fit(X_train_grouped,y_train_grouped)"
   ],
   "metadata": {
    "collapsed": false,
    "pycharm": {
     "name": "#%%\n"
    }
   }
  },
  {
   "cell_type": "code",
   "execution_count": null,
   "outputs": [],
   "source": [
    "print(rfe.support_)\n",
    "print(rfe.ranking_)"
   ],
   "metadata": {
    "collapsed": false,
    "pycharm": {
     "name": "#%%\n"
    }
   }
  },
  {
   "cell_type": "code",
   "execution_count": null,
   "outputs": [],
   "source": [
    "X_t = X_prep_train[X_prep_train.columns[rfe.support_]]\n",
    "import statsmodels.api as sm\n",
    "logit_model = sm.Logit(y_prep_train,X_t)\n",
    "result = logit_model.fit()\n",
    "print(result.summary2())"
   ],
   "metadata": {
    "collapsed": false,
    "pycharm": {
     "name": "#%%\n"
    }
   }
  },
  {
   "cell_type": "code",
   "execution_count": null,
   "outputs": [],
   "source": [
    "#logreg2.fit(X_t, y_train)\n",
    "#pred = logreg2.predict(X_test[X_test.columns[rfe.support_]])\n",
    "#print(\"Accuracy: \" , logreg2.score(X_test[X_test.columns[rfe.support_]],y_test))\n",
    "\n",
    "X_prep_test2 = X_prep_test[X_prep_test.columns[rfe.support_]]\n",
    "pred = logit_model.predict(logit_model)\n",
    "accuracy_score(y_prep_train, pred)"
   ],
   "metadata": {
    "collapsed": false,
    "pycharm": {
     "name": "#%%\n"
    }
   }
  },
  {
   "cell_type": "code",
   "execution_count": null,
   "outputs": [],
   "source": [],
   "metadata": {
    "collapsed": false,
    "pycharm": {
     "name": "#%%\n"
    }
   }
  },
  {
   "cell_type": "code",
   "execution_count": null,
   "outputs": [],
   "source": [
    "from imblearn.pipeline import Pipeline as Pypelyne\n",
    "pipe3 = Pypelyne([(\"preprocessor\", preprocessor), (\"imputer\", imp), (\"sampler\", undersampler), (\"estimator\", None)])\n",
    "pipe3.set_params(estimator = weight_estimator)\n",
    "pipe3.fit(X_train_grouped, y_train_grouped)\n",
    "pred = pipe3.predict(X_test_grouped)\n",
    "print(classification_report(y_true=y_test_grouped,y_pred = pred ))"
   ],
   "metadata": {
    "collapsed": false,
    "pycharm": {
     "name": "#%%\n"
    }
   }
  },
  {
   "cell_type": "code",
   "execution_count": null,
   "outputs": [],
   "source": [],
   "metadata": {
    "collapsed": false,
    "pycharm": {
     "name": "#%%"
    }
   }
  }
 ],
 "metadata": {
  "kernelspec": {
   "display_name": "Python 3",
   "language": "python",
   "name": "python3"
  },
  "language_info": {
   "codemirror_mode": {
    "name": "ipython",
    "version": 2
   },
   "file_extension": ".py",
   "mimetype": "text/x-python",
   "name": "python",
   "nbconvert_exporter": "python",
   "pygments_lexer": "ipython2",
   "version": "2.7.6"
  }
 },
 "nbformat": 4,
 "nbformat_minor": 0
}