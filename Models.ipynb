{
 "cells": [
  {
   "cell_type": "code",
   "execution_count": 110,
   "outputs": [],
   "source": [
    "import pandas as pd\n",
    "import numpy as np\n",
    "import matplotlib.pyplot as plt\n",
    "from sklearn.compose import ColumnTransformer\n",
    "from sklearn.preprocessing import OneHotEncoder\n",
    "from sklearn.preprocessing import OneHotEncoder\n",
    "from sklearn.model_selection import train_test_split\n",
    "from sklearn.linear_model import LogisticRegression\n",
    "from sklearn.metrics import accuracy_score\n",
    "from sklearn.metrics import f1_score\n",
    "from sklearn.metrics import confusion_matrix\n",
    "from sklearn.metrics import precision_score,recall_score\n",
    "from sklearn.tree import DecisionTreeRegressor\n",
    "from sklearn.ensemble import RandomForestClassifier\n",
    "#import eli5\n",
    "#from eli5.sklearn import PermutationImportance\n",
    "from sklearn.metrics import confusion_matrix\n",
    "from sklearn.metrics import classification_report\n",
    "#import the MLPClassifier from neural_network from sklearn\n",
    "from sklearn.neural_network import MLPClassifier\n",
    "#import the pipeline from sklearn\n",
    "from sklearn.pipeline import Pipeline\n",
    "from sklearn.neighbors import NearestNeighbors\n",
    "from imblearn.under_sampling import RandomUnderSampler\n",
    "from imblearn.over_sampling import RandomOverSampler\n",
    "import matplotlib.pyplot as plt\n",
    "from sklearn.preprocessing import StandardScaler\n",
    "from sklearn.neighbors import KNeighborsClassifier\n",
    "from sklearn.feature_selection import RFE"
   ],
   "metadata": {
    "collapsed": false,
    "pycharm": {
     "name": "#%%\n"
    }
   }
  },
  {
   "cell_type": "code",
   "execution_count": 111,
   "outputs": [
    {
     "data": {
      "text/plain": "   number_of_vehicles  number_of_casualties  month  day_of_week    time  \\\n0                   2                     1     11            2  1220.0   \n1                   2                     1     11            4   710.0   \n2                   2                     1     11            2  1171.0   \n3                   2                     1     11            2  1153.0   \n4                   2                     1     11            2   994.0   \n\n   first_road_class  road_type  speed_limit  junction_detail  \\\n0                 5          6           20                0   \n1                 5          6           30                3   \n2                 3          2           20                3   \n3                 5          6           30                0   \n4                 3         -1           20                5   \n\n   junction_control  ...  vehicle_leaving_carriageway  \\\n0                -1  ...                            0   \n1                 4  ...                           -1   \n2                 2  ...                            0   \n3                -1  ...                            0   \n4                 4  ...                           -1   \n\n   hit_object_off_carriageway  first_point_of_impact  sex_of_driver  \\\n0                           0                      3              1   \n1                          -1                     -1              1   \n2                           0                      2              1   \n3                           0                      4              1   \n4                          -1                      1              2   \n\n   age_band_of_driver  engine_capacity_cc  propulsion_code  age_of_vehicle  \\\n0                   5                 113                1               4   \n1                   4                 125                1               4   \n2                   7                 125                1               0   \n3                   7                 124                1               7   \n4                   5                 125                1               6   \n\n   driver_imd_decile  driver_home_area_type  \n0                 -1                     -1  \n1                  1                      1  \n2                  3                      1  \n3                  6                      1  \n4                  7                      1  \n\n[5 rows x 41 columns]",
      "text/html": "<div>\n<style scoped>\n    .dataframe tbody tr th:only-of-type {\n        vertical-align: middle;\n    }\n\n    .dataframe tbody tr th {\n        vertical-align: top;\n    }\n\n    .dataframe thead th {\n        text-align: right;\n    }\n</style>\n<table border=\"1\" class=\"dataframe\">\n  <thead>\n    <tr style=\"text-align: right;\">\n      <th></th>\n      <th>number_of_vehicles</th>\n      <th>number_of_casualties</th>\n      <th>month</th>\n      <th>day_of_week</th>\n      <th>time</th>\n      <th>first_road_class</th>\n      <th>road_type</th>\n      <th>speed_limit</th>\n      <th>junction_detail</th>\n      <th>junction_control</th>\n      <th>...</th>\n      <th>vehicle_leaving_carriageway</th>\n      <th>hit_object_off_carriageway</th>\n      <th>first_point_of_impact</th>\n      <th>sex_of_driver</th>\n      <th>age_band_of_driver</th>\n      <th>engine_capacity_cc</th>\n      <th>propulsion_code</th>\n      <th>age_of_vehicle</th>\n      <th>driver_imd_decile</th>\n      <th>driver_home_area_type</th>\n    </tr>\n  </thead>\n  <tbody>\n    <tr>\n      <th>0</th>\n      <td>2</td>\n      <td>1</td>\n      <td>11</td>\n      <td>2</td>\n      <td>1220.0</td>\n      <td>5</td>\n      <td>6</td>\n      <td>20</td>\n      <td>0</td>\n      <td>-1</td>\n      <td>...</td>\n      <td>0</td>\n      <td>0</td>\n      <td>3</td>\n      <td>1</td>\n      <td>5</td>\n      <td>113</td>\n      <td>1</td>\n      <td>4</td>\n      <td>-1</td>\n      <td>-1</td>\n    </tr>\n    <tr>\n      <th>1</th>\n      <td>2</td>\n      <td>1</td>\n      <td>11</td>\n      <td>4</td>\n      <td>710.0</td>\n      <td>5</td>\n      <td>6</td>\n      <td>30</td>\n      <td>3</td>\n      <td>4</td>\n      <td>...</td>\n      <td>-1</td>\n      <td>-1</td>\n      <td>-1</td>\n      <td>1</td>\n      <td>4</td>\n      <td>125</td>\n      <td>1</td>\n      <td>4</td>\n      <td>1</td>\n      <td>1</td>\n    </tr>\n    <tr>\n      <th>2</th>\n      <td>2</td>\n      <td>1</td>\n      <td>11</td>\n      <td>2</td>\n      <td>1171.0</td>\n      <td>3</td>\n      <td>2</td>\n      <td>20</td>\n      <td>3</td>\n      <td>2</td>\n      <td>...</td>\n      <td>0</td>\n      <td>0</td>\n      <td>2</td>\n      <td>1</td>\n      <td>7</td>\n      <td>125</td>\n      <td>1</td>\n      <td>0</td>\n      <td>3</td>\n      <td>1</td>\n    </tr>\n    <tr>\n      <th>3</th>\n      <td>2</td>\n      <td>1</td>\n      <td>11</td>\n      <td>2</td>\n      <td>1153.0</td>\n      <td>5</td>\n      <td>6</td>\n      <td>30</td>\n      <td>0</td>\n      <td>-1</td>\n      <td>...</td>\n      <td>0</td>\n      <td>0</td>\n      <td>4</td>\n      <td>1</td>\n      <td>7</td>\n      <td>124</td>\n      <td>1</td>\n      <td>7</td>\n      <td>6</td>\n      <td>1</td>\n    </tr>\n    <tr>\n      <th>4</th>\n      <td>2</td>\n      <td>1</td>\n      <td>11</td>\n      <td>2</td>\n      <td>994.0</td>\n      <td>3</td>\n      <td>-1</td>\n      <td>20</td>\n      <td>5</td>\n      <td>4</td>\n      <td>...</td>\n      <td>-1</td>\n      <td>-1</td>\n      <td>1</td>\n      <td>2</td>\n      <td>5</td>\n      <td>125</td>\n      <td>1</td>\n      <td>6</td>\n      <td>7</td>\n      <td>1</td>\n    </tr>\n  </tbody>\n</table>\n<p>5 rows × 41 columns</p>\n</div>"
     },
     "execution_count": 111,
     "metadata": {},
     "output_type": "execute_result"
    }
   ],
   "source": [
    "estimators = []\n",
    "\n",
    "ac = pd.read_csv('accidents_preprocessed.csv')\n",
    "ac = ac.drop(columns=['location_easting_osgr', 'location_northing_osgr', 'longitude', 'latitude'])\n",
    "ac.head()"
   ],
   "metadata": {
    "collapsed": false,
    "pycharm": {
     "name": "#%%\n"
    }
   }
  },
  {
   "cell_type": "markdown",
   "source": [
    "### Preprocess Target class casualty_severity\n",
    "#### -Note:  Fatal and Serious together in one class and slight in the other"
   ],
   "metadata": {
    "collapsed": false
   }
  },
  {
   "cell_type": "code",
   "execution_count": 112,
   "outputs": [
    {
     "data": {
      "text/plain": "       number_of_vehicles  number_of_casualties  month  day_of_week    time  \\\n0                       2                     1     11            2  1220.0   \n1                       2                     1     11            4   710.0   \n12                      2                     1     11            3   165.0   \n13                      2                     1     11            3   287.0   \n14                      2                     1     11            3   545.0   \n...                   ...                   ...    ...          ...     ...   \n68795                   1                     3      7            7    30.0   \n68797                   1                     3      7            7    30.0   \n68799                   2                     1      7            7   960.0   \n68803                   1                     1      7            7  1169.0   \n68804                   3                     1      7            7   805.0   \n\n       first_road_class  road_type  speed_limit  junction_detail  \\\n0                     5          6           20                0   \n1                     5          6           30                3   \n12                    3          6           20               -1   \n13                    3          6           30                6   \n14                    3          2           20               -1   \n...                 ...        ...          ...              ...   \n68795                 3          6           60                0   \n68797                 3          6           60                0   \n68799                -1          6           20                0   \n68803                 3          6           60                0   \n68804                 3          6           50                0   \n\n       junction_control  ...  vehicle_leaving_carriageway  \\\n0                    -1  ...                            0   \n1                     4  ...                           -1   \n12                    4  ...                            0   \n13                    2  ...                            0   \n14                    4  ...                            0   \n...                 ...  ...                          ...   \n68795                -1  ...                            0   \n68797                -1  ...                            0   \n68799                -1  ...                            0   \n68803                -1  ...                            0   \n68804                -1  ...                            1   \n\n       hit_object_off_carriageway  first_point_of_impact  sex_of_driver  \\\n0                               0                      3              1   \n1                              -1                     -1              1   \n12                              0                      1              1   \n13                              0                      1              1   \n14                              0                      4              1   \n...                           ...                    ...            ...   \n68795                           0                      0              2   \n68797                           0                      0              2   \n68799                           0                      3              2   \n68803                           0                      1              1   \n68804                           0                      1              1   \n\n       age_band_of_driver  engine_capacity_cc  propulsion_code  \\\n0                       5                 113                1   \n1                       4                 125                1   \n12                      7                1598                1   \n13                      7                 109                1   \n14                      6                 124                1   \n...                   ...                 ...              ...   \n68795                   4                1400                1   \n68797                   4                1400                1   \n68799                   9                1997                1   \n68803                   8                 998                1   \n68804                   8                1085                1   \n\n       age_of_vehicle  driver_imd_decile  driver_home_area_type  \n0                   4                 -1                     -1  \n1                   4                  1                      1  \n12                 16                  3                      1  \n13                  5                  2                      1  \n14                  0                  5                      1  \n...               ...                ...                    ...  \n68795              15                  7                      3  \n68797              15                  7                      3  \n68799              13                  5                      2  \n68803              20                 10                      1  \n68804              21                 10                      1  \n\n[11599 rows x 41 columns]",
      "text/html": "<div>\n<style scoped>\n    .dataframe tbody tr th:only-of-type {\n        vertical-align: middle;\n    }\n\n    .dataframe tbody tr th {\n        vertical-align: top;\n    }\n\n    .dataframe thead th {\n        text-align: right;\n    }\n</style>\n<table border=\"1\" class=\"dataframe\">\n  <thead>\n    <tr style=\"text-align: right;\">\n      <th></th>\n      <th>number_of_vehicles</th>\n      <th>number_of_casualties</th>\n      <th>month</th>\n      <th>day_of_week</th>\n      <th>time</th>\n      <th>first_road_class</th>\n      <th>road_type</th>\n      <th>speed_limit</th>\n      <th>junction_detail</th>\n      <th>junction_control</th>\n      <th>...</th>\n      <th>vehicle_leaving_carriageway</th>\n      <th>hit_object_off_carriageway</th>\n      <th>first_point_of_impact</th>\n      <th>sex_of_driver</th>\n      <th>age_band_of_driver</th>\n      <th>engine_capacity_cc</th>\n      <th>propulsion_code</th>\n      <th>age_of_vehicle</th>\n      <th>driver_imd_decile</th>\n      <th>driver_home_area_type</th>\n    </tr>\n  </thead>\n  <tbody>\n    <tr>\n      <th>0</th>\n      <td>2</td>\n      <td>1</td>\n      <td>11</td>\n      <td>2</td>\n      <td>1220.0</td>\n      <td>5</td>\n      <td>6</td>\n      <td>20</td>\n      <td>0</td>\n      <td>-1</td>\n      <td>...</td>\n      <td>0</td>\n      <td>0</td>\n      <td>3</td>\n      <td>1</td>\n      <td>5</td>\n      <td>113</td>\n      <td>1</td>\n      <td>4</td>\n      <td>-1</td>\n      <td>-1</td>\n    </tr>\n    <tr>\n      <th>1</th>\n      <td>2</td>\n      <td>1</td>\n      <td>11</td>\n      <td>4</td>\n      <td>710.0</td>\n      <td>5</td>\n      <td>6</td>\n      <td>30</td>\n      <td>3</td>\n      <td>4</td>\n      <td>...</td>\n      <td>-1</td>\n      <td>-1</td>\n      <td>-1</td>\n      <td>1</td>\n      <td>4</td>\n      <td>125</td>\n      <td>1</td>\n      <td>4</td>\n      <td>1</td>\n      <td>1</td>\n    </tr>\n    <tr>\n      <th>12</th>\n      <td>2</td>\n      <td>1</td>\n      <td>11</td>\n      <td>3</td>\n      <td>165.0</td>\n      <td>3</td>\n      <td>6</td>\n      <td>20</td>\n      <td>-1</td>\n      <td>4</td>\n      <td>...</td>\n      <td>0</td>\n      <td>0</td>\n      <td>1</td>\n      <td>1</td>\n      <td>7</td>\n      <td>1598</td>\n      <td>1</td>\n      <td>16</td>\n      <td>3</td>\n      <td>1</td>\n    </tr>\n    <tr>\n      <th>13</th>\n      <td>2</td>\n      <td>1</td>\n      <td>11</td>\n      <td>3</td>\n      <td>287.0</td>\n      <td>3</td>\n      <td>6</td>\n      <td>30</td>\n      <td>6</td>\n      <td>2</td>\n      <td>...</td>\n      <td>0</td>\n      <td>0</td>\n      <td>1</td>\n      <td>1</td>\n      <td>7</td>\n      <td>109</td>\n      <td>1</td>\n      <td>5</td>\n      <td>2</td>\n      <td>1</td>\n    </tr>\n    <tr>\n      <th>14</th>\n      <td>2</td>\n      <td>1</td>\n      <td>11</td>\n      <td>3</td>\n      <td>545.0</td>\n      <td>3</td>\n      <td>2</td>\n      <td>20</td>\n      <td>-1</td>\n      <td>4</td>\n      <td>...</td>\n      <td>0</td>\n      <td>0</td>\n      <td>4</td>\n      <td>1</td>\n      <td>6</td>\n      <td>124</td>\n      <td>1</td>\n      <td>0</td>\n      <td>5</td>\n      <td>1</td>\n    </tr>\n    <tr>\n      <th>...</th>\n      <td>...</td>\n      <td>...</td>\n      <td>...</td>\n      <td>...</td>\n      <td>...</td>\n      <td>...</td>\n      <td>...</td>\n      <td>...</td>\n      <td>...</td>\n      <td>...</td>\n      <td>...</td>\n      <td>...</td>\n      <td>...</td>\n      <td>...</td>\n      <td>...</td>\n      <td>...</td>\n      <td>...</td>\n      <td>...</td>\n      <td>...</td>\n      <td>...</td>\n      <td>...</td>\n    </tr>\n    <tr>\n      <th>68795</th>\n      <td>1</td>\n      <td>3</td>\n      <td>7</td>\n      <td>7</td>\n      <td>30.0</td>\n      <td>3</td>\n      <td>6</td>\n      <td>60</td>\n      <td>0</td>\n      <td>-1</td>\n      <td>...</td>\n      <td>0</td>\n      <td>0</td>\n      <td>0</td>\n      <td>2</td>\n      <td>4</td>\n      <td>1400</td>\n      <td>1</td>\n      <td>15</td>\n      <td>7</td>\n      <td>3</td>\n    </tr>\n    <tr>\n      <th>68797</th>\n      <td>1</td>\n      <td>3</td>\n      <td>7</td>\n      <td>7</td>\n      <td>30.0</td>\n      <td>3</td>\n      <td>6</td>\n      <td>60</td>\n      <td>0</td>\n      <td>-1</td>\n      <td>...</td>\n      <td>0</td>\n      <td>0</td>\n      <td>0</td>\n      <td>2</td>\n      <td>4</td>\n      <td>1400</td>\n      <td>1</td>\n      <td>15</td>\n      <td>7</td>\n      <td>3</td>\n    </tr>\n    <tr>\n      <th>68799</th>\n      <td>2</td>\n      <td>1</td>\n      <td>7</td>\n      <td>7</td>\n      <td>960.0</td>\n      <td>-1</td>\n      <td>6</td>\n      <td>20</td>\n      <td>0</td>\n      <td>-1</td>\n      <td>...</td>\n      <td>0</td>\n      <td>0</td>\n      <td>3</td>\n      <td>2</td>\n      <td>9</td>\n      <td>1997</td>\n      <td>1</td>\n      <td>13</td>\n      <td>5</td>\n      <td>2</td>\n    </tr>\n    <tr>\n      <th>68803</th>\n      <td>1</td>\n      <td>1</td>\n      <td>7</td>\n      <td>7</td>\n      <td>1169.0</td>\n      <td>3</td>\n      <td>6</td>\n      <td>60</td>\n      <td>0</td>\n      <td>-1</td>\n      <td>...</td>\n      <td>0</td>\n      <td>0</td>\n      <td>1</td>\n      <td>1</td>\n      <td>8</td>\n      <td>998</td>\n      <td>1</td>\n      <td>20</td>\n      <td>10</td>\n      <td>1</td>\n    </tr>\n    <tr>\n      <th>68804</th>\n      <td>3</td>\n      <td>1</td>\n      <td>7</td>\n      <td>7</td>\n      <td>805.0</td>\n      <td>3</td>\n      <td>6</td>\n      <td>50</td>\n      <td>0</td>\n      <td>-1</td>\n      <td>...</td>\n      <td>1</td>\n      <td>0</td>\n      <td>1</td>\n      <td>1</td>\n      <td>8</td>\n      <td>1085</td>\n      <td>1</td>\n      <td>21</td>\n      <td>10</td>\n      <td>1</td>\n    </tr>\n  </tbody>\n</table>\n<p>11599 rows × 41 columns</p>\n</div>"
     },
     "execution_count": 112,
     "metadata": {},
     "output_type": "execute_result"
    }
   ],
   "source": [
    "\n",
    "ac['casualty_severity'] = ac['casualty_severity'].replace(2, 1)\n",
    "ac['casualty_severity'] = ac['casualty_severity'].replace(3, 0)\n",
    "\n",
    "ac[ac.casualty_severity == 1]"
   ],
   "metadata": {
    "collapsed": false,
    "pycharm": {
     "name": "#%%\n"
    }
   }
  },
  {
   "cell_type": "code",
   "execution_count": 113,
   "outputs": [],
   "source": [
    "one_hot_list = ['first_road_class', 'road_type', 'junction_detail', 'junction_control', 'light_conditions',\n",
    "                'weather_conditions', 'road_surface_conditions', 'special_conditions_at_site', 'carriageway_hazards',\n",
    "                'urban_or_rural_area', 'trunk_road_flag', 'casualty_class', 'sex_of_casualty', 'car_passenger',\n",
    "                'casualty_type', 'casualty_home_area_type', 'casualty_imd_decile', 'towing_and_articulation',\n",
    "                'vehicle_manoeuvre', 'vehicle_location_restricted_lane', 'junction_location',\n",
    "                'skidding_and_overturning', 'hit_object_in_carriageway', 'vehicle_leaving_carriageway',\n",
    "                'hit_object_off_carriageway', 'first_point_of_impact', 'sex_of_driver', 'propulsion_code',\n",
    "                'driver_imd_decile', 'driver_home_area_type']\n",
    "\n",
    "#Maybe change speed limit\n",
    "ordinal_list = ['number_of_vehicles', 'number_of_casualties', 'month', 'day_of_week', 'time', 'speed_limit',\n",
    "                'age_band_of_casualty', 'age_band_of_driver', 'engine_capacity_cc', 'age_of_vehicle']"
   ],
   "metadata": {
    "collapsed": false,
    "pycharm": {
     "name": "#%%\n"
    }
   }
  },
  {
   "cell_type": "code",
   "execution_count": 114,
   "outputs": [
    {
     "data": {
      "text/plain": "   number_of_vehicles  number_of_casualties  month  day_of_week    time  \\\n0                   2                     1     11            2  1220.0   \n1                   2                     1     11            4   710.0   \n2                   2                     1     11            2  1171.0   \n3                   2                     1     11            2  1153.0   \n4                   2                     1     11            2   994.0   \n5                   2                     1     11            2   970.0   \n6                   2                     1     11            2  1226.0   \n7                   1                     1     11            2  1350.0   \n8                   2                     1     11            2  1123.0   \n9                   2                     1     11            2  1320.0   \n\n   first_road_class  road_type  speed_limit  junction_detail  \\\n0                 5          6           20                0   \n1                 5          6           30                3   \n2                 3          2           20                3   \n3                 5          6           30                0   \n4                 3         -1           20                5   \n5                -1          6           30                3   \n6                 4          6           20                3   \n7                 3          1           40                1   \n8                 5         -1           30                0   \n9                 5          6           30                3   \n\n   junction_control  ...  vehicle_leaving_carriageway  \\\n0                -1  ...                            0   \n1                 4  ...                           -1   \n2                 2  ...                            0   \n3                -1  ...                            0   \n4                 4  ...                           -1   \n5                 4  ...                            0   \n6                 2  ...                            0   \n7                 4  ...                            0   \n8                -1  ...                            0   \n9                 4  ...                            7   \n\n   hit_object_off_carriageway  first_point_of_impact  sex_of_driver  \\\n0                           0                      3              1   \n1                          -1                     -1              1   \n2                           0                      2              1   \n3                           0                      4              1   \n4                          -1                      1              2   \n5                           0                      3              1   \n6                           0                      1              1   \n7                           0                      1              1   \n8                           0                      1              1   \n9                           2                      3              2   \n\n   age_band_of_driver  engine_capacity_cc  propulsion_code  age_of_vehicle  \\\n0                   5                 113                1               4   \n1                   4                 125                1               4   \n2                   7                 125                1               0   \n3                   7                 124                1               7   \n4                   5                 125                1               6   \n5                   6                 998                1               3   \n6                   7                 125                1               0   \n7                   4                  -1               -1              -1   \n8                   7                  -1               -1              -1   \n9                   7                1499                2               2   \n\n   driver_imd_decile  driver_home_area_type  \n0                 -1                     -1  \n1                  1                      1  \n2                  3                      1  \n3                  6                      1  \n4                  7                      1  \n5                  2                      1  \n6                  5                      1  \n7                  6                      1  \n8                 -1                     -1  \n9                  1                      1  \n\n[10 rows x 41 columns]",
      "text/html": "<div>\n<style scoped>\n    .dataframe tbody tr th:only-of-type {\n        vertical-align: middle;\n    }\n\n    .dataframe tbody tr th {\n        vertical-align: top;\n    }\n\n    .dataframe thead th {\n        text-align: right;\n    }\n</style>\n<table border=\"1\" class=\"dataframe\">\n  <thead>\n    <tr style=\"text-align: right;\">\n      <th></th>\n      <th>number_of_vehicles</th>\n      <th>number_of_casualties</th>\n      <th>month</th>\n      <th>day_of_week</th>\n      <th>time</th>\n      <th>first_road_class</th>\n      <th>road_type</th>\n      <th>speed_limit</th>\n      <th>junction_detail</th>\n      <th>junction_control</th>\n      <th>...</th>\n      <th>vehicle_leaving_carriageway</th>\n      <th>hit_object_off_carriageway</th>\n      <th>first_point_of_impact</th>\n      <th>sex_of_driver</th>\n      <th>age_band_of_driver</th>\n      <th>engine_capacity_cc</th>\n      <th>propulsion_code</th>\n      <th>age_of_vehicle</th>\n      <th>driver_imd_decile</th>\n      <th>driver_home_area_type</th>\n    </tr>\n  </thead>\n  <tbody>\n    <tr>\n      <th>0</th>\n      <td>2</td>\n      <td>1</td>\n      <td>11</td>\n      <td>2</td>\n      <td>1220.0</td>\n      <td>5</td>\n      <td>6</td>\n      <td>20</td>\n      <td>0</td>\n      <td>-1</td>\n      <td>...</td>\n      <td>0</td>\n      <td>0</td>\n      <td>3</td>\n      <td>1</td>\n      <td>5</td>\n      <td>113</td>\n      <td>1</td>\n      <td>4</td>\n      <td>-1</td>\n      <td>-1</td>\n    </tr>\n    <tr>\n      <th>1</th>\n      <td>2</td>\n      <td>1</td>\n      <td>11</td>\n      <td>4</td>\n      <td>710.0</td>\n      <td>5</td>\n      <td>6</td>\n      <td>30</td>\n      <td>3</td>\n      <td>4</td>\n      <td>...</td>\n      <td>-1</td>\n      <td>-1</td>\n      <td>-1</td>\n      <td>1</td>\n      <td>4</td>\n      <td>125</td>\n      <td>1</td>\n      <td>4</td>\n      <td>1</td>\n      <td>1</td>\n    </tr>\n    <tr>\n      <th>2</th>\n      <td>2</td>\n      <td>1</td>\n      <td>11</td>\n      <td>2</td>\n      <td>1171.0</td>\n      <td>3</td>\n      <td>2</td>\n      <td>20</td>\n      <td>3</td>\n      <td>2</td>\n      <td>...</td>\n      <td>0</td>\n      <td>0</td>\n      <td>2</td>\n      <td>1</td>\n      <td>7</td>\n      <td>125</td>\n      <td>1</td>\n      <td>0</td>\n      <td>3</td>\n      <td>1</td>\n    </tr>\n    <tr>\n      <th>3</th>\n      <td>2</td>\n      <td>1</td>\n      <td>11</td>\n      <td>2</td>\n      <td>1153.0</td>\n      <td>5</td>\n      <td>6</td>\n      <td>30</td>\n      <td>0</td>\n      <td>-1</td>\n      <td>...</td>\n      <td>0</td>\n      <td>0</td>\n      <td>4</td>\n      <td>1</td>\n      <td>7</td>\n      <td>124</td>\n      <td>1</td>\n      <td>7</td>\n      <td>6</td>\n      <td>1</td>\n    </tr>\n    <tr>\n      <th>4</th>\n      <td>2</td>\n      <td>1</td>\n      <td>11</td>\n      <td>2</td>\n      <td>994.0</td>\n      <td>3</td>\n      <td>-1</td>\n      <td>20</td>\n      <td>5</td>\n      <td>4</td>\n      <td>...</td>\n      <td>-1</td>\n      <td>-1</td>\n      <td>1</td>\n      <td>2</td>\n      <td>5</td>\n      <td>125</td>\n      <td>1</td>\n      <td>6</td>\n      <td>7</td>\n      <td>1</td>\n    </tr>\n    <tr>\n      <th>5</th>\n      <td>2</td>\n      <td>1</td>\n      <td>11</td>\n      <td>2</td>\n      <td>970.0</td>\n      <td>-1</td>\n      <td>6</td>\n      <td>30</td>\n      <td>3</td>\n      <td>4</td>\n      <td>...</td>\n      <td>0</td>\n      <td>0</td>\n      <td>3</td>\n      <td>1</td>\n      <td>6</td>\n      <td>998</td>\n      <td>1</td>\n      <td>3</td>\n      <td>2</td>\n      <td>1</td>\n    </tr>\n    <tr>\n      <th>6</th>\n      <td>2</td>\n      <td>1</td>\n      <td>11</td>\n      <td>2</td>\n      <td>1226.0</td>\n      <td>4</td>\n      <td>6</td>\n      <td>20</td>\n      <td>3</td>\n      <td>2</td>\n      <td>...</td>\n      <td>0</td>\n      <td>0</td>\n      <td>1</td>\n      <td>1</td>\n      <td>7</td>\n      <td>125</td>\n      <td>1</td>\n      <td>0</td>\n      <td>5</td>\n      <td>1</td>\n    </tr>\n    <tr>\n      <th>7</th>\n      <td>1</td>\n      <td>1</td>\n      <td>11</td>\n      <td>2</td>\n      <td>1350.0</td>\n      <td>3</td>\n      <td>1</td>\n      <td>40</td>\n      <td>1</td>\n      <td>4</td>\n      <td>...</td>\n      <td>0</td>\n      <td>0</td>\n      <td>1</td>\n      <td>1</td>\n      <td>4</td>\n      <td>-1</td>\n      <td>-1</td>\n      <td>-1</td>\n      <td>6</td>\n      <td>1</td>\n    </tr>\n    <tr>\n      <th>8</th>\n      <td>2</td>\n      <td>1</td>\n      <td>11</td>\n      <td>2</td>\n      <td>1123.0</td>\n      <td>5</td>\n      <td>-1</td>\n      <td>30</td>\n      <td>0</td>\n      <td>-1</td>\n      <td>...</td>\n      <td>0</td>\n      <td>0</td>\n      <td>1</td>\n      <td>1</td>\n      <td>7</td>\n      <td>-1</td>\n      <td>-1</td>\n      <td>-1</td>\n      <td>-1</td>\n      <td>-1</td>\n    </tr>\n    <tr>\n      <th>9</th>\n      <td>2</td>\n      <td>1</td>\n      <td>11</td>\n      <td>2</td>\n      <td>1320.0</td>\n      <td>5</td>\n      <td>6</td>\n      <td>30</td>\n      <td>3</td>\n      <td>4</td>\n      <td>...</td>\n      <td>7</td>\n      <td>2</td>\n      <td>3</td>\n      <td>2</td>\n      <td>7</td>\n      <td>1499</td>\n      <td>2</td>\n      <td>2</td>\n      <td>1</td>\n      <td>1</td>\n    </tr>\n  </tbody>\n</table>\n<p>10 rows × 41 columns</p>\n</div>"
     },
     "execution_count": 114,
     "metadata": {},
     "output_type": "execute_result"
    }
   ],
   "source": [
    "#Reset the indices\n",
    "ac = ac.reset_index(drop=True)\n",
    "\n",
    "ac.head(n=10)\n"
   ],
   "metadata": {
    "collapsed": false,
    "pycharm": {
     "name": "#%%\n"
    }
   }
  },
  {
   "cell_type": "code",
   "execution_count": 115,
   "outputs": [],
   "source": [
    "accidents = ac.copy()\n",
    "\n",
    "#replace missing (-1) values\n",
    "from sklearn.impute import SimpleImputer\n",
    "imp = SimpleImputer(missing_values=-1, strategy='mean')\n",
    "\n",
    "y = accidents['casualty_severity']\n",
    "accidents = accidents.drop(columns=['casualty_severity'])\n",
    "\n",
    "one_hot_encoder = OneHotEncoder(sparse =True)\n",
    "scaler = StandardScaler()\n",
    "\n",
    "preprocessor = ColumnTransformer(\n",
    "    transformers=[\n",
    "        # use OneHotEncoder for Outlook and Wind\n",
    "        ('encoder', OneHotEncoder(), one_hot_list),\n",
    "        # use StandardScaler for Temperature and Humidity\n",
    "        ('scaler', StandardScaler(), ordinal_list)\n",
    "    ])\n",
    "\n",
    "pipe = Pipeline(steps=[(\"preprocessor\", preprocessor), (\"imputer\", imp), (\"estimator\", None)])"
   ],
   "metadata": {
    "collapsed": false,
    "pycharm": {
     "name": "#%%\n"
    }
   }
  },
  {
   "cell_type": "code",
   "execution_count": 116,
   "outputs": [
    {
     "data": {
      "text/plain": "       number_of_vehicles  number_of_casualties  month  day_of_week    time  \\\n0                       2                     1     11            2  1220.0   \n1                       2                     1     11            4   710.0   \n2                       2                     1     11            2  1171.0   \n3                       2                     1     11            2  1153.0   \n4                       2                     1     11            2   994.0   \n...                   ...                   ...    ...          ...     ...   \n68800                   2                     2      7            7  1082.0   \n68801                   2                     2      7            7  1082.0   \n68802                   2                     1      7            7  1065.0   \n68803                   1                     1      7            7  1169.0   \n68804                   3                     1      7            7   805.0   \n\n       first_road_class  road_type  speed_limit  junction_detail  \\\n0                     5          6           20                0   \n1                     5          6           30                3   \n2                     3          2           20                3   \n3                     5          6           30                0   \n4                     3         -1           20                5   \n...                 ...        ...          ...              ...   \n68800                 3          6           20                0   \n68801                 3          6           20                0   \n68802                 3          6           30                3   \n68803                 3          6           60                0   \n68804                 3          6           50                0   \n\n       junction_control  ...  vehicle_leaving_carriageway  \\\n0                    -1  ...                            0   \n1                     4  ...                           -1   \n2                     2  ...                            0   \n3                    -1  ...                            0   \n4                     4  ...                           -1   \n...                 ...  ...                          ...   \n68800                -1  ...                            0   \n68801                -1  ...                            0   \n68802                 4  ...                            0   \n68803                -1  ...                            0   \n68804                -1  ...                            1   \n\n       hit_object_off_carriageway  first_point_of_impact  sex_of_driver  \\\n0                               0                      3              1   \n1                              -1                     -1              1   \n2                               0                      2              1   \n3                               0                      4              1   \n4                              -1                      1              2   \n...                           ...                    ...            ...   \n68800                           0                      3              2   \n68801                           0                      1              1   \n68802                           0                      3              2   \n68803                           0                      1              1   \n68804                           0                      1              1   \n\n       age_band_of_driver  engine_capacity_cc  propulsion_code  \\\n0                       5                 113                1   \n1                       4                 125                1   \n2                       7                 125                1   \n3                       7                 124                1   \n4                       5                 125                1   \n...                   ...                 ...              ...   \n68800                   9                 998                1   \n68801                   7                 998                1   \n68802                   9                1498                1   \n68803                   8                 998                1   \n68804                   8                1085                1   \n\n       age_of_vehicle  driver_imd_decile  driver_home_area_type  \n0                   4                 -1                     -1  \n1                   4                  1                      1  \n2                   0                  3                      1  \n3                   7                  6                      1  \n4                   6                  7                      1  \n...               ...                ...                    ...  \n68800               2                  7                      1  \n68801               1                  8                      1  \n68802               1                  7                      1  \n68803              20                 10                      1  \n68804              21                 10                      1  \n\n[68805 rows x 40 columns]",
      "text/html": "<div>\n<style scoped>\n    .dataframe tbody tr th:only-of-type {\n        vertical-align: middle;\n    }\n\n    .dataframe tbody tr th {\n        vertical-align: top;\n    }\n\n    .dataframe thead th {\n        text-align: right;\n    }\n</style>\n<table border=\"1\" class=\"dataframe\">\n  <thead>\n    <tr style=\"text-align: right;\">\n      <th></th>\n      <th>number_of_vehicles</th>\n      <th>number_of_casualties</th>\n      <th>month</th>\n      <th>day_of_week</th>\n      <th>time</th>\n      <th>first_road_class</th>\n      <th>road_type</th>\n      <th>speed_limit</th>\n      <th>junction_detail</th>\n      <th>junction_control</th>\n      <th>...</th>\n      <th>vehicle_leaving_carriageway</th>\n      <th>hit_object_off_carriageway</th>\n      <th>first_point_of_impact</th>\n      <th>sex_of_driver</th>\n      <th>age_band_of_driver</th>\n      <th>engine_capacity_cc</th>\n      <th>propulsion_code</th>\n      <th>age_of_vehicle</th>\n      <th>driver_imd_decile</th>\n      <th>driver_home_area_type</th>\n    </tr>\n  </thead>\n  <tbody>\n    <tr>\n      <th>0</th>\n      <td>2</td>\n      <td>1</td>\n      <td>11</td>\n      <td>2</td>\n      <td>1220.0</td>\n      <td>5</td>\n      <td>6</td>\n      <td>20</td>\n      <td>0</td>\n      <td>-1</td>\n      <td>...</td>\n      <td>0</td>\n      <td>0</td>\n      <td>3</td>\n      <td>1</td>\n      <td>5</td>\n      <td>113</td>\n      <td>1</td>\n      <td>4</td>\n      <td>-1</td>\n      <td>-1</td>\n    </tr>\n    <tr>\n      <th>1</th>\n      <td>2</td>\n      <td>1</td>\n      <td>11</td>\n      <td>4</td>\n      <td>710.0</td>\n      <td>5</td>\n      <td>6</td>\n      <td>30</td>\n      <td>3</td>\n      <td>4</td>\n      <td>...</td>\n      <td>-1</td>\n      <td>-1</td>\n      <td>-1</td>\n      <td>1</td>\n      <td>4</td>\n      <td>125</td>\n      <td>1</td>\n      <td>4</td>\n      <td>1</td>\n      <td>1</td>\n    </tr>\n    <tr>\n      <th>2</th>\n      <td>2</td>\n      <td>1</td>\n      <td>11</td>\n      <td>2</td>\n      <td>1171.0</td>\n      <td>3</td>\n      <td>2</td>\n      <td>20</td>\n      <td>3</td>\n      <td>2</td>\n      <td>...</td>\n      <td>0</td>\n      <td>0</td>\n      <td>2</td>\n      <td>1</td>\n      <td>7</td>\n      <td>125</td>\n      <td>1</td>\n      <td>0</td>\n      <td>3</td>\n      <td>1</td>\n    </tr>\n    <tr>\n      <th>3</th>\n      <td>2</td>\n      <td>1</td>\n      <td>11</td>\n      <td>2</td>\n      <td>1153.0</td>\n      <td>5</td>\n      <td>6</td>\n      <td>30</td>\n      <td>0</td>\n      <td>-1</td>\n      <td>...</td>\n      <td>0</td>\n      <td>0</td>\n      <td>4</td>\n      <td>1</td>\n      <td>7</td>\n      <td>124</td>\n      <td>1</td>\n      <td>7</td>\n      <td>6</td>\n      <td>1</td>\n    </tr>\n    <tr>\n      <th>4</th>\n      <td>2</td>\n      <td>1</td>\n      <td>11</td>\n      <td>2</td>\n      <td>994.0</td>\n      <td>3</td>\n      <td>-1</td>\n      <td>20</td>\n      <td>5</td>\n      <td>4</td>\n      <td>...</td>\n      <td>-1</td>\n      <td>-1</td>\n      <td>1</td>\n      <td>2</td>\n      <td>5</td>\n      <td>125</td>\n      <td>1</td>\n      <td>6</td>\n      <td>7</td>\n      <td>1</td>\n    </tr>\n    <tr>\n      <th>...</th>\n      <td>...</td>\n      <td>...</td>\n      <td>...</td>\n      <td>...</td>\n      <td>...</td>\n      <td>...</td>\n      <td>...</td>\n      <td>...</td>\n      <td>...</td>\n      <td>...</td>\n      <td>...</td>\n      <td>...</td>\n      <td>...</td>\n      <td>...</td>\n      <td>...</td>\n      <td>...</td>\n      <td>...</td>\n      <td>...</td>\n      <td>...</td>\n      <td>...</td>\n      <td>...</td>\n    </tr>\n    <tr>\n      <th>68800</th>\n      <td>2</td>\n      <td>2</td>\n      <td>7</td>\n      <td>7</td>\n      <td>1082.0</td>\n      <td>3</td>\n      <td>6</td>\n      <td>20</td>\n      <td>0</td>\n      <td>-1</td>\n      <td>...</td>\n      <td>0</td>\n      <td>0</td>\n      <td>3</td>\n      <td>2</td>\n      <td>9</td>\n      <td>998</td>\n      <td>1</td>\n      <td>2</td>\n      <td>7</td>\n      <td>1</td>\n    </tr>\n    <tr>\n      <th>68801</th>\n      <td>2</td>\n      <td>2</td>\n      <td>7</td>\n      <td>7</td>\n      <td>1082.0</td>\n      <td>3</td>\n      <td>6</td>\n      <td>20</td>\n      <td>0</td>\n      <td>-1</td>\n      <td>...</td>\n      <td>0</td>\n      <td>0</td>\n      <td>1</td>\n      <td>1</td>\n      <td>7</td>\n      <td>998</td>\n      <td>1</td>\n      <td>1</td>\n      <td>8</td>\n      <td>1</td>\n    </tr>\n    <tr>\n      <th>68802</th>\n      <td>2</td>\n      <td>1</td>\n      <td>7</td>\n      <td>7</td>\n      <td>1065.0</td>\n      <td>3</td>\n      <td>6</td>\n      <td>30</td>\n      <td>3</td>\n      <td>4</td>\n      <td>...</td>\n      <td>0</td>\n      <td>0</td>\n      <td>3</td>\n      <td>2</td>\n      <td>9</td>\n      <td>1498</td>\n      <td>1</td>\n      <td>1</td>\n      <td>7</td>\n      <td>1</td>\n    </tr>\n    <tr>\n      <th>68803</th>\n      <td>1</td>\n      <td>1</td>\n      <td>7</td>\n      <td>7</td>\n      <td>1169.0</td>\n      <td>3</td>\n      <td>6</td>\n      <td>60</td>\n      <td>0</td>\n      <td>-1</td>\n      <td>...</td>\n      <td>0</td>\n      <td>0</td>\n      <td>1</td>\n      <td>1</td>\n      <td>8</td>\n      <td>998</td>\n      <td>1</td>\n      <td>20</td>\n      <td>10</td>\n      <td>1</td>\n    </tr>\n    <tr>\n      <th>68804</th>\n      <td>3</td>\n      <td>1</td>\n      <td>7</td>\n      <td>7</td>\n      <td>805.0</td>\n      <td>3</td>\n      <td>6</td>\n      <td>50</td>\n      <td>0</td>\n      <td>-1</td>\n      <td>...</td>\n      <td>1</td>\n      <td>0</td>\n      <td>1</td>\n      <td>1</td>\n      <td>8</td>\n      <td>1085</td>\n      <td>1</td>\n      <td>21</td>\n      <td>10</td>\n      <td>1</td>\n    </tr>\n  </tbody>\n</table>\n<p>68805 rows × 40 columns</p>\n</div>"
     },
     "execution_count": 116,
     "metadata": {},
     "output_type": "execute_result"
    }
   ],
   "source": [
    "accidents"
   ],
   "metadata": {
    "collapsed": false,
    "pycharm": {
     "name": "#%%\n"
    }
   }
  },
  {
   "cell_type": "markdown",
   "source": [
    "# First Splits and Models"
   ],
   "metadata": {
    "collapsed": false
   }
  },
  {
   "cell_type": "code",
   "execution_count": 117,
   "outputs": [
    {
     "data": {
      "text/plain": "0        1\n1        1\n2        0\n3        0\n4        0\n        ..\n68800    0\n68801    0\n68802    0\n68803    1\n68804    1\nName: casualty_severity, Length: 68805, dtype: int64"
     },
     "execution_count": 117,
     "metadata": {},
     "output_type": "execute_result"
    }
   ],
   "source": [
    "y"
   ],
   "metadata": {
    "collapsed": false,
    "pycharm": {
     "name": "#%%\n"
    }
   }
  },
  {
   "cell_type": "code",
   "execution_count": 118,
   "outputs": [
    {
     "data": {
      "text/plain": "       number_of_vehicles  number_of_casualties  month  day_of_week    time  \\\n0                       2                     1     11            2  1220.0   \n1                       2                     1     11            4   710.0   \n2                       2                     1     11            2  1171.0   \n3                       2                     1     11            2  1153.0   \n4                       2                     1     11            2   994.0   \n...                   ...                   ...    ...          ...     ...   \n68800                   2                     2      7            7  1082.0   \n68801                   2                     2      7            7  1082.0   \n68802                   2                     1      7            7  1065.0   \n68803                   1                     1      7            7  1169.0   \n68804                   3                     1      7            7   805.0   \n\n       first_road_class  road_type  speed_limit  junction_detail  \\\n0                     5          6           20                0   \n1                     5          6           30                3   \n2                     3          2           20                3   \n3                     5          6           30                0   \n4                     3         -1           20                5   \n...                 ...        ...          ...              ...   \n68800                 3          6           20                0   \n68801                 3          6           20                0   \n68802                 3          6           30                3   \n68803                 3          6           60                0   \n68804                 3          6           50                0   \n\n       junction_control  ...  vehicle_leaving_carriageway  \\\n0                    -1  ...                            0   \n1                     4  ...                           -1   \n2                     2  ...                            0   \n3                    -1  ...                            0   \n4                     4  ...                           -1   \n...                 ...  ...                          ...   \n68800                -1  ...                            0   \n68801                -1  ...                            0   \n68802                 4  ...                            0   \n68803                -1  ...                            0   \n68804                -1  ...                            1   \n\n       hit_object_off_carriageway  first_point_of_impact  sex_of_driver  \\\n0                               0                      3              1   \n1                              -1                     -1              1   \n2                               0                      2              1   \n3                               0                      4              1   \n4                              -1                      1              2   \n...                           ...                    ...            ...   \n68800                           0                      3              2   \n68801                           0                      1              1   \n68802                           0                      3              2   \n68803                           0                      1              1   \n68804                           0                      1              1   \n\n       age_band_of_driver  engine_capacity_cc  propulsion_code  \\\n0                       5                 113                1   \n1                       4                 125                1   \n2                       7                 125                1   \n3                       7                 124                1   \n4                       5                 125                1   \n...                   ...                 ...              ...   \n68800                   9                 998                1   \n68801                   7                 998                1   \n68802                   9                1498                1   \n68803                   8                 998                1   \n68804                   8                1085                1   \n\n       age_of_vehicle  driver_imd_decile  driver_home_area_type  \n0                   4                 -1                     -1  \n1                   4                  1                      1  \n2                   0                  3                      1  \n3                   7                  6                      1  \n4                   6                  7                      1  \n...               ...                ...                    ...  \n68800               2                  7                      1  \n68801               1                  8                      1  \n68802               1                  7                      1  \n68803              20                 10                      1  \n68804              21                 10                      1  \n\n[68805 rows x 40 columns]",
      "text/html": "<div>\n<style scoped>\n    .dataframe tbody tr th:only-of-type {\n        vertical-align: middle;\n    }\n\n    .dataframe tbody tr th {\n        vertical-align: top;\n    }\n\n    .dataframe thead th {\n        text-align: right;\n    }\n</style>\n<table border=\"1\" class=\"dataframe\">\n  <thead>\n    <tr style=\"text-align: right;\">\n      <th></th>\n      <th>number_of_vehicles</th>\n      <th>number_of_casualties</th>\n      <th>month</th>\n      <th>day_of_week</th>\n      <th>time</th>\n      <th>first_road_class</th>\n      <th>road_type</th>\n      <th>speed_limit</th>\n      <th>junction_detail</th>\n      <th>junction_control</th>\n      <th>...</th>\n      <th>vehicle_leaving_carriageway</th>\n      <th>hit_object_off_carriageway</th>\n      <th>first_point_of_impact</th>\n      <th>sex_of_driver</th>\n      <th>age_band_of_driver</th>\n      <th>engine_capacity_cc</th>\n      <th>propulsion_code</th>\n      <th>age_of_vehicle</th>\n      <th>driver_imd_decile</th>\n      <th>driver_home_area_type</th>\n    </tr>\n  </thead>\n  <tbody>\n    <tr>\n      <th>0</th>\n      <td>2</td>\n      <td>1</td>\n      <td>11</td>\n      <td>2</td>\n      <td>1220.0</td>\n      <td>5</td>\n      <td>6</td>\n      <td>20</td>\n      <td>0</td>\n      <td>-1</td>\n      <td>...</td>\n      <td>0</td>\n      <td>0</td>\n      <td>3</td>\n      <td>1</td>\n      <td>5</td>\n      <td>113</td>\n      <td>1</td>\n      <td>4</td>\n      <td>-1</td>\n      <td>-1</td>\n    </tr>\n    <tr>\n      <th>1</th>\n      <td>2</td>\n      <td>1</td>\n      <td>11</td>\n      <td>4</td>\n      <td>710.0</td>\n      <td>5</td>\n      <td>6</td>\n      <td>30</td>\n      <td>3</td>\n      <td>4</td>\n      <td>...</td>\n      <td>-1</td>\n      <td>-1</td>\n      <td>-1</td>\n      <td>1</td>\n      <td>4</td>\n      <td>125</td>\n      <td>1</td>\n      <td>4</td>\n      <td>1</td>\n      <td>1</td>\n    </tr>\n    <tr>\n      <th>2</th>\n      <td>2</td>\n      <td>1</td>\n      <td>11</td>\n      <td>2</td>\n      <td>1171.0</td>\n      <td>3</td>\n      <td>2</td>\n      <td>20</td>\n      <td>3</td>\n      <td>2</td>\n      <td>...</td>\n      <td>0</td>\n      <td>0</td>\n      <td>2</td>\n      <td>1</td>\n      <td>7</td>\n      <td>125</td>\n      <td>1</td>\n      <td>0</td>\n      <td>3</td>\n      <td>1</td>\n    </tr>\n    <tr>\n      <th>3</th>\n      <td>2</td>\n      <td>1</td>\n      <td>11</td>\n      <td>2</td>\n      <td>1153.0</td>\n      <td>5</td>\n      <td>6</td>\n      <td>30</td>\n      <td>0</td>\n      <td>-1</td>\n      <td>...</td>\n      <td>0</td>\n      <td>0</td>\n      <td>4</td>\n      <td>1</td>\n      <td>7</td>\n      <td>124</td>\n      <td>1</td>\n      <td>7</td>\n      <td>6</td>\n      <td>1</td>\n    </tr>\n    <tr>\n      <th>4</th>\n      <td>2</td>\n      <td>1</td>\n      <td>11</td>\n      <td>2</td>\n      <td>994.0</td>\n      <td>3</td>\n      <td>-1</td>\n      <td>20</td>\n      <td>5</td>\n      <td>4</td>\n      <td>...</td>\n      <td>-1</td>\n      <td>-1</td>\n      <td>1</td>\n      <td>2</td>\n      <td>5</td>\n      <td>125</td>\n      <td>1</td>\n      <td>6</td>\n      <td>7</td>\n      <td>1</td>\n    </tr>\n    <tr>\n      <th>...</th>\n      <td>...</td>\n      <td>...</td>\n      <td>...</td>\n      <td>...</td>\n      <td>...</td>\n      <td>...</td>\n      <td>...</td>\n      <td>...</td>\n      <td>...</td>\n      <td>...</td>\n      <td>...</td>\n      <td>...</td>\n      <td>...</td>\n      <td>...</td>\n      <td>...</td>\n      <td>...</td>\n      <td>...</td>\n      <td>...</td>\n      <td>...</td>\n      <td>...</td>\n      <td>...</td>\n    </tr>\n    <tr>\n      <th>68800</th>\n      <td>2</td>\n      <td>2</td>\n      <td>7</td>\n      <td>7</td>\n      <td>1082.0</td>\n      <td>3</td>\n      <td>6</td>\n      <td>20</td>\n      <td>0</td>\n      <td>-1</td>\n      <td>...</td>\n      <td>0</td>\n      <td>0</td>\n      <td>3</td>\n      <td>2</td>\n      <td>9</td>\n      <td>998</td>\n      <td>1</td>\n      <td>2</td>\n      <td>7</td>\n      <td>1</td>\n    </tr>\n    <tr>\n      <th>68801</th>\n      <td>2</td>\n      <td>2</td>\n      <td>7</td>\n      <td>7</td>\n      <td>1082.0</td>\n      <td>3</td>\n      <td>6</td>\n      <td>20</td>\n      <td>0</td>\n      <td>-1</td>\n      <td>...</td>\n      <td>0</td>\n      <td>0</td>\n      <td>1</td>\n      <td>1</td>\n      <td>7</td>\n      <td>998</td>\n      <td>1</td>\n      <td>1</td>\n      <td>8</td>\n      <td>1</td>\n    </tr>\n    <tr>\n      <th>68802</th>\n      <td>2</td>\n      <td>1</td>\n      <td>7</td>\n      <td>7</td>\n      <td>1065.0</td>\n      <td>3</td>\n      <td>6</td>\n      <td>30</td>\n      <td>3</td>\n      <td>4</td>\n      <td>...</td>\n      <td>0</td>\n      <td>0</td>\n      <td>3</td>\n      <td>2</td>\n      <td>9</td>\n      <td>1498</td>\n      <td>1</td>\n      <td>1</td>\n      <td>7</td>\n      <td>1</td>\n    </tr>\n    <tr>\n      <th>68803</th>\n      <td>1</td>\n      <td>1</td>\n      <td>7</td>\n      <td>7</td>\n      <td>1169.0</td>\n      <td>3</td>\n      <td>6</td>\n      <td>60</td>\n      <td>0</td>\n      <td>-1</td>\n      <td>...</td>\n      <td>0</td>\n      <td>0</td>\n      <td>1</td>\n      <td>1</td>\n      <td>8</td>\n      <td>998</td>\n      <td>1</td>\n      <td>20</td>\n      <td>10</td>\n      <td>1</td>\n    </tr>\n    <tr>\n      <th>68804</th>\n      <td>3</td>\n      <td>1</td>\n      <td>7</td>\n      <td>7</td>\n      <td>805.0</td>\n      <td>3</td>\n      <td>6</td>\n      <td>50</td>\n      <td>0</td>\n      <td>-1</td>\n      <td>...</td>\n      <td>1</td>\n      <td>0</td>\n      <td>1</td>\n      <td>1</td>\n      <td>8</td>\n      <td>1085</td>\n      <td>1</td>\n      <td>21</td>\n      <td>10</td>\n      <td>1</td>\n    </tr>\n  </tbody>\n</table>\n<p>68805 rows × 40 columns</p>\n</div>"
     },
     "execution_count": 118,
     "metadata": {},
     "output_type": "execute_result"
    }
   ],
   "source": [
    "accidents"
   ],
   "metadata": {
    "collapsed": false,
    "pycharm": {
     "name": "#%%\n"
    }
   }
  },
  {
   "cell_type": "code",
   "execution_count": 119,
   "outputs": [
    {
     "data": {
      "text/plain": "<Figure size 432x288 with 1 Axes>",
      "image/png": "[encoded data removed]"
     },
     "metadata": {
      "needs_background": "light"
     },
     "output_type": "display_data"
    }
   ],
   "source": [
    "#Some Plots\n",
    "\n",
    "class_dist = y.value_counts()\n",
    "plt.bar(class_dist.index, class_dist)\n",
    "plt.ylabel(\"Frequency\")\n",
    "plt.show()"
   ],
   "metadata": {
    "collapsed": false,
    "pycharm": {
     "name": "#%%\n"
    }
   }
  },
  {
   "cell_type": "code",
   "execution_count": 120,
   "outputs": [],
   "source": [
    "from imblearn.over_sampling import SMOTE\n",
    "#Undersampling/Oversampling:\n",
    "\n",
    "#sampler = RandomOverSampler()\n",
    "#sampler = RandomUnderSampler()\n",
    "sampler = SMOTE()\n",
    "\n",
    "X = accidents\n"
   ],
   "metadata": {
    "collapsed": false,
    "pycharm": {
     "name": "#%%\n"
    }
   }
  },
  {
   "cell_type": "code",
   "execution_count": 121,
   "outputs": [],
   "source": [
    "#split test and training data\n",
    "\n",
    "X_train, X_test, y_train, y_test = train_test_split(X, y, test_size=0.2, random_state=42, stratify=y)\n",
    "X_balanced, y_balanced = sampler.fit_resample(X_train, y_train)\n",
    "#class_dist = pd.Series(X_balanced).value_counts()\n",
    "#plt.bar(class_dist.index, class_dist)\n",
    "#plt.ylabel(\"Frequency\")\n",
    "#plt.show()"
   ],
   "metadata": {
    "collapsed": false,
    "pycharm": {
     "name": "#%%\n"
    }
   }
  },
  {
   "cell_type": "code",
   "execution_count": 122,
   "outputs": [],
   "source": [
    "# Do Preprocessing without pipeline\n",
    "X_onehot = X.copy()\n",
    "X_onehot\n",
    "encoded = pd.DataFrame(one_hot_encoder.fit_transform(X_onehot[one_hot_list]).toarray(),\n",
    "                       columns=one_hot_encoder.get_feature_names(one_hot_list))\n",
    "X_onehot = X_onehot.drop(columns=one_hot_list)\n",
    "X_onehot = X_onehot.join(encoded)\n",
    "X_onehot[:] = scaler.fit_transform(X_onehot[:])\n",
    "#Scale all columns to Standard Distribution\n",
    "X_onehot[:] = imp.fit_transform(X_onehot[:])\n",
    "X_prep_train, X_prep_test, y_prep_train, y_prep_test = train_test_split(X_onehot, y, test_size=0.2, random_state=42, stratify=y)\n",
    "X_prep_balanced, y_prep_balanced = sampler.fit_resample(X_prep_train, y_prep_train)"
   ],
   "metadata": {
    "collapsed": false,
    "pycharm": {
     "name": "#%%\n"
    }
   }
  },
  {
   "cell_type": "markdown",
   "source": [
    "# Creating models"
   ],
   "metadata": {
    "collapsed": false,
    "pycharm": {
     "name": "#%% md\n"
    }
   },
   "execution_count": 258
  },
  {
   "cell_type": "code",
   "execution_count": 123,
   "outputs": [
    {
     "data": {
      "text/plain": "[MLPClassifier(batch_size=64, early_stopping=True,\n               hidden_layer_sizes=(100, 100, 100), random_state=1234,\n               verbose=True),\n LogisticRegression(max_iter=20000),\n KNeighborsClassifier(n_neighbors=3),\n RandomForestClassifier(random_state=0)]"
     },
     "execution_count": 123,
     "metadata": {},
     "output_type": "execute_result"
    }
   ],
   "source": [
    "#Logistic Regression\n",
    "weight_estimator = LogisticRegression(max_iter=20000)\n",
    "\n",
    "#K-Nearest-Neighbors\n",
    "neigh = KNeighborsClassifier(n_neighbors=3)\n",
    "\n",
    "#Random Forest\n",
    "model = RandomForestClassifier(n_estimators=100, random_state=0)\n",
    "\n",
    "#Neural Network\n",
    "clf = MLPClassifier(hidden_layer_sizes=(100, 100, 100), activation='relu',\n",
    "learning_rate_init=1e-3, batch_size=64, verbose=True,\n",
    "early_stopping=True, random_state=1234)\n",
    "\n",
    "\n",
    "estimators = [clf, weight_estimator, neigh, model]\n",
    "estimators"
   ],
   "metadata": {
    "collapsed": false,
    "pycharm": {
     "name": "#%%\n"
    }
   }
  },
  {
   "cell_type": "markdown",
   "source": [
    "# Run estimators"
   ],
   "metadata": {
    "collapsed": false,
    "pycharm": {
     "name": "#%% md\n"
    }
   }
  },
  {
   "cell_type": "code",
   "execution_count": null,
   "outputs": [
    {
     "name": "stdout",
     "output_type": "stream",
     "text": [
      "MLPClassifier(batch_size=64, early_stopping=True,\n",
      "              hidden_layer_sizes=(100, 100, 100), random_state=1234,\n",
      "              verbose=True)\n",
      "Iteration 1, loss = 0.31709601\n",
      "Validation score: 0.869879\n",
      "Iteration 2, loss = 0.28661473\n",
      "Validation score: 0.872938\n",
      "Iteration 3, loss = 0.27629311\n",
      "Validation score: 0.874030\n",
      "Iteration 4, loss = 0.26667918\n",
      "              precision    recall  f1-score   support\n",
      "\n",
      "           0       0.86      0.94      0.90     11441\n",
      "           1       0.45      0.24      0.31      2320\n",
      "\n",
      "    accuracy                           0.82     13761\n",
      "   macro avg       0.66      0.59      0.60     13761\n",
      "weighted avg       0.79      0.82      0.80     13761\n",
      "\n",
      "LogisticRegression(max_iter=20000)\n"
     ]
    },
    {
     "name": "stderr",
     "output_type": "stream",
     "text": [
      "C:\\Users\\Tobi\\anaconda3\\lib\\site-packages\\sklearn\\neural_network\\_multilayer_perceptron.py:619: UserWarning: Training interrupted by user.\n",
      "  warnings.warn(\"Training interrupted by user.\")\n"
     ]
    },
    {
     "name": "stdout",
     "output_type": "stream",
     "text": [
      "              precision    recall  f1-score   support\n",
      "\n",
      "           0       0.86      0.93      0.89     11441\n",
      "           1       0.41      0.25      0.31      2320\n",
      "\n",
      "    accuracy                           0.81     13761\n",
      "   macro avg       0.64      0.59      0.60     13761\n",
      "weighted avg       0.78      0.81      0.79     13761\n",
      "\n",
      "KNeighborsClassifier(n_neighbors=3)\n"
     ]
    }
   ],
   "source": [
    "#iterate over list\n",
    "for estimator in estimators:\n",
    "   print(estimator)\n",
    "   pipe.set_params(estimator = estimator)\n",
    "   pipe.fit(X_balanced, y_balanced)\n",
    "   prediction = pipe.predict(X_test)\n",
    "   print(classification_report(y_test, prediction))"
   ],
   "metadata": {
    "collapsed": false,
    "pycharm": {
     "name": "#%%\n",
     "is_executing": true
    }
   }
  },
  {
   "cell_type": "code",
   "execution_count": 125,
   "outputs": [
    {
     "name": "stderr",
     "output_type": "stream",
     "text": [
      "C:\\Users\\Tobi\\anaconda3\\lib\\site-packages\\sklearn\\utils\\validation.py:70: FutureWarning: Pass n_features_to_select=20 as keyword args. From version 1.0 (renaming of 0.25) passing these as positional arguments will result in an error\n",
      "  warnings.warn(f\"Pass {args_msg} as keyword args. From version \"\n"
     ]
    },
    {
     "name": "stdout",
     "output_type": "stream",
     "text": [
      "Fitting estimator with 226 features.\n",
      "Fitting estimator with 225 features.\n",
      "Fitting estimator with 224 features.\n",
      "Fitting estimator with 223 features.\n",
      "Fitting estimator with 222 features.\n",
      "Fitting estimator with 221 features.\n",
      "Fitting estimator with 220 features.\n",
      "Fitting estimator with 219 features.\n",
      "Fitting estimator with 218 features.\n",
      "Fitting estimator with 217 features.\n",
      "Fitting estimator with 216 features.\n",
      "Fitting estimator with 215 features.\n",
      "Fitting estimator with 214 features.\n",
      "Fitting estimator with 213 features.\n",
      "Fitting estimator with 212 features.\n",
      "Fitting estimator with 211 features.\n",
      "Fitting estimator with 210 features.\n",
      "Fitting estimator with 209 features.\n",
      "Fitting estimator with 208 features.\n",
      "Fitting estimator with 207 features.\n",
      "Fitting estimator with 206 features.\n",
      "Fitting estimator with 205 features.\n",
      "Fitting estimator with 204 features.\n",
      "Fitting estimator with 203 features.\n",
      "Fitting estimator with 202 features.\n",
      "Fitting estimator with 201 features.\n",
      "Fitting estimator with 200 features.\n",
      "Fitting estimator with 199 features.\n",
      "Fitting estimator with 198 features.\n",
      "Fitting estimator with 197 features.\n",
      "Fitting estimator with 196 features.\n",
      "Fitting estimator with 195 features.\n",
      "Fitting estimator with 194 features.\n",
      "Fitting estimator with 193 features.\n",
      "Fitting estimator with 192 features.\n",
      "Fitting estimator with 191 features.\n",
      "Fitting estimator with 190 features.\n",
      "Fitting estimator with 189 features.\n",
      "Fitting estimator with 188 features.\n",
      "Fitting estimator with 187 features.\n",
      "Fitting estimator with 186 features.\n",
      "Fitting estimator with 185 features.\n",
      "Fitting estimator with 184 features.\n",
      "Fitting estimator with 183 features.\n",
      "Fitting estimator with 182 features.\n",
      "Fitting estimator with 181 features.\n",
      "Fitting estimator with 180 features.\n",
      "Fitting estimator with 179 features.\n",
      "Fitting estimator with 178 features.\n",
      "Fitting estimator with 177 features.\n",
      "Fitting estimator with 176 features.\n",
      "Fitting estimator with 175 features.\n",
      "Fitting estimator with 174 features.\n",
      "Fitting estimator with 173 features.\n",
      "Fitting estimator with 172 features.\n",
      "Fitting estimator with 171 features.\n",
      "Fitting estimator with 170 features.\n",
      "Fitting estimator with 169 features.\n",
      "Fitting estimator with 168 features.\n",
      "Fitting estimator with 167 features.\n",
      "Fitting estimator with 166 features.\n",
      "Fitting estimator with 165 features.\n",
      "Fitting estimator with 164 features.\n",
      "Fitting estimator with 163 features.\n",
      "Fitting estimator with 162 features.\n",
      "Fitting estimator with 161 features.\n",
      "Fitting estimator with 160 features.\n",
      "Fitting estimator with 159 features.\n",
      "Fitting estimator with 158 features.\n",
      "Fitting estimator with 157 features.\n",
      "Fitting estimator with 156 features.\n",
      "Fitting estimator with 155 features.\n",
      "Fitting estimator with 154 features.\n",
      "Fitting estimator with 153 features.\n",
      "Fitting estimator with 152 features.\n",
      "Fitting estimator with 151 features.\n",
      "Fitting estimator with 150 features.\n",
      "Fitting estimator with 149 features.\n",
      "Fitting estimator with 148 features.\n",
      "Fitting estimator with 147 features.\n",
      "Fitting estimator with 146 features.\n",
      "Fitting estimator with 145 features.\n",
      "Fitting estimator with 144 features.\n",
      "Fitting estimator with 143 features.\n",
      "Fitting estimator with 142 features.\n",
      "Fitting estimator with 141 features.\n",
      "Fitting estimator with 140 features.\n",
      "Fitting estimator with 139 features.\n",
      "Fitting estimator with 138 features.\n",
      "Fitting estimator with 137 features.\n",
      "Fitting estimator with 136 features.\n",
      "Fitting estimator with 135 features.\n",
      "Fitting estimator with 134 features.\n",
      "Fitting estimator with 133 features.\n",
      "Fitting estimator with 132 features.\n",
      "Fitting estimator with 131 features.\n",
      "Fitting estimator with 130 features.\n",
      "Fitting estimator with 129 features.\n",
      "Fitting estimator with 128 features.\n",
      "Fitting estimator with 127 features.\n",
      "Fitting estimator with 126 features.\n",
      "Fitting estimator with 125 features.\n",
      "Fitting estimator with 124 features.\n",
      "Fitting estimator with 123 features.\n",
      "Fitting estimator with 122 features.\n",
      "Fitting estimator with 121 features.\n",
      "Fitting estimator with 120 features.\n",
      "Fitting estimator with 119 features.\n",
      "Fitting estimator with 118 features.\n",
      "Fitting estimator with 117 features.\n",
      "Fitting estimator with 116 features.\n",
      "Fitting estimator with 115 features.\n",
      "Fitting estimator with 114 features.\n",
      "Fitting estimator with 113 features.\n",
      "Fitting estimator with 112 features.\n",
      "Fitting estimator with 111 features.\n",
      "Fitting estimator with 110 features.\n",
      "Fitting estimator with 109 features.\n",
      "Fitting estimator with 108 features.\n",
      "Fitting estimator with 107 features.\n",
      "Fitting estimator with 106 features.\n",
      "Fitting estimator with 105 features.\n",
      "Fitting estimator with 104 features.\n",
      "Fitting estimator with 103 features.\n",
      "Fitting estimator with 102 features.\n",
      "Fitting estimator with 101 features.\n",
      "Fitting estimator with 100 features.\n",
      "Fitting estimator with 99 features.\n",
      "Fitting estimator with 98 features.\n",
      "Fitting estimator with 97 features.\n",
      "Fitting estimator with 96 features.\n",
      "Fitting estimator with 95 features.\n",
      "Fitting estimator with 94 features.\n",
      "Fitting estimator with 93 features.\n",
      "Fitting estimator with 92 features.\n",
      "Fitting estimator with 91 features.\n",
      "Fitting estimator with 90 features.\n",
      "Fitting estimator with 89 features.\n",
      "Fitting estimator with 88 features.\n",
      "Fitting estimator with 87 features.\n",
      "Fitting estimator with 86 features.\n",
      "Fitting estimator with 85 features.\n",
      "Fitting estimator with 84 features.\n",
      "Fitting estimator with 83 features.\n",
      "Fitting estimator with 82 features.\n",
      "Fitting estimator with 81 features.\n",
      "Fitting estimator with 80 features.\n",
      "Fitting estimator with 79 features.\n",
      "Fitting estimator with 78 features.\n",
      "Fitting estimator with 77 features.\n",
      "Fitting estimator with 76 features.\n",
      "Fitting estimator with 75 features.\n",
      "Fitting estimator with 74 features.\n",
      "Fitting estimator with 73 features.\n",
      "Fitting estimator with 72 features.\n",
      "Fitting estimator with 71 features.\n",
      "Fitting estimator with 70 features.\n",
      "Fitting estimator with 69 features.\n",
      "Fitting estimator with 68 features.\n",
      "Fitting estimator with 67 features.\n",
      "Fitting estimator with 66 features.\n",
      "Fitting estimator with 65 features.\n",
      "Fitting estimator with 64 features.\n",
      "Fitting estimator with 63 features.\n",
      "Fitting estimator with 62 features.\n",
      "Fitting estimator with 61 features.\n",
      "Fitting estimator with 60 features.\n",
      "Fitting estimator with 59 features.\n",
      "Fitting estimator with 58 features.\n",
      "Fitting estimator with 57 features.\n",
      "Fitting estimator with 56 features.\n",
      "Fitting estimator with 55 features.\n",
      "Fitting estimator with 54 features.\n",
      "Fitting estimator with 53 features.\n",
      "Fitting estimator with 52 features.\n",
      "Fitting estimator with 51 features.\n",
      "Fitting estimator with 50 features.\n",
      "Fitting estimator with 49 features.\n",
      "Fitting estimator with 48 features.\n",
      "Fitting estimator with 47 features.\n",
      "Fitting estimator with 46 features.\n",
      "Fitting estimator with 45 features.\n",
      "Fitting estimator with 44 features.\n",
      "Fitting estimator with 43 features.\n",
      "Fitting estimator with 42 features.\n",
      "Fitting estimator with 41 features.\n",
      "Fitting estimator with 40 features.\n",
      "Fitting estimator with 39 features.\n",
      "Fitting estimator with 38 features.\n",
      "Fitting estimator with 37 features.\n",
      "Fitting estimator with 36 features.\n",
      "Fitting estimator with 35 features.\n",
      "Fitting estimator with 34 features.\n",
      "Fitting estimator with 33 features.\n",
      "Fitting estimator with 32 features.\n",
      "Fitting estimator with 31 features.\n",
      "Fitting estimator with 30 features.\n",
      "Fitting estimator with 29 features.\n",
      "Fitting estimator with 28 features.\n",
      "Fitting estimator with 27 features.\n",
      "Fitting estimator with 26 features.\n",
      "Fitting estimator with 25 features.\n",
      "Fitting estimator with 24 features.\n",
      "Fitting estimator with 23 features.\n",
      "Fitting estimator with 22 features.\n",
      "Fitting estimator with 21 features.\n"
     ]
    },
    {
     "data": {
      "text/plain": "Pipeline(steps=[('preprocessor',\n                 ColumnTransformer(transformers=[('encoder', OneHotEncoder(),\n                                                  ['first_road_class',\n                                                   'road_type',\n                                                   'junction_detail',\n                                                   'junction_control',\n                                                   'light_conditions',\n                                                   'weather_conditions',\n                                                   'road_surface_conditions',\n                                                   'special_conditions_at_site',\n                                                   'carriageway_hazards',\n                                                   'urban_or_rural_area',\n                                                   'trunk_road_flag',\n                                                   'casualty_class',\n                                                   'sex_of_casualty...\n                                                   'driver_home_area_type']),\n                                                 ('scaler', StandardScaler(),\n                                                  ['number_of_vehicles',\n                                                   'number_of_casualties',\n                                                   'month', 'day_of_week',\n                                                   'time', 'speed_limit',\n                                                   'age_band_of_casualty',\n                                                   'age_band_of_driver',\n                                                   'engine_capacity_cc',\n                                                   'age_of_vehicle'])])),\n                ('imputer', SimpleImputer(missing_values=-1)),\n                ('estimator',\n                 RFE(estimator=LogisticRegression(max_iter=5000),\n                     n_features_to_select=20, verbose=1))])"
     },
     "execution_count": 125,
     "metadata": {},
     "output_type": "execute_result"
    }
   ],
   "source": [
    "\n",
    "logreg2 = LogisticRegression(max_iter = 5000)\n",
    "rfe = RFE(logreg2,20, verbose=1)\n",
    "#pipe.set_params(estimator=rfe)\n",
    "pipe.set_params(estimator= rfe)\n",
    "pipe.fit(X_train,y_train)"
   ],
   "metadata": {
    "collapsed": false,
    "pycharm": {
     "name": "#%%\n"
    }
   }
  },
  {
   "cell_type": "code",
   "execution_count": 126,
   "outputs": [
    {
     "name": "stdout",
     "output_type": "stream",
     "text": [
      "[False False False False False False False False False False False False\n",
      " False  True False False False False False False False  True False False\n",
      " False False False False False False False False False False False False\n",
      " False False False False False False False False False False False False\n",
      " False  True False False False False False False False False False False\n",
      "  True False False False False False False False False False  True False\n",
      " False False False False False  True  True False False False False False\n",
      " False False False False False False False False False False False False\n",
      " False  True False False False False False False False False False False\n",
      "  True False False False False False False False False  True  True False\n",
      " False False False False False False False False False  True False False\n",
      " False False False False False False False False False False False False\n",
      " False False  True False False False False False False False False False\n",
      " False False False  True  True False False False False False False False\n",
      " False  True False False False False False False False False  True False\n",
      " False False False False False  True False False False False False False\n",
      " False False False False  True  True False False False False False False\n",
      " False False False False False False False False False False False False\n",
      " False False False False False False False False False False]\n",
      "[ 95 183 184 182 112  98 158 130 100 201  73  78 132   1  20 176 178  88\n",
      " 206  83 177   1  36 152  40  96  23  46 185 174 193  45  69 153  49  37\n",
      " 108  50  39 190  75  76  77  24  42 148 136 138 135   1 205 137 134  22\n",
      "  25   6 131   2  87  18   1  59  12 123  29  30  61 175  52 179   1  34\n",
      "  35  74 197  70 119   1   1  31  33  32  41  99 164 204 166 207 172 203\n",
      " 116 195 171 110 151 155 161   1  64  91  65  21  27   8 157  53  26 104\n",
      "   1 140 139 169 143  66 141 142   3   1   1  11 189  10 113  14  60  58\n",
      "  92  57  56   1  19 127 125 101 126 106 105 124 107  43  44 200  79 154\n",
      " 202  90   1 186  71   5  13  47   4 187  63  15  80  93  97   1   1 145\n",
      " 144  38  16  17  51 146 147   1  68 117  67  81   7  54 163  72   1  82\n",
      " 118  55  89 159  28   1 173  86 121 198 128  85  84 170  94 103   1   1\n",
      " 111 199   9 167 102 150 196 115 129 181 109 180 156 162 191 168 192 165\n",
      " 160 114 188 194 149  62  48 120 133 122]\n"
     ]
    }
   ],
   "source": [
    "print(rfe.support_)\n",
    "print(rfe.ranking_)"
   ],
   "metadata": {
    "collapsed": false,
    "pycharm": {
     "name": "#%%\n"
    }
   }
  },
  {
   "cell_type": "code",
   "execution_count": 127,
   "outputs": [
    {
     "name": "stdout",
     "output_type": "stream",
     "text": [
      "Optimization terminated successfully.\n",
      "         Current function value: 0.690906\n",
      "         Iterations 4\n",
      "                                  Results: Logit\n",
      "==================================================================================\n",
      "Model:                    Logit                  Pseudo R-squared:      -0.523    \n",
      "Dependent Variable:       casualty_severity      AIC:                   76100.4789\n",
      "Date:                     2021-11-20 17:05       BIC:                   76278.7967\n",
      "No. Observations:         55044                  Log-Likelihood:        -38030.   \n",
      "Df Model:                 19                     LL-Null:               -24969.   \n",
      "Df Residuals:             55024                  LLR p-value:           1.0000    \n",
      "Converged:                1.0000                 Scale:                 1.0000    \n",
      "No. Iterations:           4.0000                                                  \n",
      "----------------------------------------------------------------------------------\n",
      "                                    Coef.  Std.Err.    z    P>|z|   [0.025  0.975]\n",
      "----------------------------------------------------------------------------------\n",
      "first_road_class_3                  0.0196   0.0086  2.2786 0.0227  0.0027  0.0365\n",
      "road_type_7                        -0.0292   0.0087 -3.3584 0.0008 -0.0463 -0.0122\n",
      "weather_conditions_7                0.0178   0.0086  2.0647 0.0389  0.0009  0.0347\n",
      "special_conditions_at_site_3        0.0025   0.0085  0.2906 0.7714 -0.0142  0.0191\n",
      "carriageway_hazards_6              -0.0012   0.0094 -0.1237 0.9015 -0.0195  0.0172\n",
      "trunk_road_flag_2                  -0.0258   0.0088 -2.9527 0.0031 -0.0430 -0.0087\n",
      "casualty_class_1                    0.0669   0.0086  7.8162 0.0000  0.0501  0.0837\n",
      "casualty_imd_decile_1              -0.0145   0.0085 -1.6985 0.0894 -0.0313  0.0022\n",
      "towing_and_articulation_0          -0.0181   0.0087 -2.0820 0.0373 -0.0351 -0.0011\n",
      "vehicle_manoeuvre_9                -0.0266   0.0088 -3.0078 0.0026 -0.0439 -0.0093\n",
      "vehicle_manoeuvre_11               -0.0185   0.0086 -2.1447 0.0320 -0.0355 -0.0016\n",
      "vehicle_location_restricted_lane_0 -0.0457   0.0111 -4.1113 0.0000 -0.0675 -0.0239\n",
      "junction_location_6                -0.0219   0.0088 -2.4795 0.0132 -0.0392 -0.0046\n",
      "hit_object_in_carriageway_2         0.0106   0.0088  1.2058 0.2279 -0.0066  0.0277\n",
      "hit_object_in_carriageway_4         0.0298   0.0087  3.4355 0.0006  0.0128  0.0468\n",
      "vehicle_leaving_carriageway_-1     -0.0915   0.0114 -8.0447 0.0000 -0.1138 -0.0692\n",
      "vehicle_leaving_carriageway_8       0.0454   0.0087  5.2107 0.0000  0.0283  0.0624\n",
      "hit_object_off_carriageway_5        0.0076   0.0084  0.9109 0.3624 -0.0088  0.0240\n",
      "first_point_of_impact_3            -0.0223   0.0087 -2.5637 0.0104 -0.0394 -0.0053\n",
      "first_point_of_impact_4            -0.0235   0.0087 -2.7078 0.0068 -0.0405 -0.0065\n",
      "==================================================================================\n",
      "\n"
     ]
    }
   ],
   "source": [
    "X_t = X_prep_train[X_prep_train.columns[rfe.support_]]\n",
    "import statsmodels.api as sm\n",
    "logit_model = sm.Logit(y_prep_train,X_t)\n",
    "result = logit_model.fit()\n",
    "print(result.summary2())"
   ],
   "metadata": {
    "collapsed": false,
    "pycharm": {
     "name": "#%%\n"
    }
   }
  },
  {
   "cell_type": "code",
   "execution_count": 128,
   "outputs": [
    {
     "ename": "IndexError",
     "evalue": "boolean index did not match indexed array along dimension 0; dimension is 40 but corresponding boolean dimension is 226",
     "output_type": "error",
     "traceback": [
      "\u001B[1;31m---------------------------------------------------------------------------\u001B[0m",
      "\u001B[1;31mIndexError\u001B[0m                                Traceback (most recent call last)",
      "\u001B[1;32m<ipython-input-128-d98a032acf56>\u001B[0m in \u001B[0;36m<module>\u001B[1;34m\u001B[0m\n\u001B[0;32m      1\u001B[0m \u001B[0mlogreg2\u001B[0m\u001B[1;33m.\u001B[0m\u001B[0mfit\u001B[0m\u001B[1;33m(\u001B[0m\u001B[0mX_t\u001B[0m\u001B[1;33m,\u001B[0m \u001B[0my_train\u001B[0m\u001B[1;33m)\u001B[0m\u001B[1;33m\u001B[0m\u001B[1;33m\u001B[0m\u001B[0m\n\u001B[1;32m----> 2\u001B[1;33m \u001B[0mpred\u001B[0m \u001B[1;33m=\u001B[0m \u001B[0mlogreg2\u001B[0m\u001B[1;33m.\u001B[0m\u001B[0mpredict\u001B[0m\u001B[1;33m(\u001B[0m\u001B[0mX_test\u001B[0m\u001B[1;33m[\u001B[0m\u001B[0mX_test\u001B[0m\u001B[1;33m.\u001B[0m\u001B[0mcolumns\u001B[0m\u001B[1;33m[\u001B[0m\u001B[0mrfe\u001B[0m\u001B[1;33m.\u001B[0m\u001B[0msupport_\u001B[0m\u001B[1;33m]\u001B[0m\u001B[1;33m]\u001B[0m\u001B[1;33m)\u001B[0m\u001B[1;33m\u001B[0m\u001B[1;33m\u001B[0m\u001B[0m\n\u001B[0m\u001B[0;32m      3\u001B[0m \u001B[0mprint\u001B[0m\u001B[1;33m(\u001B[0m\u001B[1;34m\"Accuracy: \"\u001B[0m \u001B[1;33m,\u001B[0m \u001B[0mlogreg2\u001B[0m\u001B[1;33m.\u001B[0m\u001B[0mscore\u001B[0m\u001B[1;33m(\u001B[0m\u001B[0mX_test\u001B[0m\u001B[1;33m[\u001B[0m\u001B[0mX_test\u001B[0m\u001B[1;33m.\u001B[0m\u001B[0mcolumns\u001B[0m\u001B[1;33m[\u001B[0m\u001B[0mrfe\u001B[0m\u001B[1;33m.\u001B[0m\u001B[0msupport_\u001B[0m\u001B[1;33m]\u001B[0m\u001B[1;33m]\u001B[0m\u001B[1;33m,\u001B[0m\u001B[0my_test\u001B[0m\u001B[1;33m)\u001B[0m\u001B[1;33m)\u001B[0m\u001B[1;33m\u001B[0m\u001B[1;33m\u001B[0m\u001B[0m\n\u001B[0;32m      4\u001B[0m \u001B[1;33m\u001B[0m\u001B[0m\n",
      "\u001B[1;32m~\\anaconda3\\lib\\site-packages\\pandas\\core\\indexes\\base.py\u001B[0m in \u001B[0;36m__getitem__\u001B[1;34m(self, key)\u001B[0m\n\u001B[0;32m   4305\u001B[0m             \u001B[0mkey\u001B[0m \u001B[1;33m=\u001B[0m \u001B[0mnp\u001B[0m\u001B[1;33m.\u001B[0m\u001B[0masarray\u001B[0m\u001B[1;33m(\u001B[0m\u001B[0mkey\u001B[0m\u001B[1;33m,\u001B[0m \u001B[0mdtype\u001B[0m\u001B[1;33m=\u001B[0m\u001B[0mbool\u001B[0m\u001B[1;33m)\u001B[0m\u001B[1;33m\u001B[0m\u001B[1;33m\u001B[0m\u001B[0m\n\u001B[0;32m   4306\u001B[0m \u001B[1;33m\u001B[0m\u001B[0m\n\u001B[1;32m-> 4307\u001B[1;33m         \u001B[0mresult\u001B[0m \u001B[1;33m=\u001B[0m \u001B[0mgetitem\u001B[0m\u001B[1;33m(\u001B[0m\u001B[0mkey\u001B[0m\u001B[1;33m)\u001B[0m\u001B[1;33m\u001B[0m\u001B[1;33m\u001B[0m\u001B[0m\n\u001B[0m\u001B[0;32m   4308\u001B[0m         \u001B[1;32mif\u001B[0m \u001B[1;32mnot\u001B[0m \u001B[0mis_scalar\u001B[0m\u001B[1;33m(\u001B[0m\u001B[0mresult\u001B[0m\u001B[1;33m)\u001B[0m\u001B[1;33m:\u001B[0m\u001B[1;33m\u001B[0m\u001B[1;33m\u001B[0m\u001B[0m\n\u001B[0;32m   4309\u001B[0m             \u001B[1;32mif\u001B[0m \u001B[0mnp\u001B[0m\u001B[1;33m.\u001B[0m\u001B[0mndim\u001B[0m\u001B[1;33m(\u001B[0m\u001B[0mresult\u001B[0m\u001B[1;33m)\u001B[0m \u001B[1;33m>\u001B[0m \u001B[1;36m1\u001B[0m\u001B[1;33m:\u001B[0m\u001B[1;33m\u001B[0m\u001B[1;33m\u001B[0m\u001B[0m\n",
      "\u001B[1;31mIndexError\u001B[0m: boolean index did not match indexed array along dimension 0; dimension is 40 but corresponding boolean dimension is 226"
     ]
    }
   ],
   "source": [
    "logreg2.fit(X_t, y_train)\n",
    "pred = logreg2.predict(X_test[X_test.columns[rfe.support_]])\n",
    "print(\"Accuracy: \" , logreg2.score(X_test[X_test.columns[rfe.support_]],y_test))\n"
   ],
   "metadata": {
    "collapsed": false,
    "pycharm": {
     "name": "#%%\n"
    }
   }
  }
 ],
 "metadata": {
  "kernelspec": {
   "display_name": "Python 3",
   "language": "python",
   "name": "python3"
  },
  "language_info": {
   "codemirror_mode": {
    "name": "ipython",
    "version": 2
   },
   "file_extension": ".py",
   "mimetype": "text/x-python",
   "name": "python",
   "nbconvert_exporter": "python",
   "pygments_lexer": "ipython2",
   "version": "2.7.6"
  }
 },
 "nbformat": 4,
 "nbformat_minor": 0
}