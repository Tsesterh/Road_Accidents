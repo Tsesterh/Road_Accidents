{
 "cells": [
  {
   "cell_type": "code",
   "execution_count": 40,
   "outputs": [],
   "source": [
    "import pandas as pd\n",
    "import numpy as np\n",
    "import matplotlib.pyplot as plt\n",
    "from sklearn.compose import ColumnTransformer\n",
    "from sklearn.preprocessing import OneHotEncoder\n",
    "from sklearn.preprocessing import OneHotEncoder\n",
    "from sklearn.model_selection import train_test_split\n",
    "from sklearn.linear_model import LogisticRegression\n",
    "from sklearn.metrics import accuracy_score\n",
    "from sklearn.metrics import f1_score\n",
    "from sklearn.metrics import confusion_matrix\n",
    "from sklearn.metrics import precision_score,recall_score\n",
    "from sklearn.tree import DecisionTreeRegressor\n",
    "from sklearn.ensemble import RandomForestClassifier\n",
    "import eli5\n",
    "from eli5.sklearn import PermutationImportance\n",
    "from sklearn.metrics import confusion_matrix\n",
    "from sklearn.metrics import classification_report\n",
    "#import the MLPClassifier from neural_network from sklearn\n",
    "from sklearn.neural_network import MLPClassifier\n",
    "#import the pipeline from sklearn\n",
    "from sklearn.pipeline import Pipeline\n",
    "from sklearn.neighbors import NearestNeighbors\n",
    "from imblearn.under_sampling import RandomUnderSampler\n",
    "from imblearn.over_sampling import RandomOverSampler\n",
    "import matplotlib.pyplot as plt\n",
    "from sklearn.preprocessing import StandardScaler"
   ],
   "metadata": {
    "collapsed": false,
    "pycharm": {
     "name": "#%%\n"
    }
   }
  },
  {
   "cell_type": "code",
   "execution_count": 41,
   "outputs": [
    {
     "data": {
      "text/plain": "   number_of_vehicles  number_of_casualties  month  day_of_week    time  \\\n0                   2                     1     11            2  1220.0   \n1                   2                     1     11            4   710.0   \n2                   2                     1     11            2  1171.0   \n3                   2                     1     11            2  1153.0   \n4                   2                     1     11            2   994.0   \n\n   first_road_class  road_type  speed_limit  junction_detail  \\\n0                 5          6           20                0   \n1                 5          6           30                3   \n2                 3          2           20                3   \n3                 5          6           30                0   \n4                 3         -1           20                5   \n\n   junction_control  ...  vehicle_leaving_carriageway  \\\n0                -1  ...                            0   \n1                 4  ...                           -1   \n2                 2  ...                            0   \n3                -1  ...                            0   \n4                 4  ...                           -1   \n\n   hit_object_off_carriageway  first_point_of_impact  sex_of_driver  \\\n0                           0                      3              1   \n1                          -1                     -1              1   \n2                           0                      2              1   \n3                           0                      4              1   \n4                          -1                      1              2   \n\n   age_band_of_driver  engine_capacity_cc  propulsion_code  age_of_vehicle  \\\n0                   5                 113                1               4   \n1                   4                 125                1               4   \n2                   7                 125                1               0   \n3                   7                 124                1               7   \n4                   5                 125                1               6   \n\n   driver_imd_decile  driver_home_area_type  \n0                 -1                     -1  \n1                  1                      1  \n2                  3                      1  \n3                  6                      1  \n4                  7                      1  \n\n[5 rows x 41 columns]",
      "text/html": "<div>\n<style scoped>\n    .dataframe tbody tr th:only-of-type {\n        vertical-align: middle;\n    }\n\n    .dataframe tbody tr th {\n        vertical-align: top;\n    }\n\n    .dataframe thead th {\n        text-align: right;\n    }\n</style>\n<table border=\"1\" class=\"dataframe\">\n  <thead>\n    <tr style=\"text-align: right;\">\n      <th></th>\n      <th>number_of_vehicles</th>\n      <th>number_of_casualties</th>\n      <th>month</th>\n      <th>day_of_week</th>\n      <th>time</th>\n      <th>first_road_class</th>\n      <th>road_type</th>\n      <th>speed_limit</th>\n      <th>junction_detail</th>\n      <th>junction_control</th>\n      <th>...</th>\n      <th>vehicle_leaving_carriageway</th>\n      <th>hit_object_off_carriageway</th>\n      <th>first_point_of_impact</th>\n      <th>sex_of_driver</th>\n      <th>age_band_of_driver</th>\n      <th>engine_capacity_cc</th>\n      <th>propulsion_code</th>\n      <th>age_of_vehicle</th>\n      <th>driver_imd_decile</th>\n      <th>driver_home_area_type</th>\n    </tr>\n  </thead>\n  <tbody>\n    <tr>\n      <th>0</th>\n      <td>2</td>\n      <td>1</td>\n      <td>11</td>\n      <td>2</td>\n      <td>1220.0</td>\n      <td>5</td>\n      <td>6</td>\n      <td>20</td>\n      <td>0</td>\n      <td>-1</td>\n      <td>...</td>\n      <td>0</td>\n      <td>0</td>\n      <td>3</td>\n      <td>1</td>\n      <td>5</td>\n      <td>113</td>\n      <td>1</td>\n      <td>4</td>\n      <td>-1</td>\n      <td>-1</td>\n    </tr>\n    <tr>\n      <th>1</th>\n      <td>2</td>\n      <td>1</td>\n      <td>11</td>\n      <td>4</td>\n      <td>710.0</td>\n      <td>5</td>\n      <td>6</td>\n      <td>30</td>\n      <td>3</td>\n      <td>4</td>\n      <td>...</td>\n      <td>-1</td>\n      <td>-1</td>\n      <td>-1</td>\n      <td>1</td>\n      <td>4</td>\n      <td>125</td>\n      <td>1</td>\n      <td>4</td>\n      <td>1</td>\n      <td>1</td>\n    </tr>\n    <tr>\n      <th>2</th>\n      <td>2</td>\n      <td>1</td>\n      <td>11</td>\n      <td>2</td>\n      <td>1171.0</td>\n      <td>3</td>\n      <td>2</td>\n      <td>20</td>\n      <td>3</td>\n      <td>2</td>\n      <td>...</td>\n      <td>0</td>\n      <td>0</td>\n      <td>2</td>\n      <td>1</td>\n      <td>7</td>\n      <td>125</td>\n      <td>1</td>\n      <td>0</td>\n      <td>3</td>\n      <td>1</td>\n    </tr>\n    <tr>\n      <th>3</th>\n      <td>2</td>\n      <td>1</td>\n      <td>11</td>\n      <td>2</td>\n      <td>1153.0</td>\n      <td>5</td>\n      <td>6</td>\n      <td>30</td>\n      <td>0</td>\n      <td>-1</td>\n      <td>...</td>\n      <td>0</td>\n      <td>0</td>\n      <td>4</td>\n      <td>1</td>\n      <td>7</td>\n      <td>124</td>\n      <td>1</td>\n      <td>7</td>\n      <td>6</td>\n      <td>1</td>\n    </tr>\n    <tr>\n      <th>4</th>\n      <td>2</td>\n      <td>1</td>\n      <td>11</td>\n      <td>2</td>\n      <td>994.0</td>\n      <td>3</td>\n      <td>-1</td>\n      <td>20</td>\n      <td>5</td>\n      <td>4</td>\n      <td>...</td>\n      <td>-1</td>\n      <td>-1</td>\n      <td>1</td>\n      <td>2</td>\n      <td>5</td>\n      <td>125</td>\n      <td>1</td>\n      <td>6</td>\n      <td>7</td>\n      <td>1</td>\n    </tr>\n  </tbody>\n</table>\n<p>5 rows × 41 columns</p>\n</div>"
     },
     "execution_count": 41,
     "metadata": {},
     "output_type": "execute_result"
    }
   ],
   "source": [
    "ac = pd.read_csv('accidents_preprocessed.csv')\n",
    "ac = ac.drop(columns=['location_easting_osgr', 'location_northing_osgr', 'longitude', 'latitude'])\n",
    "ac.head()"
   ],
   "metadata": {
    "collapsed": false,
    "pycharm": {
     "name": "#%%\n"
    }
   }
  },
  {
   "cell_type": "markdown",
   "source": [
    "### Preprocess Target class casualty_severity\n",
    "#### -Note:  Fatal and Serious together in one class and slight in the other"
   ],
   "metadata": {
    "collapsed": false
   }
  },
  {
   "cell_type": "code",
   "execution_count": 42,
   "outputs": [
    {
     "data": {
      "text/plain": "       number_of_vehicles  number_of_casualties  month  day_of_week    time  \\\n0                       2                     1     11            2  1220.0   \n1                       2                     1     11            4   710.0   \n12                      2                     1     11            3   165.0   \n13                      2                     1     11            3   287.0   \n14                      2                     1     11            3   545.0   \n...                   ...                   ...    ...          ...     ...   \n56314                   1                     3      7            7    30.0   \n56316                   1                     3      7            7    30.0   \n56318                   2                     1      7            7   960.0   \n56322                   1                     1      7            7  1169.0   \n56323                   3                     1      7            7   805.0   \n\n       first_road_class  road_type  speed_limit  junction_detail  \\\n0                     5          6           20                0   \n1                     5          6           30                3   \n12                    3          6           20               -1   \n13                    3          6           30                6   \n14                    3          2           20               -1   \n...                 ...        ...          ...              ...   \n56314                 3          6           60                0   \n56316                 3          6           60                0   \n56318                -1          6           20                0   \n56322                 3          6           60                0   \n56323                 3          6           50                0   \n\n       junction_control  ...  vehicle_leaving_carriageway  \\\n0                    -1  ...                            0   \n1                     4  ...                           -1   \n12                    4  ...                            0   \n13                    2  ...                            0   \n14                    4  ...                            0   \n...                 ...  ...                          ...   \n56314                -1  ...                            0   \n56316                -1  ...                            0   \n56318                -1  ...                            0   \n56322                -1  ...                            0   \n56323                -1  ...                            1   \n\n       hit_object_off_carriageway  first_point_of_impact  sex_of_driver  \\\n0                               0                      3              1   \n1                              -1                     -1              1   \n12                              0                      1              1   \n13                              0                      1              1   \n14                              0                      4              1   \n...                           ...                    ...            ...   \n56314                           0                      0              2   \n56316                           0                      0              2   \n56318                           0                      3              2   \n56322                           0                      1              1   \n56323                           0                      1              1   \n\n       age_band_of_driver  engine_capacity_cc  propulsion_code  \\\n0                       5                 113                1   \n1                       4                 125                1   \n12                      7                1598                1   \n13                      7                 109                1   \n14                      6                 124                1   \n...                   ...                 ...              ...   \n56314                   4                1400                1   \n56316                   4                1400                1   \n56318                   9                1997                1   \n56322                   8                 998                1   \n56323                   8                1085                1   \n\n       age_of_vehicle  driver_imd_decile  driver_home_area_type  \n0                   4                 -1                     -1  \n1                   4                  1                      1  \n12                 16                  3                      1  \n13                  5                  2                      1  \n14                  0                  5                      1  \n...               ...                ...                    ...  \n56314              15                  7                      3  \n56316              15                  7                      3  \n56318              13                  5                      2  \n56322              20                 10                      1  \n56323              21                 10                      1  \n\n[9440 rows x 41 columns]",
      "text/html": "<div>\n<style scoped>\n    .dataframe tbody tr th:only-of-type {\n        vertical-align: middle;\n    }\n\n    .dataframe tbody tr th {\n        vertical-align: top;\n    }\n\n    .dataframe thead th {\n        text-align: right;\n    }\n</style>\n<table border=\"1\" class=\"dataframe\">\n  <thead>\n    <tr style=\"text-align: right;\">\n      <th></th>\n      <th>number_of_vehicles</th>\n      <th>number_of_casualties</th>\n      <th>month</th>\n      <th>day_of_week</th>\n      <th>time</th>\n      <th>first_road_class</th>\n      <th>road_type</th>\n      <th>speed_limit</th>\n      <th>junction_detail</th>\n      <th>junction_control</th>\n      <th>...</th>\n      <th>vehicle_leaving_carriageway</th>\n      <th>hit_object_off_carriageway</th>\n      <th>first_point_of_impact</th>\n      <th>sex_of_driver</th>\n      <th>age_band_of_driver</th>\n      <th>engine_capacity_cc</th>\n      <th>propulsion_code</th>\n      <th>age_of_vehicle</th>\n      <th>driver_imd_decile</th>\n      <th>driver_home_area_type</th>\n    </tr>\n  </thead>\n  <tbody>\n    <tr>\n      <th>0</th>\n      <td>2</td>\n      <td>1</td>\n      <td>11</td>\n      <td>2</td>\n      <td>1220.0</td>\n      <td>5</td>\n      <td>6</td>\n      <td>20</td>\n      <td>0</td>\n      <td>-1</td>\n      <td>...</td>\n      <td>0</td>\n      <td>0</td>\n      <td>3</td>\n      <td>1</td>\n      <td>5</td>\n      <td>113</td>\n      <td>1</td>\n      <td>4</td>\n      <td>-1</td>\n      <td>-1</td>\n    </tr>\n    <tr>\n      <th>1</th>\n      <td>2</td>\n      <td>1</td>\n      <td>11</td>\n      <td>4</td>\n      <td>710.0</td>\n      <td>5</td>\n      <td>6</td>\n      <td>30</td>\n      <td>3</td>\n      <td>4</td>\n      <td>...</td>\n      <td>-1</td>\n      <td>-1</td>\n      <td>-1</td>\n      <td>1</td>\n      <td>4</td>\n      <td>125</td>\n      <td>1</td>\n      <td>4</td>\n      <td>1</td>\n      <td>1</td>\n    </tr>\n    <tr>\n      <th>12</th>\n      <td>2</td>\n      <td>1</td>\n      <td>11</td>\n      <td>3</td>\n      <td>165.0</td>\n      <td>3</td>\n      <td>6</td>\n      <td>20</td>\n      <td>-1</td>\n      <td>4</td>\n      <td>...</td>\n      <td>0</td>\n      <td>0</td>\n      <td>1</td>\n      <td>1</td>\n      <td>7</td>\n      <td>1598</td>\n      <td>1</td>\n      <td>16</td>\n      <td>3</td>\n      <td>1</td>\n    </tr>\n    <tr>\n      <th>13</th>\n      <td>2</td>\n      <td>1</td>\n      <td>11</td>\n      <td>3</td>\n      <td>287.0</td>\n      <td>3</td>\n      <td>6</td>\n      <td>30</td>\n      <td>6</td>\n      <td>2</td>\n      <td>...</td>\n      <td>0</td>\n      <td>0</td>\n      <td>1</td>\n      <td>1</td>\n      <td>7</td>\n      <td>109</td>\n      <td>1</td>\n      <td>5</td>\n      <td>2</td>\n      <td>1</td>\n    </tr>\n    <tr>\n      <th>14</th>\n      <td>2</td>\n      <td>1</td>\n      <td>11</td>\n      <td>3</td>\n      <td>545.0</td>\n      <td>3</td>\n      <td>2</td>\n      <td>20</td>\n      <td>-1</td>\n      <td>4</td>\n      <td>...</td>\n      <td>0</td>\n      <td>0</td>\n      <td>4</td>\n      <td>1</td>\n      <td>6</td>\n      <td>124</td>\n      <td>1</td>\n      <td>0</td>\n      <td>5</td>\n      <td>1</td>\n    </tr>\n    <tr>\n      <th>...</th>\n      <td>...</td>\n      <td>...</td>\n      <td>...</td>\n      <td>...</td>\n      <td>...</td>\n      <td>...</td>\n      <td>...</td>\n      <td>...</td>\n      <td>...</td>\n      <td>...</td>\n      <td>...</td>\n      <td>...</td>\n      <td>...</td>\n      <td>...</td>\n      <td>...</td>\n      <td>...</td>\n      <td>...</td>\n      <td>...</td>\n      <td>...</td>\n      <td>...</td>\n      <td>...</td>\n    </tr>\n    <tr>\n      <th>56314</th>\n      <td>1</td>\n      <td>3</td>\n      <td>7</td>\n      <td>7</td>\n      <td>30.0</td>\n      <td>3</td>\n      <td>6</td>\n      <td>60</td>\n      <td>0</td>\n      <td>-1</td>\n      <td>...</td>\n      <td>0</td>\n      <td>0</td>\n      <td>0</td>\n      <td>2</td>\n      <td>4</td>\n      <td>1400</td>\n      <td>1</td>\n      <td>15</td>\n      <td>7</td>\n      <td>3</td>\n    </tr>\n    <tr>\n      <th>56316</th>\n      <td>1</td>\n      <td>3</td>\n      <td>7</td>\n      <td>7</td>\n      <td>30.0</td>\n      <td>3</td>\n      <td>6</td>\n      <td>60</td>\n      <td>0</td>\n      <td>-1</td>\n      <td>...</td>\n      <td>0</td>\n      <td>0</td>\n      <td>0</td>\n      <td>2</td>\n      <td>4</td>\n      <td>1400</td>\n      <td>1</td>\n      <td>15</td>\n      <td>7</td>\n      <td>3</td>\n    </tr>\n    <tr>\n      <th>56318</th>\n      <td>2</td>\n      <td>1</td>\n      <td>7</td>\n      <td>7</td>\n      <td>960.0</td>\n      <td>-1</td>\n      <td>6</td>\n      <td>20</td>\n      <td>0</td>\n      <td>-1</td>\n      <td>...</td>\n      <td>0</td>\n      <td>0</td>\n      <td>3</td>\n      <td>2</td>\n      <td>9</td>\n      <td>1997</td>\n      <td>1</td>\n      <td>13</td>\n      <td>5</td>\n      <td>2</td>\n    </tr>\n    <tr>\n      <th>56322</th>\n      <td>1</td>\n      <td>1</td>\n      <td>7</td>\n      <td>7</td>\n      <td>1169.0</td>\n      <td>3</td>\n      <td>6</td>\n      <td>60</td>\n      <td>0</td>\n      <td>-1</td>\n      <td>...</td>\n      <td>0</td>\n      <td>0</td>\n      <td>1</td>\n      <td>1</td>\n      <td>8</td>\n      <td>998</td>\n      <td>1</td>\n      <td>20</td>\n      <td>10</td>\n      <td>1</td>\n    </tr>\n    <tr>\n      <th>56323</th>\n      <td>3</td>\n      <td>1</td>\n      <td>7</td>\n      <td>7</td>\n      <td>805.0</td>\n      <td>3</td>\n      <td>6</td>\n      <td>50</td>\n      <td>0</td>\n      <td>-1</td>\n      <td>...</td>\n      <td>1</td>\n      <td>0</td>\n      <td>1</td>\n      <td>1</td>\n      <td>8</td>\n      <td>1085</td>\n      <td>1</td>\n      <td>21</td>\n      <td>10</td>\n      <td>1</td>\n    </tr>\n  </tbody>\n</table>\n<p>9440 rows × 41 columns</p>\n</div>"
     },
     "execution_count": 42,
     "metadata": {},
     "output_type": "execute_result"
    }
   ],
   "source": [
    "\n",
    "ac['casualty_severity'] = ac['casualty_severity'].replace(2, 1)\n",
    "ac['casualty_severity'] = ac['casualty_severity'].replace(3, 0)\n",
    "\n",
    "ac[ac.casualty_severity == 1]"
   ],
   "metadata": {
    "collapsed": false,
    "pycharm": {
     "name": "#%%\n"
    }
   }
  },
  {
   "cell_type": "code",
   "execution_count": 43,
   "outputs": [],
   "source": [
    "one_hot_list = ['first_road_class', 'road_type', 'junction_detail', 'junction_control', 'light_conditions',\n",
    "                'weather_conditions', 'road_surface_conditions', 'special_conditions_at_site', 'carriageway_hazards',\n",
    "                'urban_or_rural_area', 'trunk_road_flag', 'casualty_class', 'sex_of_casualty', 'car_passenger',\n",
    "                'casualty_type', 'casualty_home_area_type', 'casualty_imd_decile', 'towing_and_articulation',\n",
    "                'vehicle_manoeuvre', 'vehicle_location_restricted_lane', 'junction_location',\n",
    "                'skidding_and_overturning', 'hit_object_in_carriageway', 'vehicle_leaving_carriageway',\n",
    "                'hit_object_off_carriageway', 'first_point_of_impact', 'sex_of_driver', 'propulsion_code',\n",
    "                'driver_imd_decile', 'driver_home_area_type']\n",
    "\n",
    "#Maybe change speed limit\n",
    "ordinal_list = ['number_of_vehicles', 'number_of_casualties', 'month', 'day_of_week', 'time', 'speed_limit',\n",
    "                'age_band_of_casualty', 'age_band_of_driver', 'engine_capacity_cc', 'age_of_vehicle']"
   ],
   "metadata": {
    "collapsed": false,
    "pycharm": {
     "name": "#%%\n"
    }
   }
  },
  {
   "cell_type": "code",
   "execution_count": 44,
   "outputs": [
    {
     "data": {
      "text/plain": "   number_of_vehicles  number_of_casualties  month  day_of_week    time  \\\n0                   2                     1     11            2  1220.0   \n1                   2                     1     11            4   710.0   \n2                   2                     1     11            2  1171.0   \n3                   2                     1     11            2  1153.0   \n4                   2                     1     11            2   994.0   \n5                   2                     1     11            2   970.0   \n6                   2                     1     11            2  1226.0   \n7                   1                     1     11            2  1350.0   \n8                   2                     1     11            2  1123.0   \n9                   2                     1     11            2  1320.0   \n\n   first_road_class  road_type  speed_limit  junction_detail  \\\n0                 5          6           20                0   \n1                 5          6           30                3   \n2                 3          2           20                3   \n3                 5          6           30                0   \n4                 3         -1           20                5   \n5                -1          6           30                3   \n6                 4          6           20                3   \n7                 3          1           40                1   \n8                 5         -1           30                0   \n9                 5          6           30                3   \n\n   junction_control  ...  vehicle_leaving_carriageway  \\\n0                -1  ...                            0   \n1                 4  ...                           -1   \n2                 2  ...                            0   \n3                -1  ...                            0   \n4                 4  ...                           -1   \n5                 4  ...                            0   \n6                 2  ...                            0   \n7                 4  ...                            0   \n8                -1  ...                            0   \n9                 4  ...                            7   \n\n   hit_object_off_carriageway  first_point_of_impact  sex_of_driver  \\\n0                           0                      3              1   \n1                          -1                     -1              1   \n2                           0                      2              1   \n3                           0                      4              1   \n4                          -1                      1              2   \n5                           0                      3              1   \n6                           0                      1              1   \n7                           0                      1              1   \n8                           0                      1              1   \n9                           2                      3              2   \n\n   age_band_of_driver  engine_capacity_cc  propulsion_code  age_of_vehicle  \\\n0                   5                 113                1               4   \n1                   4                 125                1               4   \n2                   7                 125                1               0   \n3                   7                 124                1               7   \n4                   5                 125                1               6   \n5                   6                 998                1               3   \n6                   7                 125                1               0   \n7                   4                  -1               -1              -1   \n8                   7                  -1               -1              -1   \n9                   7                1499                2               2   \n\n   driver_imd_decile  driver_home_area_type  \n0                 -1                     -1  \n1                  1                      1  \n2                  3                      1  \n3                  6                      1  \n4                  7                      1  \n5                  2                      1  \n6                  5                      1  \n7                  6                      1  \n8                 -1                     -1  \n9                  1                      1  \n\n[10 rows x 41 columns]",
      "text/html": "<div>\n<style scoped>\n    .dataframe tbody tr th:only-of-type {\n        vertical-align: middle;\n    }\n\n    .dataframe tbody tr th {\n        vertical-align: top;\n    }\n\n    .dataframe thead th {\n        text-align: right;\n    }\n</style>\n<table border=\"1\" class=\"dataframe\">\n  <thead>\n    <tr style=\"text-align: right;\">\n      <th></th>\n      <th>number_of_vehicles</th>\n      <th>number_of_casualties</th>\n      <th>month</th>\n      <th>day_of_week</th>\n      <th>time</th>\n      <th>first_road_class</th>\n      <th>road_type</th>\n      <th>speed_limit</th>\n      <th>junction_detail</th>\n      <th>junction_control</th>\n      <th>...</th>\n      <th>vehicle_leaving_carriageway</th>\n      <th>hit_object_off_carriageway</th>\n      <th>first_point_of_impact</th>\n      <th>sex_of_driver</th>\n      <th>age_band_of_driver</th>\n      <th>engine_capacity_cc</th>\n      <th>propulsion_code</th>\n      <th>age_of_vehicle</th>\n      <th>driver_imd_decile</th>\n      <th>driver_home_area_type</th>\n    </tr>\n  </thead>\n  <tbody>\n    <tr>\n      <th>0</th>\n      <td>2</td>\n      <td>1</td>\n      <td>11</td>\n      <td>2</td>\n      <td>1220.0</td>\n      <td>5</td>\n      <td>6</td>\n      <td>20</td>\n      <td>0</td>\n      <td>-1</td>\n      <td>...</td>\n      <td>0</td>\n      <td>0</td>\n      <td>3</td>\n      <td>1</td>\n      <td>5</td>\n      <td>113</td>\n      <td>1</td>\n      <td>4</td>\n      <td>-1</td>\n      <td>-1</td>\n    </tr>\n    <tr>\n      <th>1</th>\n      <td>2</td>\n      <td>1</td>\n      <td>11</td>\n      <td>4</td>\n      <td>710.0</td>\n      <td>5</td>\n      <td>6</td>\n      <td>30</td>\n      <td>3</td>\n      <td>4</td>\n      <td>...</td>\n      <td>-1</td>\n      <td>-1</td>\n      <td>-1</td>\n      <td>1</td>\n      <td>4</td>\n      <td>125</td>\n      <td>1</td>\n      <td>4</td>\n      <td>1</td>\n      <td>1</td>\n    </tr>\n    <tr>\n      <th>2</th>\n      <td>2</td>\n      <td>1</td>\n      <td>11</td>\n      <td>2</td>\n      <td>1171.0</td>\n      <td>3</td>\n      <td>2</td>\n      <td>20</td>\n      <td>3</td>\n      <td>2</td>\n      <td>...</td>\n      <td>0</td>\n      <td>0</td>\n      <td>2</td>\n      <td>1</td>\n      <td>7</td>\n      <td>125</td>\n      <td>1</td>\n      <td>0</td>\n      <td>3</td>\n      <td>1</td>\n    </tr>\n    <tr>\n      <th>3</th>\n      <td>2</td>\n      <td>1</td>\n      <td>11</td>\n      <td>2</td>\n      <td>1153.0</td>\n      <td>5</td>\n      <td>6</td>\n      <td>30</td>\n      <td>0</td>\n      <td>-1</td>\n      <td>...</td>\n      <td>0</td>\n      <td>0</td>\n      <td>4</td>\n      <td>1</td>\n      <td>7</td>\n      <td>124</td>\n      <td>1</td>\n      <td>7</td>\n      <td>6</td>\n      <td>1</td>\n    </tr>\n    <tr>\n      <th>4</th>\n      <td>2</td>\n      <td>1</td>\n      <td>11</td>\n      <td>2</td>\n      <td>994.0</td>\n      <td>3</td>\n      <td>-1</td>\n      <td>20</td>\n      <td>5</td>\n      <td>4</td>\n      <td>...</td>\n      <td>-1</td>\n      <td>-1</td>\n      <td>1</td>\n      <td>2</td>\n      <td>5</td>\n      <td>125</td>\n      <td>1</td>\n      <td>6</td>\n      <td>7</td>\n      <td>1</td>\n    </tr>\n    <tr>\n      <th>5</th>\n      <td>2</td>\n      <td>1</td>\n      <td>11</td>\n      <td>2</td>\n      <td>970.0</td>\n      <td>-1</td>\n      <td>6</td>\n      <td>30</td>\n      <td>3</td>\n      <td>4</td>\n      <td>...</td>\n      <td>0</td>\n      <td>0</td>\n      <td>3</td>\n      <td>1</td>\n      <td>6</td>\n      <td>998</td>\n      <td>1</td>\n      <td>3</td>\n      <td>2</td>\n      <td>1</td>\n    </tr>\n    <tr>\n      <th>6</th>\n      <td>2</td>\n      <td>1</td>\n      <td>11</td>\n      <td>2</td>\n      <td>1226.0</td>\n      <td>4</td>\n      <td>6</td>\n      <td>20</td>\n      <td>3</td>\n      <td>2</td>\n      <td>...</td>\n      <td>0</td>\n      <td>0</td>\n      <td>1</td>\n      <td>1</td>\n      <td>7</td>\n      <td>125</td>\n      <td>1</td>\n      <td>0</td>\n      <td>5</td>\n      <td>1</td>\n    </tr>\n    <tr>\n      <th>7</th>\n      <td>1</td>\n      <td>1</td>\n      <td>11</td>\n      <td>2</td>\n      <td>1350.0</td>\n      <td>3</td>\n      <td>1</td>\n      <td>40</td>\n      <td>1</td>\n      <td>4</td>\n      <td>...</td>\n      <td>0</td>\n      <td>0</td>\n      <td>1</td>\n      <td>1</td>\n      <td>4</td>\n      <td>-1</td>\n      <td>-1</td>\n      <td>-1</td>\n      <td>6</td>\n      <td>1</td>\n    </tr>\n    <tr>\n      <th>8</th>\n      <td>2</td>\n      <td>1</td>\n      <td>11</td>\n      <td>2</td>\n      <td>1123.0</td>\n      <td>5</td>\n      <td>-1</td>\n      <td>30</td>\n      <td>0</td>\n      <td>-1</td>\n      <td>...</td>\n      <td>0</td>\n      <td>0</td>\n      <td>1</td>\n      <td>1</td>\n      <td>7</td>\n      <td>-1</td>\n      <td>-1</td>\n      <td>-1</td>\n      <td>-1</td>\n      <td>-1</td>\n    </tr>\n    <tr>\n      <th>9</th>\n      <td>2</td>\n      <td>1</td>\n      <td>11</td>\n      <td>2</td>\n      <td>1320.0</td>\n      <td>5</td>\n      <td>6</td>\n      <td>30</td>\n      <td>3</td>\n      <td>4</td>\n      <td>...</td>\n      <td>7</td>\n      <td>2</td>\n      <td>3</td>\n      <td>2</td>\n      <td>7</td>\n      <td>1499</td>\n      <td>2</td>\n      <td>2</td>\n      <td>1</td>\n      <td>1</td>\n    </tr>\n  </tbody>\n</table>\n<p>10 rows × 41 columns</p>\n</div>"
     },
     "execution_count": 44,
     "metadata": {},
     "output_type": "execute_result"
    }
   ],
   "source": [
    "#Reset the indices\n",
    "ac = ac.reset_index(drop=True)\n",
    "\n",
    "ac.head(n=10)"
   ],
   "metadata": {
    "collapsed": false,
    "pycharm": {
     "name": "#%%\n"
    }
   }
  },
  {
   "cell_type": "code",
   "execution_count": 45,
   "outputs": [
    {
     "data": {
      "text/plain": "       number_of_vehicles  number_of_casualties     month  day_of_week  \\\n0               -0.049628             -0.682890  1.151915    -1.076702   \n1               -0.049628             -0.682890  1.151915    -0.063924   \n2               -0.049628             -0.682890  1.151915    -1.076702   \n3               -0.049628             -0.682890  1.151915    -1.076702   \n4               -0.049628             -0.682890  1.151915    -1.076702   \n...                   ...                   ...       ...          ...   \n56319           -0.049628              0.096962  0.064307     1.455245   \n56320           -0.049628              0.096962  0.064307     1.455245   \n56321           -0.049628             -0.682890  0.064307     1.455245   \n56322           -1.354596             -0.682890  0.064307     1.455245   \n56323            1.255340             -0.682890  0.064307     1.455245   \n\n           time  speed_limit  age_band_of_casualty  age_band_of_driver  \\\n0      1.165830    -1.409165             -0.613268           -0.826244   \n1     -0.477850    -0.743147             -1.049346           -1.314595   \n2      1.007908    -1.409165              0.258887            0.150457   \n3      0.949896    -0.743147              0.258887            0.150457   \n4      0.437454    -1.409165             -0.613268           -0.826244   \n...         ...          ...                   ...                 ...   \n56319  0.721070    -1.409165              1.131043            1.127159   \n56320  0.721070    -1.409165             -0.177190            0.150457   \n56321  0.666280    -0.743147              1.131043            1.127159   \n56322  1.001462     1.254906              0.694965            0.638808   \n56323 -0.171674     0.588888              0.694965            0.638808   \n\n       engine_capacity_cc  age_of_vehicle  \n0               -1.112462       -0.563267  \n1               -1.102348       -0.563267  \n2               -1.102348       -1.195186  \n3               -1.103191       -0.089328  \n4               -1.102348       -0.247308  \n...                   ...             ...  \n56319           -0.366544       -0.879227  \n56320           -0.366544       -1.037206  \n56321            0.054878       -1.037206  \n56322           -0.366544        1.964407  \n56323           -0.293217        2.122387  \n\n[56324 rows x 10 columns]",
      "text/html": "<div>\n<style scoped>\n    .dataframe tbody tr th:only-of-type {\n        vertical-align: middle;\n    }\n\n    .dataframe tbody tr th {\n        vertical-align: top;\n    }\n\n    .dataframe thead th {\n        text-align: right;\n    }\n</style>\n<table border=\"1\" class=\"dataframe\">\n  <thead>\n    <tr style=\"text-align: right;\">\n      <th></th>\n      <th>number_of_vehicles</th>\n      <th>number_of_casualties</th>\n      <th>month</th>\n      <th>day_of_week</th>\n      <th>time</th>\n      <th>speed_limit</th>\n      <th>age_band_of_casualty</th>\n      <th>age_band_of_driver</th>\n      <th>engine_capacity_cc</th>\n      <th>age_of_vehicle</th>\n    </tr>\n  </thead>\n  <tbody>\n    <tr>\n      <th>0</th>\n      <td>-0.049628</td>\n      <td>-0.682890</td>\n      <td>1.151915</td>\n      <td>-1.076702</td>\n      <td>1.165830</td>\n      <td>-1.409165</td>\n      <td>-0.613268</td>\n      <td>-0.826244</td>\n      <td>-1.112462</td>\n      <td>-0.563267</td>\n    </tr>\n    <tr>\n      <th>1</th>\n      <td>-0.049628</td>\n      <td>-0.682890</td>\n      <td>1.151915</td>\n      <td>-0.063924</td>\n      <td>-0.477850</td>\n      <td>-0.743147</td>\n      <td>-1.049346</td>\n      <td>-1.314595</td>\n      <td>-1.102348</td>\n      <td>-0.563267</td>\n    </tr>\n    <tr>\n      <th>2</th>\n      <td>-0.049628</td>\n      <td>-0.682890</td>\n      <td>1.151915</td>\n      <td>-1.076702</td>\n      <td>1.007908</td>\n      <td>-1.409165</td>\n      <td>0.258887</td>\n      <td>0.150457</td>\n      <td>-1.102348</td>\n      <td>-1.195186</td>\n    </tr>\n    <tr>\n      <th>3</th>\n      <td>-0.049628</td>\n      <td>-0.682890</td>\n      <td>1.151915</td>\n      <td>-1.076702</td>\n      <td>0.949896</td>\n      <td>-0.743147</td>\n      <td>0.258887</td>\n      <td>0.150457</td>\n      <td>-1.103191</td>\n      <td>-0.089328</td>\n    </tr>\n    <tr>\n      <th>4</th>\n      <td>-0.049628</td>\n      <td>-0.682890</td>\n      <td>1.151915</td>\n      <td>-1.076702</td>\n      <td>0.437454</td>\n      <td>-1.409165</td>\n      <td>-0.613268</td>\n      <td>-0.826244</td>\n      <td>-1.102348</td>\n      <td>-0.247308</td>\n    </tr>\n    <tr>\n      <th>...</th>\n      <td>...</td>\n      <td>...</td>\n      <td>...</td>\n      <td>...</td>\n      <td>...</td>\n      <td>...</td>\n      <td>...</td>\n      <td>...</td>\n      <td>...</td>\n      <td>...</td>\n    </tr>\n    <tr>\n      <th>56319</th>\n      <td>-0.049628</td>\n      <td>0.096962</td>\n      <td>0.064307</td>\n      <td>1.455245</td>\n      <td>0.721070</td>\n      <td>-1.409165</td>\n      <td>1.131043</td>\n      <td>1.127159</td>\n      <td>-0.366544</td>\n      <td>-0.879227</td>\n    </tr>\n    <tr>\n      <th>56320</th>\n      <td>-0.049628</td>\n      <td>0.096962</td>\n      <td>0.064307</td>\n      <td>1.455245</td>\n      <td>0.721070</td>\n      <td>-1.409165</td>\n      <td>-0.177190</td>\n      <td>0.150457</td>\n      <td>-0.366544</td>\n      <td>-1.037206</td>\n    </tr>\n    <tr>\n      <th>56321</th>\n      <td>-0.049628</td>\n      <td>-0.682890</td>\n      <td>0.064307</td>\n      <td>1.455245</td>\n      <td>0.666280</td>\n      <td>-0.743147</td>\n      <td>1.131043</td>\n      <td>1.127159</td>\n      <td>0.054878</td>\n      <td>-1.037206</td>\n    </tr>\n    <tr>\n      <th>56322</th>\n      <td>-1.354596</td>\n      <td>-0.682890</td>\n      <td>0.064307</td>\n      <td>1.455245</td>\n      <td>1.001462</td>\n      <td>1.254906</td>\n      <td>0.694965</td>\n      <td>0.638808</td>\n      <td>-0.366544</td>\n      <td>1.964407</td>\n    </tr>\n    <tr>\n      <th>56323</th>\n      <td>1.255340</td>\n      <td>-0.682890</td>\n      <td>0.064307</td>\n      <td>1.455245</td>\n      <td>-0.171674</td>\n      <td>0.588888</td>\n      <td>0.694965</td>\n      <td>0.638808</td>\n      <td>-0.293217</td>\n      <td>2.122387</td>\n    </tr>\n  </tbody>\n</table>\n<p>56324 rows × 10 columns</p>\n</div>"
     },
     "execution_count": 45,
     "metadata": {},
     "output_type": "execute_result"
    }
   ],
   "source": [
    "accidents = ac.copy()\n",
    "y = accidents['casualty_severity']\n",
    "accidents = accidents.drop(columns=['casualty_severity'])\n",
    "\n",
    "\n",
    "\n",
    "one_hot_encoder = OneHotEncoder(sparse =True)\n",
    "scaler = StandardScaler()\n",
    "\n",
    "# preprocess the features Outlook and Wind\n",
    "\n",
    "\n",
    "encoded = pd.DataFrame(one_hot_encoder.fit_transform(accidents[one_hot_list]).toarray(),\n",
    "                       columns=one_hot_encoder.get_feature_names(one_hot_list))\n",
    "scaled = pd.DataFrame(scaler.fit_transform(accidents[ordinal_list]),#,\n",
    "                       columns=ordinal_list)\n",
    "\n",
    "\n",
    "#preprocessor = ColumnTransformer(\n",
    "#    transformers=[\n",
    "        # use StandardScaler for Temperature and Humidity\n",
    "        #('scaler', StandardScaler(), ordinal_list),\n",
    "        # use OneHotEncoder for Outlook and Wind\n",
    " #       ('encoder', OneHotEncoder(), one_hot_list)\n",
    "  #      ])\n",
    "\n",
    "# call fit_transform to see the result of applying the ColumnTransformer\n",
    "#preprocessed = pd.DataFrame(preprocessor.fit_transform(accidents).toarray())\n",
    "#display(preprocessed.head())\n",
    "\n",
    "# define a pipeline that contains the ColumnTransformer\n",
    "#pipeline = Pipeline([ ('preprocessing', preprocessor) ])\n",
    "scaled"
   ],
   "metadata": {
    "collapsed": false,
    "pycharm": {
     "name": "#%%\n"
    }
   }
  },
  {
   "cell_type": "code",
   "execution_count": 46,
   "outputs": [
    {
     "data": {
      "text/plain": "       first_road_class_-1  first_road_class_1  first_road_class_2  \\\n0                      0.0                 0.0                 0.0   \n1                      0.0                 0.0                 0.0   \n2                      0.0                 0.0                 0.0   \n3                      0.0                 0.0                 0.0   \n4                      0.0                 0.0                 0.0   \n...                    ...                 ...                 ...   \n56319                  0.0                 0.0                 0.0   \n56320                  0.0                 0.0                 0.0   \n56321                  0.0                 0.0                 0.0   \n56322                  0.0                 0.0                 0.0   \n56323                  0.0                 0.0                 0.0   \n\n       first_road_class_3  first_road_class_4  first_road_class_5  \\\n0                     0.0                 0.0                 1.0   \n1                     0.0                 0.0                 1.0   \n2                     1.0                 0.0                 0.0   \n3                     0.0                 0.0                 1.0   \n4                     1.0                 0.0                 0.0   \n...                   ...                 ...                 ...   \n56319                 1.0                 0.0                 0.0   \n56320                 1.0                 0.0                 0.0   \n56321                 1.0                 0.0                 0.0   \n56322                 1.0                 0.0                 0.0   \n56323                 1.0                 0.0                 0.0   \n\n       road_type_-1  road_type_1  road_type_2  road_type_3  ...  \\\n0               0.0          0.0          0.0          0.0  ...   \n1               0.0          0.0          0.0          0.0  ...   \n2               0.0          0.0          1.0          0.0  ...   \n3               0.0          0.0          0.0          0.0  ...   \n4               1.0          0.0          0.0          0.0  ...   \n...             ...          ...          ...          ...  ...   \n56319           0.0          0.0          0.0          0.0  ...   \n56320           0.0          0.0          0.0          0.0  ...   \n56321           0.0          0.0          0.0          0.0  ...   \n56322           0.0          0.0          0.0          0.0  ...   \n56323           0.0          0.0          0.0          0.0  ...   \n\n       number_of_vehicles  number_of_casualties     month  day_of_week  \\\n0               -0.049628             -0.682890  1.151915    -1.076702   \n1               -0.049628             -0.682890  1.151915    -0.063924   \n2               -0.049628             -0.682890  1.151915    -1.076702   \n3               -0.049628             -0.682890  1.151915    -1.076702   \n4               -0.049628             -0.682890  1.151915    -1.076702   \n...                   ...                   ...       ...          ...   \n56319           -0.049628              0.096962  0.064307     1.455245   \n56320           -0.049628              0.096962  0.064307     1.455245   \n56321           -0.049628             -0.682890  0.064307     1.455245   \n56322           -1.354596             -0.682890  0.064307     1.455245   \n56323            1.255340             -0.682890  0.064307     1.455245   \n\n           time  speed_limit  age_band_of_casualty  age_band_of_driver  \\\n0      1.165830    -1.409165             -0.613268           -0.826244   \n1     -0.477850    -0.743147             -1.049346           -1.314595   \n2      1.007908    -1.409165              0.258887            0.150457   \n3      0.949896    -0.743147              0.258887            0.150457   \n4      0.437454    -1.409165             -0.613268           -0.826244   \n...         ...          ...                   ...                 ...   \n56319  0.721070    -1.409165              1.131043            1.127159   \n56320  0.721070    -1.409165             -0.177190            0.150457   \n56321  0.666280    -0.743147              1.131043            1.127159   \n56322  1.001462     1.254906              0.694965            0.638808   \n56323 -0.171674     0.588888              0.694965            0.638808   \n\n       engine_capacity_cc  age_of_vehicle  \n0               -1.112462       -0.563267  \n1               -1.102348       -0.563267  \n2               -1.102348       -1.195186  \n3               -1.103191       -0.089328  \n4               -1.102348       -0.247308  \n...                   ...             ...  \n56319           -0.366544       -0.879227  \n56320           -0.366544       -1.037206  \n56321            0.054878       -1.037206  \n56322           -0.366544        1.964407  \n56323           -0.293217        2.122387  \n\n[56324 rows x 226 columns]",
      "text/html": "<div>\n<style scoped>\n    .dataframe tbody tr th:only-of-type {\n        vertical-align: middle;\n    }\n\n    .dataframe tbody tr th {\n        vertical-align: top;\n    }\n\n    .dataframe thead th {\n        text-align: right;\n    }\n</style>\n<table border=\"1\" class=\"dataframe\">\n  <thead>\n    <tr style=\"text-align: right;\">\n      <th></th>\n      <th>first_road_class_-1</th>\n      <th>first_road_class_1</th>\n      <th>first_road_class_2</th>\n      <th>first_road_class_3</th>\n      <th>first_road_class_4</th>\n      <th>first_road_class_5</th>\n      <th>road_type_-1</th>\n      <th>road_type_1</th>\n      <th>road_type_2</th>\n      <th>road_type_3</th>\n      <th>...</th>\n      <th>number_of_vehicles</th>\n      <th>number_of_casualties</th>\n      <th>month</th>\n      <th>day_of_week</th>\n      <th>time</th>\n      <th>speed_limit</th>\n      <th>age_band_of_casualty</th>\n      <th>age_band_of_driver</th>\n      <th>engine_capacity_cc</th>\n      <th>age_of_vehicle</th>\n    </tr>\n  </thead>\n  <tbody>\n    <tr>\n      <th>0</th>\n      <td>0.0</td>\n      <td>0.0</td>\n      <td>0.0</td>\n      <td>0.0</td>\n      <td>0.0</td>\n      <td>1.0</td>\n      <td>0.0</td>\n      <td>0.0</td>\n      <td>0.0</td>\n      <td>0.0</td>\n      <td>...</td>\n      <td>-0.049628</td>\n      <td>-0.682890</td>\n      <td>1.151915</td>\n      <td>-1.076702</td>\n      <td>1.165830</td>\n      <td>-1.409165</td>\n      <td>-0.613268</td>\n      <td>-0.826244</td>\n      <td>-1.112462</td>\n      <td>-0.563267</td>\n    </tr>\n    <tr>\n      <th>1</th>\n      <td>0.0</td>\n      <td>0.0</td>\n      <td>0.0</td>\n      <td>0.0</td>\n      <td>0.0</td>\n      <td>1.0</td>\n      <td>0.0</td>\n      <td>0.0</td>\n      <td>0.0</td>\n      <td>0.0</td>\n      <td>...</td>\n      <td>-0.049628</td>\n      <td>-0.682890</td>\n      <td>1.151915</td>\n      <td>-0.063924</td>\n      <td>-0.477850</td>\n      <td>-0.743147</td>\n      <td>-1.049346</td>\n      <td>-1.314595</td>\n      <td>-1.102348</td>\n      <td>-0.563267</td>\n    </tr>\n    <tr>\n      <th>2</th>\n      <td>0.0</td>\n      <td>0.0</td>\n      <td>0.0</td>\n      <td>1.0</td>\n      <td>0.0</td>\n      <td>0.0</td>\n      <td>0.0</td>\n      <td>0.0</td>\n      <td>1.0</td>\n      <td>0.0</td>\n      <td>...</td>\n      <td>-0.049628</td>\n      <td>-0.682890</td>\n      <td>1.151915</td>\n      <td>-1.076702</td>\n      <td>1.007908</td>\n      <td>-1.409165</td>\n      <td>0.258887</td>\n      <td>0.150457</td>\n      <td>-1.102348</td>\n      <td>-1.195186</td>\n    </tr>\n    <tr>\n      <th>3</th>\n      <td>0.0</td>\n      <td>0.0</td>\n      <td>0.0</td>\n      <td>0.0</td>\n      <td>0.0</td>\n      <td>1.0</td>\n      <td>0.0</td>\n      <td>0.0</td>\n      <td>0.0</td>\n      <td>0.0</td>\n      <td>...</td>\n      <td>-0.049628</td>\n      <td>-0.682890</td>\n      <td>1.151915</td>\n      <td>-1.076702</td>\n      <td>0.949896</td>\n      <td>-0.743147</td>\n      <td>0.258887</td>\n      <td>0.150457</td>\n      <td>-1.103191</td>\n      <td>-0.089328</td>\n    </tr>\n    <tr>\n      <th>4</th>\n      <td>0.0</td>\n      <td>0.0</td>\n      <td>0.0</td>\n      <td>1.0</td>\n      <td>0.0</td>\n      <td>0.0</td>\n      <td>1.0</td>\n      <td>0.0</td>\n      <td>0.0</td>\n      <td>0.0</td>\n      <td>...</td>\n      <td>-0.049628</td>\n      <td>-0.682890</td>\n      <td>1.151915</td>\n      <td>-1.076702</td>\n      <td>0.437454</td>\n      <td>-1.409165</td>\n      <td>-0.613268</td>\n      <td>-0.826244</td>\n      <td>-1.102348</td>\n      <td>-0.247308</td>\n    </tr>\n    <tr>\n      <th>...</th>\n      <td>...</td>\n      <td>...</td>\n      <td>...</td>\n      <td>...</td>\n      <td>...</td>\n      <td>...</td>\n      <td>...</td>\n      <td>...</td>\n      <td>...</td>\n      <td>...</td>\n      <td>...</td>\n      <td>...</td>\n      <td>...</td>\n      <td>...</td>\n      <td>...</td>\n      <td>...</td>\n      <td>...</td>\n      <td>...</td>\n      <td>...</td>\n      <td>...</td>\n      <td>...</td>\n    </tr>\n    <tr>\n      <th>56319</th>\n      <td>0.0</td>\n      <td>0.0</td>\n      <td>0.0</td>\n      <td>1.0</td>\n      <td>0.0</td>\n      <td>0.0</td>\n      <td>0.0</td>\n      <td>0.0</td>\n      <td>0.0</td>\n      <td>0.0</td>\n      <td>...</td>\n      <td>-0.049628</td>\n      <td>0.096962</td>\n      <td>0.064307</td>\n      <td>1.455245</td>\n      <td>0.721070</td>\n      <td>-1.409165</td>\n      <td>1.131043</td>\n      <td>1.127159</td>\n      <td>-0.366544</td>\n      <td>-0.879227</td>\n    </tr>\n    <tr>\n      <th>56320</th>\n      <td>0.0</td>\n      <td>0.0</td>\n      <td>0.0</td>\n      <td>1.0</td>\n      <td>0.0</td>\n      <td>0.0</td>\n      <td>0.0</td>\n      <td>0.0</td>\n      <td>0.0</td>\n      <td>0.0</td>\n      <td>...</td>\n      <td>-0.049628</td>\n      <td>0.096962</td>\n      <td>0.064307</td>\n      <td>1.455245</td>\n      <td>0.721070</td>\n      <td>-1.409165</td>\n      <td>-0.177190</td>\n      <td>0.150457</td>\n      <td>-0.366544</td>\n      <td>-1.037206</td>\n    </tr>\n    <tr>\n      <th>56321</th>\n      <td>0.0</td>\n      <td>0.0</td>\n      <td>0.0</td>\n      <td>1.0</td>\n      <td>0.0</td>\n      <td>0.0</td>\n      <td>0.0</td>\n      <td>0.0</td>\n      <td>0.0</td>\n      <td>0.0</td>\n      <td>...</td>\n      <td>-0.049628</td>\n      <td>-0.682890</td>\n      <td>0.064307</td>\n      <td>1.455245</td>\n      <td>0.666280</td>\n      <td>-0.743147</td>\n      <td>1.131043</td>\n      <td>1.127159</td>\n      <td>0.054878</td>\n      <td>-1.037206</td>\n    </tr>\n    <tr>\n      <th>56322</th>\n      <td>0.0</td>\n      <td>0.0</td>\n      <td>0.0</td>\n      <td>1.0</td>\n      <td>0.0</td>\n      <td>0.0</td>\n      <td>0.0</td>\n      <td>0.0</td>\n      <td>0.0</td>\n      <td>0.0</td>\n      <td>...</td>\n      <td>-1.354596</td>\n      <td>-0.682890</td>\n      <td>0.064307</td>\n      <td>1.455245</td>\n      <td>1.001462</td>\n      <td>1.254906</td>\n      <td>0.694965</td>\n      <td>0.638808</td>\n      <td>-0.366544</td>\n      <td>1.964407</td>\n    </tr>\n    <tr>\n      <th>56323</th>\n      <td>0.0</td>\n      <td>0.0</td>\n      <td>0.0</td>\n      <td>1.0</td>\n      <td>0.0</td>\n      <td>0.0</td>\n      <td>0.0</td>\n      <td>0.0</td>\n      <td>0.0</td>\n      <td>0.0</td>\n      <td>...</td>\n      <td>1.255340</td>\n      <td>-0.682890</td>\n      <td>0.064307</td>\n      <td>1.455245</td>\n      <td>-0.171674</td>\n      <td>0.588888</td>\n      <td>0.694965</td>\n      <td>0.638808</td>\n      <td>-0.293217</td>\n      <td>2.122387</td>\n    </tr>\n  </tbody>\n</table>\n<p>56324 rows × 226 columns</p>\n</div>"
     },
     "execution_count": 46,
     "metadata": {},
     "output_type": "execute_result"
    }
   ],
   "source": [
    "accidents = accidents.drop(columns=one_hot_list)\n",
    "accidents = accidents.drop(columns = ordinal_list)\n",
    "accidents = accidents.join(encoded)\n",
    "accidents = accidents.join(scaled)\n",
    "accidents"
   ],
   "metadata": {
    "collapsed": false,
    "pycharm": {
     "name": "#%%\n"
    }
   }
  },
  {
   "cell_type": "markdown",
   "source": [
    "# First Splits and Models"
   ],
   "metadata": {
    "collapsed": false
   }
  },
  {
   "cell_type": "code",
   "execution_count": 46,
   "outputs": [],
   "source": [],
   "metadata": {
    "collapsed": false,
    "pycharm": {
     "name": "#%%\n"
    }
   }
  },
  {
   "cell_type": "code",
   "execution_count": 47,
   "outputs": [
    {
     "data": {
      "text/plain": "0        1\n1        1\n2        0\n3        0\n4        0\n        ..\n56319    0\n56320    0\n56321    0\n56322    1\n56323    1\nName: casualty_severity, Length: 56324, dtype: int64"
     },
     "execution_count": 47,
     "metadata": {},
     "output_type": "execute_result"
    }
   ],
   "source": [
    "y"
   ],
   "metadata": {
    "collapsed": false,
    "pycharm": {
     "name": "#%%\n"
    }
   }
  },
  {
   "cell_type": "code",
   "execution_count": 48,
   "outputs": [
    {
     "data": {
      "text/plain": "       first_road_class_-1  first_road_class_1  first_road_class_2  \\\n0                      0.0                 0.0                 0.0   \n1                      0.0                 0.0                 0.0   \n2                      0.0                 0.0                 0.0   \n3                      0.0                 0.0                 0.0   \n4                      0.0                 0.0                 0.0   \n...                    ...                 ...                 ...   \n56319                  0.0                 0.0                 0.0   \n56320                  0.0                 0.0                 0.0   \n56321                  0.0                 0.0                 0.0   \n56322                  0.0                 0.0                 0.0   \n56323                  0.0                 0.0                 0.0   \n\n       first_road_class_3  first_road_class_4  first_road_class_5  \\\n0                     0.0                 0.0                 1.0   \n1                     0.0                 0.0                 1.0   \n2                     1.0                 0.0                 0.0   \n3                     0.0                 0.0                 1.0   \n4                     1.0                 0.0                 0.0   \n...                   ...                 ...                 ...   \n56319                 1.0                 0.0                 0.0   \n56320                 1.0                 0.0                 0.0   \n56321                 1.0                 0.0                 0.0   \n56322                 1.0                 0.0                 0.0   \n56323                 1.0                 0.0                 0.0   \n\n       road_type_-1  road_type_1  road_type_2  road_type_3  ...  \\\n0               0.0          0.0          0.0          0.0  ...   \n1               0.0          0.0          0.0          0.0  ...   \n2               0.0          0.0          1.0          0.0  ...   \n3               0.0          0.0          0.0          0.0  ...   \n4               1.0          0.0          0.0          0.0  ...   \n...             ...          ...          ...          ...  ...   \n56319           0.0          0.0          0.0          0.0  ...   \n56320           0.0          0.0          0.0          0.0  ...   \n56321           0.0          0.0          0.0          0.0  ...   \n56322           0.0          0.0          0.0          0.0  ...   \n56323           0.0          0.0          0.0          0.0  ...   \n\n       number_of_vehicles  number_of_casualties     month  day_of_week  \\\n0               -0.049628             -0.682890  1.151915    -1.076702   \n1               -0.049628             -0.682890  1.151915    -0.063924   \n2               -0.049628             -0.682890  1.151915    -1.076702   \n3               -0.049628             -0.682890  1.151915    -1.076702   \n4               -0.049628             -0.682890  1.151915    -1.076702   \n...                   ...                   ...       ...          ...   \n56319           -0.049628              0.096962  0.064307     1.455245   \n56320           -0.049628              0.096962  0.064307     1.455245   \n56321           -0.049628             -0.682890  0.064307     1.455245   \n56322           -1.354596             -0.682890  0.064307     1.455245   \n56323            1.255340             -0.682890  0.064307     1.455245   \n\n           time  speed_limit  age_band_of_casualty  age_band_of_driver  \\\n0      1.165830    -1.409165             -0.613268           -0.826244   \n1     -0.477850    -0.743147             -1.049346           -1.314595   \n2      1.007908    -1.409165              0.258887            0.150457   \n3      0.949896    -0.743147              0.258887            0.150457   \n4      0.437454    -1.409165             -0.613268           -0.826244   \n...         ...          ...                   ...                 ...   \n56319  0.721070    -1.409165              1.131043            1.127159   \n56320  0.721070    -1.409165             -0.177190            0.150457   \n56321  0.666280    -0.743147              1.131043            1.127159   \n56322  1.001462     1.254906              0.694965            0.638808   \n56323 -0.171674     0.588888              0.694965            0.638808   \n\n       engine_capacity_cc  age_of_vehicle  \n0               -1.112462       -0.563267  \n1               -1.102348       -0.563267  \n2               -1.102348       -1.195186  \n3               -1.103191       -0.089328  \n4               -1.102348       -0.247308  \n...                   ...             ...  \n56319           -0.366544       -0.879227  \n56320           -0.366544       -1.037206  \n56321            0.054878       -1.037206  \n56322           -0.366544        1.964407  \n56323           -0.293217        2.122387  \n\n[56324 rows x 226 columns]",
      "text/html": "<div>\n<style scoped>\n    .dataframe tbody tr th:only-of-type {\n        vertical-align: middle;\n    }\n\n    .dataframe tbody tr th {\n        vertical-align: top;\n    }\n\n    .dataframe thead th {\n        text-align: right;\n    }\n</style>\n<table border=\"1\" class=\"dataframe\">\n  <thead>\n    <tr style=\"text-align: right;\">\n      <th></th>\n      <th>first_road_class_-1</th>\n      <th>first_road_class_1</th>\n      <th>first_road_class_2</th>\n      <th>first_road_class_3</th>\n      <th>first_road_class_4</th>\n      <th>first_road_class_5</th>\n      <th>road_type_-1</th>\n      <th>road_type_1</th>\n      <th>road_type_2</th>\n      <th>road_type_3</th>\n      <th>...</th>\n      <th>number_of_vehicles</th>\n      <th>number_of_casualties</th>\n      <th>month</th>\n      <th>day_of_week</th>\n      <th>time</th>\n      <th>speed_limit</th>\n      <th>age_band_of_casualty</th>\n      <th>age_band_of_driver</th>\n      <th>engine_capacity_cc</th>\n      <th>age_of_vehicle</th>\n    </tr>\n  </thead>\n  <tbody>\n    <tr>\n      <th>0</th>\n      <td>0.0</td>\n      <td>0.0</td>\n      <td>0.0</td>\n      <td>0.0</td>\n      <td>0.0</td>\n      <td>1.0</td>\n      <td>0.0</td>\n      <td>0.0</td>\n      <td>0.0</td>\n      <td>0.0</td>\n      <td>...</td>\n      <td>-0.049628</td>\n      <td>-0.682890</td>\n      <td>1.151915</td>\n      <td>-1.076702</td>\n      <td>1.165830</td>\n      <td>-1.409165</td>\n      <td>-0.613268</td>\n      <td>-0.826244</td>\n      <td>-1.112462</td>\n      <td>-0.563267</td>\n    </tr>\n    <tr>\n      <th>1</th>\n      <td>0.0</td>\n      <td>0.0</td>\n      <td>0.0</td>\n      <td>0.0</td>\n      <td>0.0</td>\n      <td>1.0</td>\n      <td>0.0</td>\n      <td>0.0</td>\n      <td>0.0</td>\n      <td>0.0</td>\n      <td>...</td>\n      <td>-0.049628</td>\n      <td>-0.682890</td>\n      <td>1.151915</td>\n      <td>-0.063924</td>\n      <td>-0.477850</td>\n      <td>-0.743147</td>\n      <td>-1.049346</td>\n      <td>-1.314595</td>\n      <td>-1.102348</td>\n      <td>-0.563267</td>\n    </tr>\n    <tr>\n      <th>2</th>\n      <td>0.0</td>\n      <td>0.0</td>\n      <td>0.0</td>\n      <td>1.0</td>\n      <td>0.0</td>\n      <td>0.0</td>\n      <td>0.0</td>\n      <td>0.0</td>\n      <td>1.0</td>\n      <td>0.0</td>\n      <td>...</td>\n      <td>-0.049628</td>\n      <td>-0.682890</td>\n      <td>1.151915</td>\n      <td>-1.076702</td>\n      <td>1.007908</td>\n      <td>-1.409165</td>\n      <td>0.258887</td>\n      <td>0.150457</td>\n      <td>-1.102348</td>\n      <td>-1.195186</td>\n    </tr>\n    <tr>\n      <th>3</th>\n      <td>0.0</td>\n      <td>0.0</td>\n      <td>0.0</td>\n      <td>0.0</td>\n      <td>0.0</td>\n      <td>1.0</td>\n      <td>0.0</td>\n      <td>0.0</td>\n      <td>0.0</td>\n      <td>0.0</td>\n      <td>...</td>\n      <td>-0.049628</td>\n      <td>-0.682890</td>\n      <td>1.151915</td>\n      <td>-1.076702</td>\n      <td>0.949896</td>\n      <td>-0.743147</td>\n      <td>0.258887</td>\n      <td>0.150457</td>\n      <td>-1.103191</td>\n      <td>-0.089328</td>\n    </tr>\n    <tr>\n      <th>4</th>\n      <td>0.0</td>\n      <td>0.0</td>\n      <td>0.0</td>\n      <td>1.0</td>\n      <td>0.0</td>\n      <td>0.0</td>\n      <td>1.0</td>\n      <td>0.0</td>\n      <td>0.0</td>\n      <td>0.0</td>\n      <td>...</td>\n      <td>-0.049628</td>\n      <td>-0.682890</td>\n      <td>1.151915</td>\n      <td>-1.076702</td>\n      <td>0.437454</td>\n      <td>-1.409165</td>\n      <td>-0.613268</td>\n      <td>-0.826244</td>\n      <td>-1.102348</td>\n      <td>-0.247308</td>\n    </tr>\n    <tr>\n      <th>...</th>\n      <td>...</td>\n      <td>...</td>\n      <td>...</td>\n      <td>...</td>\n      <td>...</td>\n      <td>...</td>\n      <td>...</td>\n      <td>...</td>\n      <td>...</td>\n      <td>...</td>\n      <td>...</td>\n      <td>...</td>\n      <td>...</td>\n      <td>...</td>\n      <td>...</td>\n      <td>...</td>\n      <td>...</td>\n      <td>...</td>\n      <td>...</td>\n      <td>...</td>\n      <td>...</td>\n    </tr>\n    <tr>\n      <th>56319</th>\n      <td>0.0</td>\n      <td>0.0</td>\n      <td>0.0</td>\n      <td>1.0</td>\n      <td>0.0</td>\n      <td>0.0</td>\n      <td>0.0</td>\n      <td>0.0</td>\n      <td>0.0</td>\n      <td>0.0</td>\n      <td>...</td>\n      <td>-0.049628</td>\n      <td>0.096962</td>\n      <td>0.064307</td>\n      <td>1.455245</td>\n      <td>0.721070</td>\n      <td>-1.409165</td>\n      <td>1.131043</td>\n      <td>1.127159</td>\n      <td>-0.366544</td>\n      <td>-0.879227</td>\n    </tr>\n    <tr>\n      <th>56320</th>\n      <td>0.0</td>\n      <td>0.0</td>\n      <td>0.0</td>\n      <td>1.0</td>\n      <td>0.0</td>\n      <td>0.0</td>\n      <td>0.0</td>\n      <td>0.0</td>\n      <td>0.0</td>\n      <td>0.0</td>\n      <td>...</td>\n      <td>-0.049628</td>\n      <td>0.096962</td>\n      <td>0.064307</td>\n      <td>1.455245</td>\n      <td>0.721070</td>\n      <td>-1.409165</td>\n      <td>-0.177190</td>\n      <td>0.150457</td>\n      <td>-0.366544</td>\n      <td>-1.037206</td>\n    </tr>\n    <tr>\n      <th>56321</th>\n      <td>0.0</td>\n      <td>0.0</td>\n      <td>0.0</td>\n      <td>1.0</td>\n      <td>0.0</td>\n      <td>0.0</td>\n      <td>0.0</td>\n      <td>0.0</td>\n      <td>0.0</td>\n      <td>0.0</td>\n      <td>...</td>\n      <td>-0.049628</td>\n      <td>-0.682890</td>\n      <td>0.064307</td>\n      <td>1.455245</td>\n      <td>0.666280</td>\n      <td>-0.743147</td>\n      <td>1.131043</td>\n      <td>1.127159</td>\n      <td>0.054878</td>\n      <td>-1.037206</td>\n    </tr>\n    <tr>\n      <th>56322</th>\n      <td>0.0</td>\n      <td>0.0</td>\n      <td>0.0</td>\n      <td>1.0</td>\n      <td>0.0</td>\n      <td>0.0</td>\n      <td>0.0</td>\n      <td>0.0</td>\n      <td>0.0</td>\n      <td>0.0</td>\n      <td>...</td>\n      <td>-1.354596</td>\n      <td>-0.682890</td>\n      <td>0.064307</td>\n      <td>1.455245</td>\n      <td>1.001462</td>\n      <td>1.254906</td>\n      <td>0.694965</td>\n      <td>0.638808</td>\n      <td>-0.366544</td>\n      <td>1.964407</td>\n    </tr>\n    <tr>\n      <th>56323</th>\n      <td>0.0</td>\n      <td>0.0</td>\n      <td>0.0</td>\n      <td>1.0</td>\n      <td>0.0</td>\n      <td>0.0</td>\n      <td>0.0</td>\n      <td>0.0</td>\n      <td>0.0</td>\n      <td>0.0</td>\n      <td>...</td>\n      <td>1.255340</td>\n      <td>-0.682890</td>\n      <td>0.064307</td>\n      <td>1.455245</td>\n      <td>-0.171674</td>\n      <td>0.588888</td>\n      <td>0.694965</td>\n      <td>0.638808</td>\n      <td>-0.293217</td>\n      <td>2.122387</td>\n    </tr>\n  </tbody>\n</table>\n<p>56324 rows × 226 columns</p>\n</div>"
     },
     "execution_count": 48,
     "metadata": {},
     "output_type": "execute_result"
    }
   ],
   "source": [
    "accidents"
   ],
   "metadata": {
    "collapsed": false,
    "pycharm": {
     "name": "#%%\n"
    }
   }
  },
  {
   "cell_type": "code",
   "execution_count": 49,
   "outputs": [],
   "source": [
    "#StandardScaling\n",
    "#scaler = StandardScaler()\n",
    "#scaler.fit_transform(accidents)"
   ],
   "metadata": {
    "collapsed": false,
    "pycharm": {
     "name": "#%%\n"
    }
   }
  },
  {
   "cell_type": "code",
   "execution_count": 50,
   "outputs": [
    {
     "data": {
      "text/plain": "<Figure size 432x288 with 1 Axes>",
      "image/png": "[encoded data removed]"
     },
     "metadata": {
      "needs_background": "light"
     },
     "output_type": "display_data"
    }
   ],
   "source": [
    "#Some Plots\n",
    "\n",
    "#iris = pd.read_csv(\"iris_imbalanced.csv\")\n",
    "\n",
    "\n",
    "class_dist = y.value_counts()\n",
    "plt.bar(class_dist.index, class_dist)\n",
    "plt.ylabel(\"Frequency\")\n",
    "plt.show()"
   ],
   "metadata": {
    "collapsed": false,
    "pycharm": {
     "name": "#%%\n"
    }
   }
  },
  {
   "cell_type": "code",
   "execution_count": 51,
   "outputs": [
    {
     "data": {
      "text/plain": "<Figure size 432x288 with 1 Axes>",
      "image/png": "[encoded data removed]"
     },
     "metadata": {
      "needs_background": "light"
     },
     "output_type": "display_data"
    }
   ],
   "source": [
    "#Undersampling/Oversampling:\n",
    "\n",
    "sampler = RandomOverSampler()\n",
    "#sampler = RandomUnderSampler()\n",
    "acc_balanced_data, acc_balanced_target = sampler.fit_resample(accidents, y)\n",
    "\n",
    "class_dist = pd.Series(acc_balanced_target).value_counts()\n",
    "plt.bar(class_dist.index, class_dist)\n",
    "plt.ylabel(\"Frequency\")\n",
    "plt.show()"
   ],
   "metadata": {
    "collapsed": false,
    "pycharm": {
     "name": "#%%\n"
    }
   }
  },
  {
   "cell_type": "code",
   "execution_count": 52,
   "outputs": [],
   "source": [
    "X_train, X_test, y_train, y_test = train_test_split(acc_balanced_data, acc_balanced_target, test_size=0.2, random_state=42, stratify=acc_balanced_target)"
   ],
   "metadata": {
    "collapsed": false,
    "pycharm": {
     "name": "#%%\n"
    }
   }
  },
  {
   "cell_type": "markdown",
   "source": [
    "# Logistic Regression (Marc)"
   ],
   "metadata": {
    "collapsed": false,
    "pycharm": {
     "name": "#%% md\n"
    }
   }
  },
  {
   "cell_type": "code",
   "source": [
    "weight_estimator = LogisticRegression()\n",
    "weight_estimator.fit(X_train,y_train)"
   ],
   "metadata": {
    "collapsed": false,
    "pycharm": {
     "name": "#%%\n"
    }
   },
   "execution_count": 53,
   "outputs": [
    {
     "name": "stderr",
     "output_type": "stream",
     "text": [
      "C:\\Users\\AS\\anaconda3\\lib\\site-packages\\sklearn\\linear_model\\_logistic.py:763: ConvergenceWarning: lbfgs failed to converge (status=1):\n",
      "STOP: TOTAL NO. of ITERATIONS REACHED LIMIT.\n",
      "\n",
      "Increase the number of iterations (max_iter) or scale the data as shown in:\n",
      "    https://scikit-learn.org/stable/modules/preprocessing.html\n",
      "Please also refer to the documentation for alternative solver options:\n",
      "    https://scikit-learn.org/stable/modules/linear_model.html#logistic-regression\n",
      "  n_iter_i = _check_optimize_result(\n"
     ]
    },
    {
     "data": {
      "text/plain": "LogisticRegression()"
     },
     "execution_count": 53,
     "metadata": {},
     "output_type": "execute_result"
    }
   ]
  },
  {
   "cell_type": "code",
   "execution_count": 54,
   "outputs": [
    {
     "data": {
      "text/plain": "0.6928122000639864"
     },
     "execution_count": 54,
     "metadata": {},
     "output_type": "execute_result"
    }
   ],
   "source": [
    "predictions = weight_estimator.predict(X_test)\n",
    "accuracy_score(y_test,predictions)"
   ],
   "metadata": {
    "collapsed": false,
    "pycharm": {
     "name": "#%%\n"
    }
   }
  },
  {
   "cell_type": "code",
   "execution_count": 55,
   "outputs": [
    {
     "data": {
      "text/plain": "0.6919745495375074"
     },
     "execution_count": 55,
     "metadata": {},
     "output_type": "execute_result"
    }
   ],
   "source": [
    "f1_score(y_test,predictions)"
   ],
   "metadata": {
    "collapsed": false,
    "pycharm": {
     "name": "#%%\n"
    }
   }
  },
  {
   "cell_type": "code",
   "execution_count": 56,
   "outputs": [
    {
     "name": "stdout",
     "output_type": "stream",
     "text": [
      "TP: 6471\n",
      "FN: 2906\n",
      "FP: 2855\n",
      "TN: 6522\n",
      "Precision:  0.6938666094788762\n",
      "Recall:  0.6900927802068892\n"
     ]
    }
   ],
   "source": [
    "tn, fp, fn ,tp = confusion_matrix(y_test,predictions).ravel()\n",
    "\n",
    "print(\"TP:\" , tp)\n",
    "print(\"FN:\" , fn)\n",
    "print(\"FP:\" , fp)\n",
    "print(\"TN:\" , tn)\n",
    "\n",
    "print(\"Precision: \",precision_score(y_test,predictions))\n",
    "print(\"Recall: \", recall_score(y_test,predictions))\n"
   ],
   "metadata": {
    "collapsed": false,
    "pycharm": {
     "name": "#%%\n"
    }
   }
  },
  {
   "cell_type": "markdown",
   "source": [
    "# Random Forrest Classifier (André)"
   ],
   "metadata": {
    "collapsed": false,
    "pycharm": {
     "name": "#%% md\n"
    }
   }
  },
  {
   "cell_type": "code",
   "execution_count": 57,
   "outputs": [],
   "source": [
    "#train_X, val_X, train_y, val_y = train_test_split(X_train, y_train, random_state=1)\n",
    "model = RandomForestClassifier(n_estimators=100,\n",
    "                                  random_state=0).fit(X_train, y_train)"
   ],
   "metadata": {
    "collapsed": false,
    "pycharm": {
     "name": "#%%\n"
    }
   }
  },
  {
   "cell_type": "code",
   "execution_count": 58,
   "outputs": [
    {
     "name": "stdout",
     "output_type": "stream",
     "text": [
      "TP: 9282\n",
      "FN: 95\n",
      "FP: 633\n",
      "TN: 8744\n",
      "Precision:  0.9361573373676249\n",
      "Recall:  0.9898688279833635\n"
     ]
    }
   ],
   "source": [
    "pred = model.predict(X_test)\n",
    "tn, fp, fn ,tp = confusion_matrix(y_test,pred).ravel()\n",
    "\n",
    "print(\"TP:\" , tp)\n",
    "print(\"FN:\" , fn)\n",
    "print(\"FP:\" , fp)\n",
    "print(\"TN:\" , tn)\n",
    "\n",
    "print(\"Precision: \",precision_score(y_test,pred))\n",
    "print(\"Recall: \", recall_score(y_test,pred))"
   ],
   "metadata": {
    "collapsed": false,
    "pycharm": {
     "name": "#%%\n"
    }
   }
  },
  {
   "cell_type": "code",
   "execution_count": 59,
   "outputs": [],
   "source": [
    "#perm = PermutationImportance(model, random_state=1).fit(X_test, y_test)\n",
    "#eli5.show_weights(perm, feature_names = X_test.columns.tolist())"
   ],
   "metadata": {
    "collapsed": false,
    "pycharm": {
     "name": "#%%\n"
    }
   }
  },
  {
   "cell_type": "markdown",
   "source": [
    "# KNN (None)"
   ],
   "metadata": {
    "collapsed": false
   }
  },
  {
   "cell_type": "code",
   "execution_count": 60,
   "outputs": [
    {
     "ename": "MemoryError",
     "evalue": "Unable to allocate 1.00 GiB for an array with shape (1789, 75014) and data type float64",
     "output_type": "error",
     "traceback": [
      "\u001B[1;31m---------------------------------------------------------------------------\u001B[0m",
      "\u001B[1;31mMemoryError\u001B[0m                               Traceback (most recent call last)",
      "\u001B[1;32m<ipython-input-60-522b475f7471>\u001B[0m in \u001B[0;36m<module>\u001B[1;34m\u001B[0m\n\u001B[0;32m      2\u001B[0m \u001B[0mneigh\u001B[0m\u001B[1;33m.\u001B[0m\u001B[0mfit\u001B[0m\u001B[1;33m(\u001B[0m\u001B[0mX_train\u001B[0m\u001B[1;33m,\u001B[0m \u001B[0my_train\u001B[0m\u001B[1;33m)\u001B[0m\u001B[1;33m\u001B[0m\u001B[1;33m\u001B[0m\u001B[0m\n\u001B[0;32m      3\u001B[0m \u001B[1;31m#NearestNeighbors(n_neighbors=2)\u001B[0m\u001B[1;33m\u001B[0m\u001B[1;33m\u001B[0m\u001B[1;33m\u001B[0m\u001B[0m\n\u001B[1;32m----> 4\u001B[1;33m \u001B[0mA\u001B[0m \u001B[1;33m=\u001B[0m \u001B[0mneigh\u001B[0m\u001B[1;33m.\u001B[0m\u001B[0mkneighbors_graph\u001B[0m\u001B[1;33m(\u001B[0m\u001B[0maccidents\u001B[0m\u001B[1;33m)\u001B[0m\u001B[1;33m\u001B[0m\u001B[1;33m\u001B[0m\u001B[0m\n\u001B[0m\u001B[0;32m      5\u001B[0m \u001B[1;33m\u001B[0m\u001B[0m\n",
      "\u001B[1;32m~\\anaconda3\\lib\\site-packages\\sklearn\\neighbors\\_base.py\u001B[0m in \u001B[0;36mkneighbors_graph\u001B[1;34m(self, X, n_neighbors, mode)\u001B[0m\n\u001B[0;32m    822\u001B[0m         \u001B[1;31m# construct CSR matrix representation of the k-NN graph\u001B[0m\u001B[1;33m\u001B[0m\u001B[1;33m\u001B[0m\u001B[1;33m\u001B[0m\u001B[0m\n\u001B[0;32m    823\u001B[0m         \u001B[1;32mif\u001B[0m \u001B[0mmode\u001B[0m \u001B[1;33m==\u001B[0m \u001B[1;34m'connectivity'\u001B[0m\u001B[1;33m:\u001B[0m\u001B[1;33m\u001B[0m\u001B[1;33m\u001B[0m\u001B[0m\n\u001B[1;32m--> 824\u001B[1;33m             \u001B[0mA_ind\u001B[0m \u001B[1;33m=\u001B[0m \u001B[0mself\u001B[0m\u001B[1;33m.\u001B[0m\u001B[0mkneighbors\u001B[0m\u001B[1;33m(\u001B[0m\u001B[0mX\u001B[0m\u001B[1;33m,\u001B[0m \u001B[0mn_neighbors\u001B[0m\u001B[1;33m,\u001B[0m \u001B[0mreturn_distance\u001B[0m\u001B[1;33m=\u001B[0m\u001B[1;32mFalse\u001B[0m\u001B[1;33m)\u001B[0m\u001B[1;33m\u001B[0m\u001B[1;33m\u001B[0m\u001B[0m\n\u001B[0m\u001B[0;32m    825\u001B[0m             \u001B[0mn_queries\u001B[0m \u001B[1;33m=\u001B[0m \u001B[0mA_ind\u001B[0m\u001B[1;33m.\u001B[0m\u001B[0mshape\u001B[0m\u001B[1;33m[\u001B[0m\u001B[1;36m0\u001B[0m\u001B[1;33m]\u001B[0m\u001B[1;33m\u001B[0m\u001B[1;33m\u001B[0m\u001B[0m\n\u001B[0;32m    826\u001B[0m             \u001B[0mA_data\u001B[0m \u001B[1;33m=\u001B[0m \u001B[0mnp\u001B[0m\u001B[1;33m.\u001B[0m\u001B[0mones\u001B[0m\u001B[1;33m(\u001B[0m\u001B[0mn_queries\u001B[0m \u001B[1;33m*\u001B[0m \u001B[0mn_neighbors\u001B[0m\u001B[1;33m)\u001B[0m\u001B[1;33m\u001B[0m\u001B[1;33m\u001B[0m\u001B[0m\n",
      "\u001B[1;32m~\\anaconda3\\lib\\site-packages\\sklearn\\neighbors\\_base.py\u001B[0m in \u001B[0;36mkneighbors\u001B[1;34m(self, X, n_neighbors, return_distance)\u001B[0m\n\u001B[0;32m    703\u001B[0m                 \u001B[0mkwds\u001B[0m \u001B[1;33m=\u001B[0m \u001B[0mself\u001B[0m\u001B[1;33m.\u001B[0m\u001B[0meffective_metric_params_\u001B[0m\u001B[1;33m\u001B[0m\u001B[1;33m\u001B[0m\u001B[0m\n\u001B[0;32m    704\u001B[0m \u001B[1;33m\u001B[0m\u001B[0m\n\u001B[1;32m--> 705\u001B[1;33m             chunked_results = list(pairwise_distances_chunked(\n\u001B[0m\u001B[0;32m    706\u001B[0m                 \u001B[0mX\u001B[0m\u001B[1;33m,\u001B[0m \u001B[0mself\u001B[0m\u001B[1;33m.\u001B[0m\u001B[0m_fit_X\u001B[0m\u001B[1;33m,\u001B[0m \u001B[0mreduce_func\u001B[0m\u001B[1;33m=\u001B[0m\u001B[0mreduce_func\u001B[0m\u001B[1;33m,\u001B[0m\u001B[1;33m\u001B[0m\u001B[1;33m\u001B[0m\u001B[0m\n\u001B[0;32m    707\u001B[0m                 \u001B[0mmetric\u001B[0m\u001B[1;33m=\u001B[0m\u001B[0mself\u001B[0m\u001B[1;33m.\u001B[0m\u001B[0meffective_metric_\u001B[0m\u001B[1;33m,\u001B[0m \u001B[0mn_jobs\u001B[0m\u001B[1;33m=\u001B[0m\u001B[0mn_jobs\u001B[0m\u001B[1;33m,\u001B[0m\u001B[1;33m\u001B[0m\u001B[1;33m\u001B[0m\u001B[0m\n",
      "\u001B[1;32m~\\anaconda3\\lib\\site-packages\\sklearn\\metrics\\pairwise.py\u001B[0m in \u001B[0;36mpairwise_distances_chunked\u001B[1;34m(X, Y, reduce_func, metric, n_jobs, working_memory, **kwds)\u001B[0m\n\u001B[0;32m   1621\u001B[0m         \u001B[1;32melse\u001B[0m\u001B[1;33m:\u001B[0m\u001B[1;33m\u001B[0m\u001B[1;33m\u001B[0m\u001B[0m\n\u001B[0;32m   1622\u001B[0m             \u001B[0mX_chunk\u001B[0m \u001B[1;33m=\u001B[0m \u001B[0mX\u001B[0m\u001B[1;33m[\u001B[0m\u001B[0msl\u001B[0m\u001B[1;33m]\u001B[0m\u001B[1;33m\u001B[0m\u001B[1;33m\u001B[0m\u001B[0m\n\u001B[1;32m-> 1623\u001B[1;33m         D_chunk = pairwise_distances(X_chunk, Y, metric=metric,\n\u001B[0m\u001B[0;32m   1624\u001B[0m                                      n_jobs=n_jobs, **kwds)\n\u001B[0;32m   1625\u001B[0m         if ((X is Y or Y is None)\n",
      "\u001B[1;32m~\\anaconda3\\lib\\site-packages\\sklearn\\utils\\validation.py\u001B[0m in \u001B[0;36minner_f\u001B[1;34m(*args, **kwargs)\u001B[0m\n\u001B[0;32m     61\u001B[0m             \u001B[0mextra_args\u001B[0m \u001B[1;33m=\u001B[0m \u001B[0mlen\u001B[0m\u001B[1;33m(\u001B[0m\u001B[0margs\u001B[0m\u001B[1;33m)\u001B[0m \u001B[1;33m-\u001B[0m \u001B[0mlen\u001B[0m\u001B[1;33m(\u001B[0m\u001B[0mall_args\u001B[0m\u001B[1;33m)\u001B[0m\u001B[1;33m\u001B[0m\u001B[1;33m\u001B[0m\u001B[0m\n\u001B[0;32m     62\u001B[0m             \u001B[1;32mif\u001B[0m \u001B[0mextra_args\u001B[0m \u001B[1;33m<=\u001B[0m \u001B[1;36m0\u001B[0m\u001B[1;33m:\u001B[0m\u001B[1;33m\u001B[0m\u001B[1;33m\u001B[0m\u001B[0m\n\u001B[1;32m---> 63\u001B[1;33m                 \u001B[1;32mreturn\u001B[0m \u001B[0mf\u001B[0m\u001B[1;33m(\u001B[0m\u001B[1;33m*\u001B[0m\u001B[0margs\u001B[0m\u001B[1;33m,\u001B[0m \u001B[1;33m**\u001B[0m\u001B[0mkwargs\u001B[0m\u001B[1;33m)\u001B[0m\u001B[1;33m\u001B[0m\u001B[1;33m\u001B[0m\u001B[0m\n\u001B[0m\u001B[0;32m     64\u001B[0m \u001B[1;33m\u001B[0m\u001B[0m\n\u001B[0;32m     65\u001B[0m             \u001B[1;31m# extra_args > 0\u001B[0m\u001B[1;33m\u001B[0m\u001B[1;33m\u001B[0m\u001B[1;33m\u001B[0m\u001B[0m\n",
      "\u001B[1;32m~\\anaconda3\\lib\\site-packages\\sklearn\\metrics\\pairwise.py\u001B[0m in \u001B[0;36mpairwise_distances\u001B[1;34m(X, Y, metric, n_jobs, force_all_finite, **kwds)\u001B[0m\n\u001B[0;32m   1788\u001B[0m         \u001B[0mfunc\u001B[0m \u001B[1;33m=\u001B[0m \u001B[0mpartial\u001B[0m\u001B[1;33m(\u001B[0m\u001B[0mdistance\u001B[0m\u001B[1;33m.\u001B[0m\u001B[0mcdist\u001B[0m\u001B[1;33m,\u001B[0m \u001B[0mmetric\u001B[0m\u001B[1;33m=\u001B[0m\u001B[0mmetric\u001B[0m\u001B[1;33m,\u001B[0m \u001B[1;33m**\u001B[0m\u001B[0mkwds\u001B[0m\u001B[1;33m)\u001B[0m\u001B[1;33m\u001B[0m\u001B[1;33m\u001B[0m\u001B[0m\n\u001B[0;32m   1789\u001B[0m \u001B[1;33m\u001B[0m\u001B[0m\n\u001B[1;32m-> 1790\u001B[1;33m     \u001B[1;32mreturn\u001B[0m \u001B[0m_parallel_pairwise\u001B[0m\u001B[1;33m(\u001B[0m\u001B[0mX\u001B[0m\u001B[1;33m,\u001B[0m \u001B[0mY\u001B[0m\u001B[1;33m,\u001B[0m \u001B[0mfunc\u001B[0m\u001B[1;33m,\u001B[0m \u001B[0mn_jobs\u001B[0m\u001B[1;33m,\u001B[0m \u001B[1;33m**\u001B[0m\u001B[0mkwds\u001B[0m\u001B[1;33m)\u001B[0m\u001B[1;33m\u001B[0m\u001B[1;33m\u001B[0m\u001B[0m\n\u001B[0m\u001B[0;32m   1791\u001B[0m \u001B[1;33m\u001B[0m\u001B[0m\n\u001B[0;32m   1792\u001B[0m \u001B[1;33m\u001B[0m\u001B[0m\n",
      "\u001B[1;32m~\\anaconda3\\lib\\site-packages\\sklearn\\metrics\\pairwise.py\u001B[0m in \u001B[0;36m_parallel_pairwise\u001B[1;34m(X, Y, func, n_jobs, **kwds)\u001B[0m\n\u001B[0;32m   1357\u001B[0m \u001B[1;33m\u001B[0m\u001B[0m\n\u001B[0;32m   1358\u001B[0m     \u001B[1;32mif\u001B[0m \u001B[0meffective_n_jobs\u001B[0m\u001B[1;33m(\u001B[0m\u001B[0mn_jobs\u001B[0m\u001B[1;33m)\u001B[0m \u001B[1;33m==\u001B[0m \u001B[1;36m1\u001B[0m\u001B[1;33m:\u001B[0m\u001B[1;33m\u001B[0m\u001B[1;33m\u001B[0m\u001B[0m\n\u001B[1;32m-> 1359\u001B[1;33m         \u001B[1;32mreturn\u001B[0m \u001B[0mfunc\u001B[0m\u001B[1;33m(\u001B[0m\u001B[0mX\u001B[0m\u001B[1;33m,\u001B[0m \u001B[0mY\u001B[0m\u001B[1;33m,\u001B[0m \u001B[1;33m**\u001B[0m\u001B[0mkwds\u001B[0m\u001B[1;33m)\u001B[0m\u001B[1;33m\u001B[0m\u001B[1;33m\u001B[0m\u001B[0m\n\u001B[0m\u001B[0;32m   1360\u001B[0m \u001B[1;33m\u001B[0m\u001B[0m\n\u001B[0;32m   1361\u001B[0m     \u001B[1;31m# enforce a threading backend to prevent data communication overhead\u001B[0m\u001B[1;33m\u001B[0m\u001B[1;33m\u001B[0m\u001B[1;33m\u001B[0m\u001B[0m\n",
      "\u001B[1;32m~\\anaconda3\\lib\\site-packages\\sklearn\\utils\\validation.py\u001B[0m in \u001B[0;36minner_f\u001B[1;34m(*args, **kwargs)\u001B[0m\n\u001B[0;32m     61\u001B[0m             \u001B[0mextra_args\u001B[0m \u001B[1;33m=\u001B[0m \u001B[0mlen\u001B[0m\u001B[1;33m(\u001B[0m\u001B[0margs\u001B[0m\u001B[1;33m)\u001B[0m \u001B[1;33m-\u001B[0m \u001B[0mlen\u001B[0m\u001B[1;33m(\u001B[0m\u001B[0mall_args\u001B[0m\u001B[1;33m)\u001B[0m\u001B[1;33m\u001B[0m\u001B[1;33m\u001B[0m\u001B[0m\n\u001B[0;32m     62\u001B[0m             \u001B[1;32mif\u001B[0m \u001B[0mextra_args\u001B[0m \u001B[1;33m<=\u001B[0m \u001B[1;36m0\u001B[0m\u001B[1;33m:\u001B[0m\u001B[1;33m\u001B[0m\u001B[1;33m\u001B[0m\u001B[0m\n\u001B[1;32m---> 63\u001B[1;33m                 \u001B[1;32mreturn\u001B[0m \u001B[0mf\u001B[0m\u001B[1;33m(\u001B[0m\u001B[1;33m*\u001B[0m\u001B[0margs\u001B[0m\u001B[1;33m,\u001B[0m \u001B[1;33m**\u001B[0m\u001B[0mkwargs\u001B[0m\u001B[1;33m)\u001B[0m\u001B[1;33m\u001B[0m\u001B[1;33m\u001B[0m\u001B[0m\n\u001B[0m\u001B[0;32m     64\u001B[0m \u001B[1;33m\u001B[0m\u001B[0m\n\u001B[0;32m     65\u001B[0m             \u001B[1;31m# extra_args > 0\u001B[0m\u001B[1;33m\u001B[0m\u001B[1;33m\u001B[0m\u001B[1;33m\u001B[0m\u001B[0m\n",
      "\u001B[1;32m~\\anaconda3\\lib\\site-packages\\sklearn\\metrics\\pairwise.py\u001B[0m in \u001B[0;36meuclidean_distances\u001B[1;34m(X, Y, Y_norm_squared, squared, X_norm_squared)\u001B[0m\n\u001B[0;32m    311\u001B[0m     \u001B[1;32melse\u001B[0m\u001B[1;33m:\u001B[0m\u001B[1;33m\u001B[0m\u001B[1;33m\u001B[0m\u001B[0m\n\u001B[0;32m    312\u001B[0m         \u001B[1;31m# if dtype is already float64, no need to chunk and upcast\u001B[0m\u001B[1;33m\u001B[0m\u001B[1;33m\u001B[0m\u001B[1;33m\u001B[0m\u001B[0m\n\u001B[1;32m--> 313\u001B[1;33m         \u001B[0mdistances\u001B[0m \u001B[1;33m=\u001B[0m \u001B[1;33m-\u001B[0m \u001B[1;36m2\u001B[0m \u001B[1;33m*\u001B[0m \u001B[0msafe_sparse_dot\u001B[0m\u001B[1;33m(\u001B[0m\u001B[0mX\u001B[0m\u001B[1;33m,\u001B[0m \u001B[0mY\u001B[0m\u001B[1;33m.\u001B[0m\u001B[0mT\u001B[0m\u001B[1;33m,\u001B[0m \u001B[0mdense_output\u001B[0m\u001B[1;33m=\u001B[0m\u001B[1;32mTrue\u001B[0m\u001B[1;33m)\u001B[0m\u001B[1;33m\u001B[0m\u001B[1;33m\u001B[0m\u001B[0m\n\u001B[0m\u001B[0;32m    314\u001B[0m         \u001B[0mdistances\u001B[0m \u001B[1;33m+=\u001B[0m \u001B[0mXX\u001B[0m\u001B[1;33m\u001B[0m\u001B[1;33m\u001B[0m\u001B[0m\n\u001B[0;32m    315\u001B[0m         \u001B[0mdistances\u001B[0m \u001B[1;33m+=\u001B[0m \u001B[0mYY\u001B[0m\u001B[1;33m\u001B[0m\u001B[1;33m\u001B[0m\u001B[0m\n",
      "\u001B[1;31mMemoryError\u001B[0m: Unable to allocate 1.00 GiB for an array with shape (1789, 75014) and data type float64"
     ]
    }
   ],
   "source": [
    "neigh = NearestNeighbors(n_neighbors=5)\n",
    "neigh.fit(X_train, y_train)\n",
    "#NearestNeighbors(n_neighbors=2)\n",
    "A = neigh.kneighbors_graph(accidents)"
   ],
   "metadata": {
    "collapsed": false,
    "pycharm": {
     "name": "#%%\n"
    }
   }
  },
  {
   "cell_type": "markdown",
   "source": [
    "# Neural Networks (Tolga)"
   ],
   "metadata": {
    "collapsed": false,
    "pycharm": {
     "name": "#%% md\n"
    }
   }
  },
  {
   "cell_type": "code",
   "execution_count": null,
   "outputs": [],
   "source": [
    "clf = MLPClassifier(hidden_layer_sizes=(100, 100, 100), activation='relu',\n",
    "learning_rate_init=1e-3, batch_size=64, verbose=True,\n",
    "early_stopping=True, random_state=1234)"
   ],
   "metadata": {
    "collapsed": false,
    "pycharm": {
     "name": "#%%\n"
    }
   }
  },
  {
   "cell_type": "code",
   "execution_count": null,
   "outputs": [],
   "source": [
    "clf.fit(X_train, y_train)\n",
    "prediction = clf.predict(X_test)\n",
    "print(classification_report(y_test, prediction))"
   ],
   "metadata": {
    "collapsed": false,
    "pycharm": {
     "name": "#%%\n"
    }
   }
  },
  {
   "cell_type": "markdown",
   "source": [
    "# EM / SVD / ... (Tobi)"
   ],
   "metadata": {
    "collapsed": false,
    "pycharm": {
     "name": "#%% md\n"
    }
   }
  }
 ],
 "metadata": {
  "kernelspec": {
   "display_name": "Python 3",
   "language": "python",
   "name": "python3"
  },
  "language_info": {
   "codemirror_mode": {
    "name": "ipython",
    "version": 2
   },
   "file_extension": ".py",
   "mimetype": "text/x-python",
   "name": "python",
   "nbconvert_exporter": "python",
   "pygments_lexer": "ipython2",
   "version": "2.7.6"
  }
 },
 "nbformat": 4,
 "nbformat_minor": 0
}